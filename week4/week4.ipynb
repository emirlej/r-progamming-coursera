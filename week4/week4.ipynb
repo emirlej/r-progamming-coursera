{
 "cells": [
  {
   "cell_type": "markdown",
   "metadata": {
    "collapsed": true
   },
   "source": [
    "# str function\n",
    "- diagnostic function and an alternative to summary.\n",
    "- well suited for compactly display contents of lists\n",
    "- roughlt one line per basic object.\n",
    "\n",
    "str tells you what is in the object."
   ]
  },
  {
   "cell_type": "code",
   "execution_count": 1,
   "metadata": {
    "collapsed": true
   },
   "outputs": [],
   "source": [
    "library(datasets)"
   ]
  },
  {
   "cell_type": "code",
   "execution_count": 9,
   "metadata": {
    "collapsed": false
   },
   "outputs": [
    {
     "data": {
      "text/html": [
       "<table>\n",
       "<thead><tr><th></th><th scope=col>Ozone</th><th scope=col>Solar.R</th><th scope=col>Wind</th><th scope=col>Temp</th><th scope=col>Month</th><th scope=col>Day</th></tr></thead>\n",
       "<tbody>\n",
       "\t<tr><th scope=row>1</th><td> 41.0</td><td>190.0</td><td>  7.4</td><td> 67.0</td><td>  5.0</td><td>  1.0</td></tr>\n",
       "\t<tr><th scope=row>2</th><td> 36</td><td>118</td><td>  8</td><td> 72</td><td>  5</td><td>  2</td></tr>\n",
       "\t<tr><th scope=row>3</th><td> 12.0</td><td>149.0</td><td> 12.6</td><td> 74.0</td><td>  5.0</td><td>  3.0</td></tr>\n",
       "\t<tr><th scope=row>4</th><td> 18.0</td><td>313.0</td><td> 11.5</td><td> 62.0</td><td>  5.0</td><td>  4.0</td></tr>\n",
       "\t<tr><th scope=row>5</th><td>  NA</td><td>  NA</td><td>14.3</td><td>56.0</td><td> 5.0</td><td> 5.0</td></tr>\n",
       "\t<tr><th scope=row>6</th><td>28.0</td><td>  NA</td><td>14.9</td><td>66.0</td><td> 5.0</td><td> 6.0</td></tr>\n",
       "</tbody>\n",
       "</table>\n"
      ],
      "text/latex": [
       "\\begin{tabular}{r|llllll}\n",
       "  & Ozone & Solar.R & Wind & Temp & Month & Day\\\\\n",
       "\\hline\n",
       "\t1 &  41.0 & 190.0 &   7.4 &  67.0 &   5.0 &   1.0\\\\\n",
       "\t2 &  36 & 118 &   8 &  72 &   5 &   2\\\\\n",
       "\t3 &  12.0 & 149.0 &  12.6 &  74.0 &   5.0 &   3.0\\\\\n",
       "\t4 &  18.0 & 313.0 &  11.5 &  62.0 &   5.0 &   4.0\\\\\n",
       "\t5 &   NA &   NA & 14.3 & 56.0 &  5.0 &  5.0\\\\\n",
       "\t6 & 28.0 &   NA & 14.9 & 66.0 &  5.0 &  6.0\\\\\n",
       "\\end{tabular}\n"
      ],
      "text/plain": [
       "  Ozone Solar.R Wind Temp Month Day\n",
       "1    41     190  7.4   67     5   1\n",
       "2    36     118  8.0   72     5   2\n",
       "3    12     149 12.6   74     5   3\n",
       "4    18     313 11.5   62     5   4\n",
       "5    NA      NA 14.3   56     5   5\n",
       "6    28      NA 14.9   66     5   6"
      ]
     },
     "metadata": {},
     "output_type": "display_data"
    }
   ],
   "source": [
    "head(airquality)"
   ]
  },
  {
   "cell_type": "code",
   "execution_count": 3,
   "metadata": {
    "collapsed": false
   },
   "outputs": [
    {
     "data": {
      "text/plain": [
       "     Ozone           Solar.R           Wind             Temp      \n",
       " Min.   :  1.00   Min.   :  7.0   Min.   : 1.700   Min.   :56.00  \n",
       " 1st Qu.: 18.00   1st Qu.:115.8   1st Qu.: 7.400   1st Qu.:72.00  \n",
       " Median : 31.50   Median :205.0   Median : 9.700   Median :79.00  \n",
       " Mean   : 42.13   Mean   :185.9   Mean   : 9.958   Mean   :77.88  \n",
       " 3rd Qu.: 63.25   3rd Qu.:258.8   3rd Qu.:11.500   3rd Qu.:85.00  \n",
       " Max.   :168.00   Max.   :334.0   Max.   :20.700   Max.   :97.00  \n",
       " NA's   :37       NA's   :7                                       \n",
       "     Month            Day      \n",
       " Min.   :5.000   Min.   : 1.0  \n",
       " 1st Qu.:6.000   1st Qu.: 8.0  \n",
       " Median :7.000   Median :16.0  \n",
       " Mean   :6.993   Mean   :15.8  \n",
       " 3rd Qu.:8.000   3rd Qu.:23.0  \n",
       " Max.   :9.000   Max.   :31.0  \n",
       "                               "
      ]
     },
     "metadata": {},
     "output_type": "display_data"
    }
   ],
   "source": [
    "summary(airquality)"
   ]
  },
  {
   "cell_type": "code",
   "execution_count": 4,
   "metadata": {
    "collapsed": false
   },
   "outputs": [
    {
     "name": "stdout",
     "output_type": "stream",
     "text": [
      "'data.frame':\t153 obs. of  6 variables:\n",
      " $ Ozone  : int  41 36 12 18 NA 28 23 19 8 NA ...\n",
      " $ Solar.R: int  190 118 149 313 NA NA 299 99 19 194 ...\n",
      " $ Wind   : num  7.4 8 12.6 11.5 14.3 14.9 8.6 13.8 20.1 8.6 ...\n",
      " $ Temp   : int  67 72 74 62 56 66 65 59 61 69 ...\n",
      " $ Month  : int  5 5 5 5 5 5 5 5 5 5 ...\n",
      " $ Day    : int  1 2 3 4 5 6 7 8 9 10 ...\n"
     ]
    }
   ],
   "source": [
    "str(airquality)"
   ]
  },
  {
   "cell_type": "code",
   "execution_count": 5,
   "metadata": {
    "collapsed": true
   },
   "outputs": [],
   "source": [
    "x <- rnorm(100, mean = 2)"
   ]
  },
  {
   "cell_type": "code",
   "execution_count": 7,
   "metadata": {
    "collapsed": false
   },
   "outputs": [
    {
     "name": "stdout",
     "output_type": "stream",
     "text": [
      " num [1:100] 2.68 2.28 1.89 2.09 1.96 ...\n"
     ]
    }
   ],
   "source": [
    "str(x) # Displays the "
   ]
  },
  {
   "cell_type": "code",
   "execution_count": 10,
   "metadata": {
    "collapsed": false
   },
   "outputs": [
    {
     "data": {
      "text/plain": [
       "   Min. 1st Qu.  Median    Mean 3rd Qu.    Max. \n",
       " -1.355   1.415   1.967   1.921   2.566   4.314 "
      ]
     },
     "metadata": {},
     "output_type": "display_data"
    }
   ],
   "source": [
    "summary(x)"
   ]
  },
  {
   "cell_type": "code",
   "execution_count": 13,
   "metadata": {
    "collapsed": false
   },
   "outputs": [],
   "source": [
    "m <- matrix(rnorm(100), 10)"
   ]
  },
  {
   "cell_type": "code",
   "execution_count": 15,
   "metadata": {
    "collapsed": false
   },
   "outputs": [
    {
     "name": "stdout",
     "output_type": "stream",
     "text": [
      " num [1:10, 1:10] 0.973 -0.326 -0.535 -0.408 0.45 ...\n"
     ]
    }
   ],
   "source": [
    "str(m)"
   ]
  },
  {
   "cell_type": "code",
   "execution_count": 16,
   "metadata": {
    "collapsed": true
   },
   "outputs": [],
   "source": [
    "s <- split(airquality, airquality$Month)"
   ]
  },
  {
   "cell_type": "code",
   "execution_count": 17,
   "metadata": {
    "collapsed": false
   },
   "outputs": [
    {
     "name": "stdout",
     "output_type": "stream",
     "text": [
      "List of 5\n",
      " $ 5:'data.frame':\t31 obs. of  6 variables:\n",
      "  ..$ Ozone  : int [1:31] 41 36 12 18 NA 28 23 19 8 NA ...\n",
      "  ..$ Solar.R: int [1:31] 190 118 149 313 NA NA 299 99 19 194 ...\n",
      "  ..$ Wind   : num [1:31] 7.4 8 12.6 11.5 14.3 14.9 8.6 13.8 20.1 8.6 ...\n",
      "  ..$ Temp   : int [1:31] 67 72 74 62 56 66 65 59 61 69 ...\n",
      "  ..$ Month  : int [1:31] 5 5 5 5 5 5 5 5 5 5 ...\n",
      "  ..$ Day    : int [1:31] 1 2 3 4 5 6 7 8 9 10 ...\n",
      " $ 6:'data.frame':\t30 obs. of  6 variables:\n",
      "  ..$ Ozone  : int [1:30] NA NA NA NA NA NA 29 NA 71 39 ...\n",
      "  ..$ Solar.R: int [1:30] 286 287 242 186 220 264 127 273 291 323 ...\n",
      "  ..$ Wind   : num [1:30] 8.6 9.7 16.1 9.2 8.6 14.3 9.7 6.9 13.8 11.5 ...\n",
      "  ..$ Temp   : int [1:30] 78 74 67 84 85 79 82 87 90 87 ...\n",
      "  ..$ Month  : int [1:30] 6 6 6 6 6 6 6 6 6 6 ...\n",
      "  ..$ Day    : int [1:30] 1 2 3 4 5 6 7 8 9 10 ...\n",
      " $ 7:'data.frame':\t31 obs. of  6 variables:\n",
      "  ..$ Ozone  : int [1:31] 135 49 32 NA 64 40 77 97 97 85 ...\n",
      "  ..$ Solar.R: int [1:31] 269 248 236 101 175 314 276 267 272 175 ...\n",
      "  ..$ Wind   : num [1:31] 4.1 9.2 9.2 10.9 4.6 10.9 5.1 6.3 5.7 7.4 ...\n",
      "  ..$ Temp   : int [1:31] 84 85 81 84 83 83 88 92 92 89 ...\n",
      "  ..$ Month  : int [1:31] 7 7 7 7 7 7 7 7 7 7 ...\n",
      "  ..$ Day    : int [1:31] 1 2 3 4 5 6 7 8 9 10 ...\n",
      " $ 8:'data.frame':\t31 obs. of  6 variables:\n",
      "  ..$ Ozone  : int [1:31] 39 9 16 78 35 66 122 89 110 NA ...\n",
      "  ..$ Solar.R: int [1:31] 83 24 77 NA NA NA 255 229 207 222 ...\n",
      "  ..$ Wind   : num [1:31] 6.9 13.8 7.4 6.9 7.4 4.6 4 10.3 8 8.6 ...\n",
      "  ..$ Temp   : int [1:31] 81 81 82 86 85 87 89 90 90 92 ...\n",
      "  ..$ Month  : int [1:31] 8 8 8 8 8 8 8 8 8 8 ...\n",
      "  ..$ Day    : int [1:31] 1 2 3 4 5 6 7 8 9 10 ...\n",
      " $ 9:'data.frame':\t30 obs. of  6 variables:\n",
      "  ..$ Ozone  : int [1:30] 96 78 73 91 47 32 20 23 21 24 ...\n",
      "  ..$ Solar.R: int [1:30] 167 197 183 189 95 92 252 220 230 259 ...\n",
      "  ..$ Wind   : num [1:30] 6.9 5.1 2.8 4.6 7.4 15.5 10.9 10.3 10.9 9.7 ...\n",
      "  ..$ Temp   : int [1:30] 91 92 93 93 87 84 80 78 75 73 ...\n",
      "  ..$ Month  : int [1:30] 9 9 9 9 9 9 9 9 9 9 ...\n",
      "  ..$ Day    : int [1:30] 1 2 3 4 5 6 7 8 9 10 ...\n"
     ]
    }
   ],
   "source": [
    "str(s)"
   ]
  },
  {
   "cell_type": "markdown",
   "metadata": {},
   "source": [
    "# Generate random numbers from a linear model\n",
    "\n",
    "Suppose we want to simulate from the following linear model:\n",
    "\n",
    "$$y = \\beta_0 + \\beta_1 x + \\epsilon$$\n",
    "\n",
    "where $\\epsilon \\sim N(0, 2^2)$. Assume $x \\sim N(0, 1^2)$, $\\beta_0 = 0.5$ and $\\beta_1 = 2$"
   ]
  },
  {
   "cell_type": "code",
   "execution_count": 23,
   "metadata": {
    "collapsed": false
   },
   "outputs": [],
   "source": [
    "library(ggplot2)"
   ]
  },
  {
   "cell_type": "code",
   "execution_count": 24,
   "metadata": {
    "collapsed": false
   },
   "outputs": [],
   "source": [
    "set.seed(20)\n",
    "x <- rnorm(100)\n",
    "e <- rnorm(100, 0, 2)\n",
    "y <- 0.5 + 2*x + e"
   ]
  },
  {
   "cell_type": "code",
   "execution_count": 28,
   "metadata": {
    "collapsed": false
   },
   "outputs": [
    {
     "data": {
      "image/png": "[encoded data removed]",
      "text/plain": [
       "plot without title"
      ]
     },
     "metadata": {
      "image/svg+xml": {
       "isolated": true
      }
     },
     "output_type": "display_data"
    }
   ],
   "source": [
    "# We see that the trend is linear\n",
    "plot(x, y)"
   ]
  },
  {
   "cell_type": "code",
   "execution_count": 30,
   "metadata": {
    "collapsed": true
   },
   "outputs": [],
   "source": [
    "# What if x is binary\n",
    "set.seed(10)\n",
    "x <- rbinom(100, 1, 0.5)\n",
    "e <- rnorm(100, 0, 2)\n",
    "y <- 0.5 + 2*x + e"
   ]
  },
  {
   "cell_type": "code",
   "execution_count": 31,
   "metadata": {
    "collapsed": false
   },
   "outputs": [
    {
     "data": {
      "text/plain": [
       "   Min. 1st Qu.  Median    Mean 3rd Qu.    Max. \n",
       "   0.00    0.00    0.00    0.42    1.00    1.00 "
      ]
     },
     "metadata": {},
     "output_type": "display_data"
    }
   ],
   "source": [
    "summary(x)"
   ]
  },
  {
   "cell_type": "code",
   "execution_count": 33,
   "metadata": {
    "collapsed": false
   },
   "outputs": [
    {
     "data": {
      "image/png": "[encoded data removed]",
      "text/plain": [
       "plot without title"
      ]
     },
     "metadata": {
      "image/svg+xml": {
       "isolated": true
      }
     },
     "output_type": "display_data"
    }
   ],
   "source": [
    "plot(x, y)"
   ]
  },
  {
   "cell_type": "markdown",
   "metadata": {},
   "source": [
    "# Random sampling\n",
    "\n",
    "The sample function draws randomly from a specified set of scalar objects."
   ]
  },
  {
   "cell_type": "code",
   "execution_count": 35,
   "metadata": {
    "collapsed": false
   },
   "outputs": [
    {
     "data": {
      "text/html": [
       "<ol class=list-inline>\n",
       "\t<li>3</li>\n",
       "\t<li>4</li>\n",
       "\t<li>5</li>\n",
       "\t<li>7</li>\n",
       "</ol>\n"
      ],
      "text/latex": [
       "\\begin{enumerate*}\n",
       "\\item 3\n",
       "\\item 4\n",
       "\\item 5\n",
       "\\item 7\n",
       "\\end{enumerate*}\n"
      ],
      "text/markdown": [
       "1. 3\n",
       "2. 4\n",
       "3. 5\n",
       "4. 7\n",
       "\n",
       "\n"
      ],
      "text/plain": [
       "[1] 3 4 5 7"
      ]
     },
     "metadata": {},
     "output_type": "display_data"
    }
   ],
   "source": [
    "set.seed(1)\n",
    "sample(1:10, 4)"
   ]
  },
  {
   "cell_type": "code",
   "execution_count": 37,
   "metadata": {
    "collapsed": false
   },
   "outputs": [
    {
     "data": {
      "text/html": [
       "<ol class=list-inline>\n",
       "\t<li>7</li>\n",
       "\t<li>1</li>\n",
       "\t<li>2</li>\n",
       "\t<li>8</li>\n",
       "</ol>\n"
      ],
      "text/latex": [
       "\\begin{enumerate*}\n",
       "\\item 7\n",
       "\\item 1\n",
       "\\item 2\n",
       "\\item 8\n",
       "\\end{enumerate*}\n"
      ],
      "text/markdown": [
       "1. 7\n",
       "2. 1\n",
       "3. 2\n",
       "4. 8\n",
       "\n",
       "\n"
      ],
      "text/plain": [
       "[1] 7 1 2 8"
      ]
     },
     "metadata": {},
     "output_type": "display_data"
    }
   ],
   "source": [
    "sample(1:10, 4)"
   ]
  },
  {
   "cell_type": "code",
   "execution_count": 39,
   "metadata": {
    "collapsed": false
   },
   "outputs": [
    {
     "data": {
      "text/html": [
       "<ol class=list-inline>\n",
       "\t<li>7</li>\n",
       "\t<li>2</li>\n",
       "\t<li>3</li>\n",
       "\t<li>8</li>\n",
       "\t<li>1</li>\n",
       "\t<li>9</li>\n",
       "\t<li>4</li>\n",
       "\t<li>5</li>\n",
       "\t<li>6</li>\n",
       "\t<li>10</li>\n",
       "</ol>\n"
      ],
      "text/latex": [
       "\\begin{enumerate*}\n",
       "\\item 7\n",
       "\\item 2\n",
       "\\item 3\n",
       "\\item 8\n",
       "\\item 1\n",
       "\\item 9\n",
       "\\item 4\n",
       "\\item 5\n",
       "\\item 6\n",
       "\\item 10\n",
       "\\end{enumerate*}\n"
      ],
      "text/markdown": [
       "1. 7\n",
       "2. 2\n",
       "3. 3\n",
       "4. 8\n",
       "5. 1\n",
       "6. 9\n",
       "7. 4\n",
       "8. 5\n",
       "9. 6\n",
       "10. 10\n",
       "\n",
       "\n"
      ],
      "text/plain": [
       " [1]  7  2  3  8  1  9  4  5  6 10"
      ]
     },
     "metadata": {},
     "output_type": "display_data"
    }
   ],
   "source": [
    "sample(1:10)"
   ]
  },
  {
   "cell_type": "code",
   "execution_count": 41,
   "metadata": {
    "collapsed": false
   },
   "outputs": [
    {
     "data": {
      "text/html": [
       "<ol class=list-inline>\n",
       "\t<li>8</li>\n",
       "\t<li>6</li>\n",
       "\t<li>6</li>\n",
       "\t<li>8</li>\n",
       "\t<li>1</li>\n",
       "\t<li>5</li>\n",
       "\t<li>8</li>\n",
       "\t<li>7</li>\n",
       "\t<li>5</li>\n",
       "\t<li>9</li>\n",
       "</ol>\n"
      ],
      "text/latex": [
       "\\begin{enumerate*}\n",
       "\\item 8\n",
       "\\item 6\n",
       "\\item 6\n",
       "\\item 8\n",
       "\\item 1\n",
       "\\item 5\n",
       "\\item 8\n",
       "\\item 7\n",
       "\\item 5\n",
       "\\item 9\n",
       "\\end{enumerate*}\n"
      ],
      "text/markdown": [
       "1. 8\n",
       "2. 6\n",
       "3. 6\n",
       "4. 8\n",
       "5. 1\n",
       "6. 5\n",
       "7. 8\n",
       "8. 7\n",
       "9. 5\n",
       "10. 9\n",
       "\n",
       "\n"
      ],
      "text/plain": [
       " [1] 8 6 6 8 1 5 8 7 5 9"
      ]
     },
     "metadata": {},
     "output_type": "display_data"
    }
   ],
   "source": [
    "sample(1:10, replace=TRUE)"
   ]
  },
  {
   "cell_type": "code",
   "execution_count": null,
   "metadata": {
    "collapsed": true
   },
   "outputs": [],
   "source": []
  }
 ],
 "metadata": {
  "anaconda-cloud": {},
  "kernelspec": {
   "display_name": "R",
   "language": "R",
   "name": "ir"
  },
  "language_info": {
   "codemirror_mode": "r",
   "file_extension": ".r",
   "mimetype": "text/x-r-source",
   "name": "R",
   "pygments_lexer": "r",
   "version": "3.3.1"
  }
 },
 "nbformat": 4,
 "nbformat_minor": 0
}
