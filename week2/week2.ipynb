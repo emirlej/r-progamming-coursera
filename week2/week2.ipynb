{
 "cells": [
  {
   "cell_type": "markdown",
   "metadata": {
    "collapsed": true
   },
   "source": [
    "# Programming with R @ Coursera.\n",
    "\n",
    "This week is all about functions and about controlling the flow of an R program. \n",
    "We start with control structures (like if-else, and for loops) and then move on to writing functions. \n",
    "Next, we discuss the lexical scoping features of the language and how they can be used in interesting ways, \n",
    "particularly for statistical applications.\n",
    "\n",
    "## Learning Objectives\n",
    "\n",
    "By the end of this week you should be able to:\n",
    "\n",
    "- Write an if-else expression\n",
    "- Write a for loop, a while loop, and a repeat loop\n",
    "- Define a function in R and specify its return value [see Functions Part 1 and Part 2]\n",
    "- Describe how R binds a value to a symbol via the search list\n",
    "- Define what lexical scoping is with respect to how the value of free variables are resolved in R\n",
    "- Describe the difference between lexical scoping and dynamic scoping rules\n",
    "- Convert a character string representing a date/time into an R datetime object. [see Dates and Times]"
   ]
  },
  {
   "cell_type": "markdown",
   "metadata": {},
   "source": [
    "# If-else"
   ]
  },
  {
   "cell_type": "code",
   "execution_count": 1,
   "metadata": {
    "collapsed": false
   },
   "outputs": [
    {
     "data": {
      "text/html": [
       "10"
      ],
      "text/latex": [
       "10"
      ],
      "text/markdown": [
       "10"
      ],
      "text/plain": [
       "[1] 10"
      ]
     },
     "metadata": {},
     "output_type": "display_data"
    }
   ],
   "source": [
    "x <- 5\n",
    "\n",
    "if ( x > 3 ) {\n",
    "    y <- 10 \n",
    "} else { ## Else has to be right after the {\n",
    "    y <- 0    \n",
    "}\n",
    "\n",
    "y"
   ]
  },
  {
   "cell_type": "code",
   "execution_count": 2,
   "metadata": {
    "collapsed": false
   },
   "outputs": [
    {
     "name": "stdout",
     "output_type": "stream",
     "text": [
      "[1] \"Hello\"\n",
      "[1] \"World\"\n"
     ]
    }
   ],
   "source": [
    "if ( 5 > 3) {\n",
    "    print(\"Hello\")\n",
    "}\n",
    "\n",
    "if ( 6 == 6 ) {\n",
    "    print(\"World\")\n",
    "}  "
   ]
  },
  {
   "cell_type": "markdown",
   "metadata": {},
   "source": [
    "# For loop"
   ]
  },
  {
   "cell_type": "code",
   "execution_count": 3,
   "metadata": {
    "collapsed": false
   },
   "outputs": [
    {
     "name": "stdout",
     "output_type": "stream",
     "text": [
      "[1] 1\n",
      "[1] 2\n",
      "i=3 i^2=9\n",
      "i=4 i^2=16\n",
      "i=5 i^2=25\n",
      "i=6 i^2=36\n",
      "i=7 i^2=49\n",
      "i=8 i^2=64\n"
     ]
    },
    {
     "name": "stderr",
     "output_type": "stream",
     "text": [
      "Warning! The number is greater than 8: 9\n",
      "Warning! The number is greater than 8: 10\n"
     ]
    }
   ],
   "source": [
    "for (i in 1:10) {\n",
    "    if (i < 3) {\n",
    "        print(i) ## Only print one value\n",
    "    } else if (i > 8) {\n",
    "        message(\"Warning! The number is greater than 8: \", i) ## Warning message        \n",
    "    } else {\n",
    "        cat(sprintf(\"i=%i i^2=%i\\n\", i, i^2)) ## Similar to a python string print\n",
    "    }\n",
    "    \n",
    "}"
   ]
  },
  {
   "cell_type": "code",
   "execution_count": 4,
   "metadata": {
    "collapsed": false
   },
   "outputs": [
    {
     "name": "stdout",
     "output_type": "stream",
     "text": [
      "[1] \"a\"\n",
      "[1] \"b\"\n",
      "[1] \"c\"\n",
      "[1] \"d\"\n"
     ]
    }
   ],
   "source": [
    "x <- c(\"a\", \"b\", \"c\", \"d\")\n",
    "\n",
    "# Manually type in the length\n",
    "for (i in 1:4) {\n",
    "    print(x[i])\n",
    "}"
   ]
  },
  {
   "cell_type": "code",
   "execution_count": 5,
   "metadata": {
    "collapsed": false
   },
   "outputs": [
    {
     "name": "stdout",
     "output_type": "stream",
     "text": [
      "[1] \"1\" \"a\"\n",
      "[1] \"2\" \"b\"\n",
      "[1] \"3\" \"c\"\n",
      "[1] \"4\" \"d\"\n"
     ]
    }
   ],
   "source": [
    "# Similar to enumerate in python\n",
    "for (i in seq_along(x)) {\n",
    "    print(c(i, x[i])) # Remember, it makes a vector with similar types\n",
    "}"
   ]
  },
  {
   "cell_type": "code",
   "execution_count": 6,
   "metadata": {
    "collapsed": false
   },
   "outputs": [
    {
     "name": "stdout",
     "output_type": "stream",
     "text": [
      "[1] \"a\"\n",
      "[1] \"b\"\n",
      "[1] \"c\"\n",
      "[1] \"d\"\n"
     ]
    }
   ],
   "source": [
    "for (letter in x) print(letter) # One line, discard the {}"
   ]
  },
  {
   "cell_type": "markdown",
   "metadata": {},
   "source": [
    "## Nested loops"
   ]
  },
  {
   "cell_type": "code",
   "execution_count": 7,
   "metadata": {
    "collapsed": false
   },
   "outputs": [
    {
     "data": {
      "text/html": [
       "<table>\n",
       "<tbody>\n",
       "\t<tr><td>1</td><td>3</td><td>5</td></tr>\n",
       "\t<tr><td>2</td><td>4</td><td>6</td></tr>\n",
       "</tbody>\n",
       "</table>\n"
      ],
      "text/latex": [
       "\\begin{tabular}{lll}\n",
       "\t 1 & 3 & 5\\\\\n",
       "\t 2 & 4 & 6\\\\\n",
       "\\end{tabular}\n"
      ],
      "text/markdown": [
       "1. 1\n",
       "2. 2\n",
       "3. 3\n",
       "4. 4\n",
       "5. 5\n",
       "6. 6\n",
       "\n",
       "\n"
      ],
      "text/plain": [
       "     [,1] [,2] [,3]\n",
       "[1,]    1    3    5\n",
       "[2,]    2    4    6"
      ]
     },
     "metadata": {},
     "output_type": "display_data"
    }
   ],
   "source": [
    "m <- matrix(1:6, 2, 3)\n",
    "m"
   ]
  },
  {
   "cell_type": "code",
   "execution_count": 8,
   "metadata": {
    "collapsed": false
   },
   "outputs": [
    {
     "name": "stdout",
     "output_type": "stream",
     "text": [
      "i=1, j=1, m[i,j]=1\n",
      "i=1, j=2, m[i,j]=3\n",
      "i=1, j=3, m[i,j]=5\n",
      "i=2, j=1, m[i,j]=2\n",
      "i=2, j=2, m[i,j]=4\n",
      "i=2, j=3, m[i,j]=6\n"
     ]
    }
   ],
   "source": [
    "for (i in seq_len(nrow(m))) {\n",
    "    for (j in seq_len(ncol(m))) {\n",
    "        cat(sprintf(\"i=%i, j=%i, m[i,j]=%i\\n\", i, j, m[i, j]))\n",
    "    }\n",
    "}\n",
    "\n",
    "## Can be difficult to read more than 2-3 nested loops"
   ]
  },
  {
   "cell_type": "markdown",
   "metadata": {},
   "source": [
    "# While loop"
   ]
  },
  {
   "cell_type": "code",
   "execution_count": 9,
   "metadata": {
    "collapsed": false
   },
   "outputs": [
    {
     "name": "stdout",
     "output_type": "stream",
     "text": [
      "[1] 0\n",
      "[1] 1\n",
      "[1] 2\n",
      "[1] 3\n",
      "[1] 4\n",
      "[1] 5\n",
      "[1] 6\n",
      "[1] 7\n",
      "[1] 8\n",
      "[1] 9\n"
     ]
    }
   ],
   "source": [
    "counter <- 0\n",
    "while (counter < 10) {\n",
    "    print(counter)\n",
    "    counter <- counter + 1\n",
    "}"
   ]
  },
  {
   "cell_type": "code",
   "execution_count": 10,
   "metadata": {
    "collapsed": false
   },
   "outputs": [
    {
     "name": "stdout",
     "output_type": "stream",
     "text": [
      "[1] 4\n",
      "[1] 3\n"
     ]
    },
    {
     "name": "stderr",
     "output_type": "stream",
     "text": [
      "Number of counts: 2\n"
     ]
    }
   ],
   "source": [
    "## More than one condition\n",
    "z <- 4\n",
    "counter <- 0\n",
    "\n",
    "while (z >= 3 && z <= 10) {\n",
    "    print(z)\n",
    "    coin <- rbinom(n = 1, size = 1, prob = 0.5) ## Either 1 or 0 with equal probability\n",
    "    \n",
    "    if (coin == 1) {\n",
    "        z <- z + 1\n",
    "    } else {\n",
    "        z <- z - 1\n",
    "    }\n",
    "    \n",
    "    counter <- counter + 1\n",
    "}\n",
    "\n",
    "message(\"Number of counts: \", counter)"
   ]
  },
  {
   "cell_type": "markdown",
   "metadata": {},
   "source": [
    "# Repeat\n",
    "Initiates an infinite loop. Only way to exit is to call:\n",
    "\n",
    "Can use a while or a for loop instead of repeat.\n",
    "\n",
    "```r\n",
    "tol <- 1.0E-6\n",
    "\n",
    "repeat {\n",
    "    ## Compute something\n",
    "    x <- x1 - x0 \n",
    "    ## When threshold is met\n",
    "    if (x <= tol) break\n",
    "}\n",
    "```"
   ]
  },
  {
   "cell_type": "markdown",
   "metadata": {},
   "source": [
    "# next, return"
   ]
  },
  {
   "cell_type": "code",
   "execution_count": 11,
   "metadata": {
    "collapsed": true
   },
   "outputs": [],
   "source": [
    "for (i in 1:100) {\n",
    "    if (i <= 20) {\n",
    "        ## Skip the first 20 iterations\n",
    "        next\n",
    "    }\n",
    "    ## Do something\n",
    "}"
   ]
  },
  {
   "cell_type": "markdown",
   "metadata": {},
   "source": [
    "# Functions"
   ]
  },
  {
   "cell_type": "code",
   "execution_count": 12,
   "metadata": {
    "collapsed": true
   },
   "outputs": [],
   "source": [
    "add2 <- function(x, y) {\n",
    "    x + y ## R will always return the last expression\n",
    "}"
   ]
  },
  {
   "cell_type": "code",
   "execution_count": 13,
   "metadata": {
    "collapsed": false
   },
   "outputs": [
    {
     "data": {
      "text/html": [
       "5"
      ],
      "text/latex": [
       "5"
      ],
      "text/markdown": [
       "5"
      ],
      "text/plain": [
       "[1] 5"
      ]
     },
     "metadata": {},
     "output_type": "display_data"
    }
   ],
   "source": [
    "add2(2, 3)"
   ]
  },
  {
   "cell_type": "code",
   "execution_count": 14,
   "metadata": {
    "collapsed": true
   },
   "outputs": [],
   "source": [
    "above10 <- function(x) {\n",
    "    use <- x > 10\n",
    "    x[use]\n",
    "}\n",
    "\n",
    "above <- function(x, n = 10) {\n",
    "    ## Default value for n\n",
    "    use <- x > n\n",
    "    x[use]\n",
    "}"
   ]
  },
  {
   "cell_type": "code",
   "execution_count": 15,
   "metadata": {
    "collapsed": false
   },
   "outputs": [
    {
     "data": {
      "text/html": [
       "<ol class=list-inline>\n",
       "\t<li>16</li>\n",
       "\t<li>17</li>\n",
       "\t<li>18</li>\n",
       "\t<li>19</li>\n",
       "\t<li>20</li>\n",
       "</ol>\n"
      ],
      "text/latex": [
       "\\begin{enumerate*}\n",
       "\\item 16\n",
       "\\item 17\n",
       "\\item 18\n",
       "\\item 19\n",
       "\\item 20\n",
       "\\end{enumerate*}\n"
      ],
      "text/markdown": [
       "1. 16\n",
       "2. 17\n",
       "3. 18\n",
       "4. 19\n",
       "5. 20\n",
       "\n",
       "\n"
      ],
      "text/plain": [
       "[1] 16 17 18 19 20"
      ]
     },
     "metadata": {},
     "output_type": "display_data"
    },
    {
     "data": {
      "text/html": [
       "<ol class=list-inline>\n",
       "\t<li>11</li>\n",
       "\t<li>12</li>\n",
       "\t<li>13</li>\n",
       "\t<li>14</li>\n",
       "\t<li>15</li>\n",
       "\t<li>16</li>\n",
       "\t<li>17</li>\n",
       "\t<li>18</li>\n",
       "\t<li>19</li>\n",
       "\t<li>20</li>\n",
       "</ol>\n"
      ],
      "text/latex": [
       "\\begin{enumerate*}\n",
       "\\item 11\n",
       "\\item 12\n",
       "\\item 13\n",
       "\\item 14\n",
       "\\item 15\n",
       "\\item 16\n",
       "\\item 17\n",
       "\\item 18\n",
       "\\item 19\n",
       "\\item 20\n",
       "\\end{enumerate*}\n"
      ],
      "text/markdown": [
       "1. 11\n",
       "2. 12\n",
       "3. 13\n",
       "4. 14\n",
       "5. 15\n",
       "6. 16\n",
       "7. 17\n",
       "8. 18\n",
       "9. 19\n",
       "10. 20\n",
       "\n",
       "\n"
      ],
      "text/plain": [
       " [1] 11 12 13 14 15 16 17 18 19 20"
      ]
     },
     "metadata": {},
     "output_type": "display_data"
    }
   ],
   "source": [
    "x <- 1:20\n",
    "above(x, 15)\n",
    "above(x)"
   ]
  },
  {
   "cell_type": "code",
   "execution_count": 16,
   "metadata": {
    "collapsed": false
   },
   "outputs": [],
   "source": [
    "column_mean <- function(y) {\n",
    "    ## y is a dataframe or matrix\n",
    "    nc <- ncol(y)\n",
    "    means <- numeric(nc) ## Initalize a numeric vector of length nc\n",
    "    for (i in 1:nc) {\n",
    "        means[i] <- mean(y[, i])\n",
    "    }\n",
    "    means\n",
    "}"
   ]
  },
  {
   "cell_type": "code",
   "execution_count": 17,
   "metadata": {
    "collapsed": false
   },
   "outputs": [
    {
     "data": {
      "text/html": [
       "<table>\n",
       "<tbody>\n",
       "\t<tr><td>1</td><td>3</td><td>5</td></tr>\n",
       "\t<tr><td>2</td><td>4</td><td>6</td></tr>\n",
       "</tbody>\n",
       "</table>\n"
      ],
      "text/latex": [
       "\\begin{tabular}{lll}\n",
       "\t 1 & 3 & 5\\\\\n",
       "\t 2 & 4 & 6\\\\\n",
       "\\end{tabular}\n"
      ],
      "text/markdown": [
       "1. 1\n",
       "2. 2\n",
       "3. 3\n",
       "4. 4\n",
       "5. 5\n",
       "6. 6\n",
       "\n",
       "\n"
      ],
      "text/plain": [
       "     [,1] [,2] [,3]\n",
       "[1,]    1    3    5\n",
       "[2,]    2    4    6"
      ]
     },
     "metadata": {},
     "output_type": "display_data"
    },
    {
     "data": {
      "text/html": [
       "<ol class=list-inline>\n",
       "\t<li>1.5</li>\n",
       "\t<li>3.5</li>\n",
       "\t<li>5.5</li>\n",
       "</ol>\n"
      ],
      "text/latex": [
       "\\begin{enumerate*}\n",
       "\\item 1.5\n",
       "\\item 3.5\n",
       "\\item 5.5\n",
       "\\end{enumerate*}\n"
      ],
      "text/markdown": [
       "1. 1.5\n",
       "2. 3.5\n",
       "3. 5.5\n",
       "\n",
       "\n"
      ],
      "text/plain": [
       "[1] 1.5 3.5 5.5"
      ]
     },
     "metadata": {},
     "output_type": "display_data"
    }
   ],
   "source": [
    "m\n",
    "column_mean(m)"
   ]
  },
  {
   "cell_type": "code",
   "execution_count": 18,
   "metadata": {
    "collapsed": false
   },
   "outputs": [
    {
     "data": {
      "text/html": [
       "<pre class=language-r><code>function (formula, data, subset, weights, na.action, method = \"qr\", \n",
       "    model = TRUE, x = FALSE, y = FALSE, qr = TRUE, singular.ok = TRUE, \n",
       "    contrasts = NULL, offset, ...) \n",
       "NULL</code></pre>"
      ],
      "text/latex": [
       "\\begin{minted}{r}\n",
       "function (formula, data, subset, weights, na.action, method = \"qr\", \n",
       "    model = TRUE, x = FALSE, y = FALSE, qr = TRUE, singular.ok = TRUE, \n",
       "    contrasts = NULL, offset, ...) \n",
       "NULL\n",
       "\\end{minted}"
      ],
      "text/markdown": [
       "```r\n",
       "function (formula, data, subset, weights, na.action, method = \"qr\", \n",
       "    model = TRUE, x = FALSE, y = FALSE, qr = TRUE, singular.ok = TRUE, \n",
       "    contrasts = NULL, offset, ...) \n",
       "NULL\n",
       "```"
      ],
      "text/plain": [
       "function (formula, data, subset, weights, na.action, method = \"qr\", \n",
       "    model = TRUE, x = FALSE, y = FALSE, qr = TRUE, singular.ok = TRUE, \n",
       "    contrasts = NULL, offset, ...) \n",
       "NULL"
      ]
     },
     "metadata": {},
     "output_type": "display_data"
    }
   ],
   "source": [
    "## Print the arguments in a function\n",
    "args(lm)"
   ]
  },
  {
   "cell_type": "markdown",
   "metadata": {},
   "source": [
    "## Defining a function"
   ]
  },
  {
   "cell_type": "code",
   "execution_count": 19,
   "metadata": {
    "collapsed": true
   },
   "outputs": [],
   "source": [
    "f <- function(a, b = 1, c = 2, d = NULL) {\n",
    "    a^2\n",
    "}"
   ]
  },
  {
   "cell_type": "code",
   "execution_count": 20,
   "metadata": {
    "collapsed": false
   },
   "outputs": [
    {
     "data": {
      "text/html": [
       "4"
      ],
      "text/latex": [
       "4"
      ],
      "text/markdown": [
       "4"
      ],
      "text/plain": [
       "[1] 4"
      ]
     },
     "metadata": {},
     "output_type": "display_data"
    },
    {
     "ename": "ERROR",
     "evalue": "Error in f(b = 2): argument \"a\" is missing, with no default\n",
     "output_type": "error",
     "traceback": [
      "Error in f(b = 2): argument \"a\" is missing, with no default\nTraceback:\n",
      "1. f(b = 2)"
     ]
    }
   ],
   "source": [
    "f(2) # Will work\n",
    "f(b=2) # Error"
   ]
  },
  {
   "cell_type": "markdown",
   "metadata": {},
   "source": [
    "# The ... argument\n",
    "\n",
    "Often used to extend another functions"
   ]
  },
  {
   "cell_type": "code",
   "execution_count": 21,
   "metadata": {
    "collapsed": true
   },
   "outputs": [],
   "source": [
    "## Not sure why we need to use ..., it works without it as well.\n",
    "myplot <- function(x, y, type = \"l\", ...) {\n",
    "    plot(x, y, type = type, ...)\n",
    "}"
   ]
  },
  {
   "cell_type": "code",
   "execution_count": 22,
   "metadata": {
    "collapsed": false
   },
   "outputs": [
    {
     "data": {
      "text/html": [
       "<pre class=language-r><code>function (..., sep = \" \", collapse = NULL) \n",
       "NULL</code></pre>"
      ],
      "text/latex": [
       "\\begin{minted}{r}\n",
       "function (..., sep = \" \", collapse = NULL) \n",
       "NULL\n",
       "\\end{minted}"
      ],
      "text/markdown": [
       "```r\n",
       "function (..., sep = \" \", collapse = NULL) \n",
       "NULL\n",
       "```"
      ],
      "text/plain": [
       "function (..., sep = \" \", collapse = NULL) \n",
       "NULL"
      ]
     },
     "metadata": {},
     "output_type": "display_data"
    }
   ],
   "source": [
    "args(paste) ## Paste does not know how many inputs it will have"
   ]
  },
  {
   "cell_type": "code",
   "execution_count": 23,
   "metadata": {
    "collapsed": false
   },
   "outputs": [
    {
     "data": {
      "text/html": [
       "\"1st, 2nd, 3rd\""
      ],
      "text/latex": [
       "\"1st, 2nd, 3rd\""
      ],
      "text/markdown": [
       "\"1st, 2nd, 3rd\""
      ],
      "text/plain": [
       "[1] \"1st, 2nd, 3rd\""
      ]
     },
     "metadata": {},
     "output_type": "display_data"
    }
   ],
   "source": [
    "## Example\n",
    "paste(\"1st\", \"2nd\", \"3rd\", sep = \", \")"
   ]
  },
  {
   "cell_type": "code",
   "execution_count": 24,
   "metadata": {
    "collapsed": false
   },
   "outputs": [
    {
     "data": {
      "text/html": [
       "\"A:B\""
      ],
      "text/latex": [
       "\"A:B\""
      ],
      "text/markdown": [
       "\"A:B\""
      ],
      "text/plain": [
       "[1] \"A:B\""
      ]
     },
     "metadata": {},
     "output_type": "display_data"
    },
    {
     "data": {
      "text/html": [
       "\"A B :\""
      ],
      "text/latex": [
       "\"A B :\""
      ],
      "text/markdown": [
       "\"A B :\""
      ],
      "text/plain": [
       "[1] \"A B :\""
      ]
     },
     "metadata": {},
     "output_type": "display_data"
    }
   ],
   "source": [
    "## Parameters after the ... must be named explicitly\n",
    "paste(\"A\", \"B\", sep = \":\") \n",
    "paste(\"A\", \"B\", se = \":\") ## last parameter is not explicit"
   ]
  },
  {
   "cell_type": "markdown",
   "metadata": {},
   "source": [
    "# Lexial scoping"
   ]
  },
  {
   "cell_type": "code",
   "execution_count": 25,
   "metadata": {
    "collapsed": true
   },
   "outputs": [],
   "source": [
    "make_power <- function(n) {\n",
    "    pow <- function(x) {\n",
    "        x^n\n",
    "    }\n",
    "    pow\n",
    "}"
   ]
  },
  {
   "cell_type": "code",
   "execution_count": 26,
   "metadata": {
    "collapsed": false
   },
   "outputs": [
    {
     "data": {
      "text/html": [
       "8"
      ],
      "text/latex": [
       "8"
      ],
      "text/markdown": [
       "8"
      ],
      "text/plain": [
       "[1] 8"
      ]
     },
     "metadata": {},
     "output_type": "display_data"
    }
   ],
   "source": [
    "## First, we assign cube to make_power with n=3\n",
    "## Then, we run cube with x=2, which returns 2^3\n",
    "## \n",
    "## 3 is \"remembered\" by cube, since pow is inside make_power\n",
    "cube <- make_power(3) \n",
    "cube(2)"
   ]
  },
  {
   "cell_type": "code",
   "execution_count": 27,
   "metadata": {
    "collapsed": false
   },
   "outputs": [
    {
     "data": {
      "text/html": [
       "<ol class=list-inline>\n",
       "\t<li>\"n\"</li>\n",
       "\t<li>\"pow\"</li>\n",
       "</ol>\n"
      ],
      "text/latex": [
       "\\begin{enumerate*}\n",
       "\\item \"n\"\n",
       "\\item \"pow\"\n",
       "\\end{enumerate*}\n"
      ],
      "text/markdown": [
       "1. \"n\"\n",
       "2. \"pow\"\n",
       "\n",
       "\n"
      ],
      "text/plain": [
       "[1] \"n\"   \"pow\""
      ]
     },
     "metadata": {},
     "output_type": "display_data"
    },
    {
     "data": {
      "text/html": [
       "3"
      ],
      "text/latex": [
       "3"
      ],
      "text/markdown": [
       "3"
      ],
      "text/plain": [
       "[1] 3"
      ]
     },
     "metadata": {},
     "output_type": "display_data"
    }
   ],
   "source": [
    "ls(environment(cube))\n",
    "get(\"n\", environment(cube))"
   ]
  },
  {
   "cell_type": "code",
   "execution_count": 28,
   "metadata": {
    "collapsed": false
   },
   "outputs": [
    {
     "data": {
      "text/plain": [
       "<environment: 0x000000001496ff40>"
      ]
     },
     "metadata": {},
     "output_type": "display_data"
    }
   ],
   "source": [
    "environment(cube)"
   ]
  },
  {
   "cell_type": "markdown",
   "metadata": {},
   "source": [
    "## Lexical vs. dynamic scoping"
   ]
  },
  {
   "cell_type": "code",
   "execution_count": 29,
   "metadata": {
    "collapsed": true
   },
   "outputs": [],
   "source": [
    "y <- 10\n",
    "f <- function(x) {\n",
    "    y <- 2\n",
    "    y^2 + g(x)\n",
    "}\n",
    "\n",
    "g <- function(x) {\n",
    "    x*y\n",
    "}"
   ]
  },
  {
   "cell_type": "code",
   "execution_count": 30,
   "metadata": {
    "collapsed": false
   },
   "outputs": [
    {
     "data": {
      "text/html": [
       "34"
      ],
      "text/latex": [
       "34"
      ],
      "text/markdown": [
       "34"
      ],
      "text/plain": [
       "[1] 34"
      ]
     },
     "metadata": {},
     "output_type": "display_data"
    }
   ],
   "source": [
    "# What is the value of? My guess is 2^2 + 3*10 = 34\n",
    "f(3)"
   ]
  },
  {
   "cell_type": "code",
   "execution_count": 31,
   "metadata": {
    "collapsed": false
   },
   "outputs": [
    {
     "data": {
      "text/html": [
       "10"
      ],
      "text/latex": [
       "10"
      ],
      "text/markdown": [
       "10"
      ],
      "text/plain": [
       "[1] 10"
      ]
     },
     "metadata": {},
     "output_type": "display_data"
    }
   ],
   "source": [
    "y <- 10\n",
    "f <- function(x) {\n",
    "    y <- 2\n",
    "    \n",
    "    ## Define the function inside f(x)\n",
    "    g <- function(x) {\n",
    "        x*y\n",
    "    }\n",
    "    \n",
    "    y^2 + g(x)\n",
    "}\n",
    "\n",
    "f(3) # Now the result will be 2^2 + 3*2 = 4 + 6 = 10"
   ]
  },
  {
   "cell_type": "markdown",
   "metadata": {},
   "source": [
    "# Dates and times in R"
   ]
  },
  {
   "cell_type": "code",
   "execution_count": 32,
   "metadata": {
    "collapsed": false
   },
   "outputs": [
    {
     "data": {
      "text/plain": [
       "[1] \"1970-01-01\""
      ]
     },
     "metadata": {},
     "output_type": "display_data"
    }
   ],
   "source": [
    "# Dates in R are calculatef from 01-01-1970\n",
    "x <- as.Date(\"1970-01-01\")\n",
    "x"
   ]
  },
  {
   "cell_type": "code",
   "execution_count": 33,
   "metadata": {
    "collapsed": false
   },
   "outputs": [
    {
     "data": {
      "text/html": [
       "\"Date\""
      ],
      "text/latex": [
       "\"Date\""
      ],
      "text/markdown": [
       "\"Date\""
      ],
      "text/plain": [
       "[1] \"Date\""
      ]
     },
     "metadata": {},
     "output_type": "display_data"
    },
    {
     "data": {
      "text/html": [
       "0"
      ],
      "text/latex": [
       "0"
      ],
      "text/markdown": [
       "0"
      ],
      "text/plain": [
       "[1] 0"
      ]
     },
     "metadata": {},
     "output_type": "display_data"
    }
   ],
   "source": [
    "class(x)\n",
    "unclass(x)"
   ]
  },
  {
   "cell_type": "code",
   "execution_count": 34,
   "metadata": {
    "collapsed": false
   },
   "outputs": [
    {
     "data": {
      "text/html": [
       "1"
      ],
      "text/latex": [
       "1"
      ],
      "text/markdown": [
       "1"
      ],
      "text/plain": [
       "[1] 1"
      ]
     },
     "metadata": {},
     "output_type": "display_data"
    }
   ],
   "source": [
    "x <- as.Date(\"1970-01-02\") \n",
    "unclass(x) # When you unclass it, it becomes 1, which is one day from the start (01-01-1970)"
   ]
  },
  {
   "cell_type": "code",
   "execution_count": 35,
   "metadata": {
    "collapsed": false
   },
   "outputs": [
    {
     "data": {
      "text/plain": [
       "[1] \"2016-10-07 11:14:15 CEST\""
      ]
     },
     "metadata": {},
     "output_type": "display_data"
    }
   ],
   "source": [
    "# Time\n",
    "x <- Sys.time()\n",
    "x"
   ]
  },
  {
   "cell_type": "code",
   "execution_count": 36,
   "metadata": {
    "collapsed": false
   },
   "outputs": [
    {
     "data": {
      "text/html": [
       "<ol class=list-inline>\n",
       "\t<li>\"sec\"</li>\n",
       "\t<li>\"min\"</li>\n",
       "\t<li>\"hour\"</li>\n",
       "\t<li>\"mday\"</li>\n",
       "\t<li>\"mon\"</li>\n",
       "\t<li>\"year\"</li>\n",
       "\t<li>\"wday\"</li>\n",
       "\t<li>\"yday\"</li>\n",
       "\t<li>\"isdst\"</li>\n",
       "\t<li>\"zone\"</li>\n",
       "\t<li>\"gmtoff\"</li>\n",
       "</ol>\n"
      ],
      "text/latex": [
       "\\begin{enumerate*}\n",
       "\\item \"sec\"\n",
       "\\item \"min\"\n",
       "\\item \"hour\"\n",
       "\\item \"mday\"\n",
       "\\item \"mon\"\n",
       "\\item \"year\"\n",
       "\\item \"wday\"\n",
       "\\item \"yday\"\n",
       "\\item \"isdst\"\n",
       "\\item \"zone\"\n",
       "\\item \"gmtoff\"\n",
       "\\end{enumerate*}\n"
      ],
      "text/markdown": [
       "1. \"sec\"\n",
       "2. \"min\"\n",
       "3. \"hour\"\n",
       "4. \"mday\"\n",
       "5. \"mon\"\n",
       "6. \"year\"\n",
       "7. \"wday\"\n",
       "8. \"yday\"\n",
       "9. \"isdst\"\n",
       "10. \"zone\"\n",
       "11. \"gmtoff\"\n",
       "\n",
       "\n"
      ],
      "text/plain": [
       " [1] \"sec\"    \"min\"    \"hour\"   \"mday\"   \"mon\"    \"year\"   \"wday\"   \"yday\"  \n",
       " [9] \"isdst\"  \"zone\"   \"gmtoff\""
      ]
     },
     "metadata": {},
     "output_type": "display_data"
    }
   ],
   "source": [
    "p <- as.POSIXlt(x)\n",
    "names(unclass(p))"
   ]
  },
  {
   "cell_type": "code",
   "execution_count": 37,
   "metadata": {
    "collapsed": false
   },
   "outputs": [
    {
     "data": {
      "text/html": [
       "15.7072389125824"
      ],
      "text/latex": [
       "15.7072389125824"
      ],
      "text/markdown": [
       "15.7072389125824"
      ],
      "text/plain": [
       "[1] 15.70724"
      ]
     },
     "metadata": {},
     "output_type": "display_data"
    }
   ],
   "source": [
    "p$sec"
   ]
  },
  {
   "cell_type": "code",
   "execution_count": 38,
   "metadata": {
    "collapsed": false
   },
   "outputs": [
    {
     "data": {
      "text/plain": [
       "[1] NA NA"
      ]
     },
     "metadata": {},
     "output_type": "display_data"
    }
   ],
   "source": [
    "## This is the code from Coursera. Not sure why it return NA\n",
    "datestring <- c(\"January 10, 2012 10:40\", \"December 9, 2011 9:10\")\n",
    "x <- strptime(datestring, \"%B %d, %Y %H:%M\")\n",
    "x"
   ]
  },
  {
   "cell_type": "code",
   "execution_count": 39,
   "metadata": {
    "collapsed": false
   },
   "outputs": [
    {
     "data": {
      "text/plain": [
       "Time difference of 2 days"
      ]
     },
     "metadata": {},
     "output_type": "display_data"
    }
   ],
   "source": [
    "x <- as.Date(\"2012-03-01\"); y <- as.Date(\"2012-02-28\")\n",
    "x-y"
   ]
  },
  {
   "cell_type": "code",
   "execution_count": 40,
   "metadata": {
    "collapsed": false
   },
   "outputs": [
    {
     "data": {
      "text/plain": [
       "Time difference of 12 hours"
      ]
     },
     "metadata": {},
     "output_type": "display_data"
    }
   ],
   "source": [
    "x <- as.POSIXct(\"2012-10-25 01:00:00\")\n",
    "y <- as.POSIXct(\"2012-10-25 06:00:00\", tz=\"EST\") #Takes care of time zones\n",
    "y-x"
   ]
  },
  {
   "cell_type": "markdown",
   "metadata": {},
   "source": [
    "## Date and time summary\n",
    "\n",
    "- Dates used the Date class\n",
    "- Times use the POSIXct and POSIXlt class"
   ]
  }
 ],
 "metadata": {
  "anaconda-cloud": {},
  "kernelspec": {
   "display_name": "R",
   "language": "R",
   "name": "ir"
  },
  "language_info": {
   "codemirror_mode": "r",
   "file_extension": ".r",
   "mimetype": "text/x-r-source",
   "name": "R",
   "pygments_lexer": "r",
   "version": "3.3.1"
  }
 },
 "nbformat": 4,
 "nbformat_minor": 0
}
