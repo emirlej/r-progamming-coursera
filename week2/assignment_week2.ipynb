{
 "cells": [
  {
   "cell_type": "code",
   "execution_count": 1,
   "metadata": {
    "collapsed": false
   },
   "outputs": [
    {
     "name": "stderr",
     "output_type": "stream",
     "text": [
      "\n",
      "Attaching package: 'dplyr'\n",
      "\n",
      "The following objects are masked from 'package:stats':\n",
      "\n",
      "    filter, lag\n",
      "\n",
      "The following objects are masked from 'package:base':\n",
      "\n",
      "    intersect, setdiff, setequal, union\n",
      "\n"
     ]
    }
   ],
   "source": [
    "library(\"dplyr\")"
   ]
  },
  {
   "cell_type": "code",
   "execution_count": 2,
   "metadata": {
    "collapsed": true
   },
   "outputs": [],
   "source": [
    "# Data where the files are stored-\n",
    "fpath = \"specdata/\""
   ]
  },
  {
   "cell_type": "code",
   "execution_count": 3,
   "metadata": {
    "collapsed": false
   },
   "outputs": [
    {
     "data": {
      "text/html": [
       "<table>\n",
       "<thead><tr><th></th><th scope=col>Date</th><th scope=col>sulfate</th><th scope=col>nitrate</th></tr></thead>\n",
       "<tbody>\n",
       "\t<tr><th scope=row>1</th><td>2001-01-01</td><td>NA        </td><td>NA        </td></tr>\n",
       "\t<tr><th scope=row>2</th><td>2001-01-02</td><td>NA        </td><td>NA        </td></tr>\n",
       "\t<tr><th scope=row>3</th><td>2001-01-03</td><td>NA        </td><td>NA        </td></tr>\n",
       "\t<tr><th scope=row>4</th><td>2001-01-04</td><td>NA        </td><td>NA        </td></tr>\n",
       "\t<tr><th scope=row>5</th><td>2001-01-05</td><td>NA        </td><td>NA        </td></tr>\n",
       "\t<tr><th scope=row>6</th><td>2001-01-06</td><td>NA        </td><td>NA        </td></tr>\n",
       "</tbody>\n",
       "</table>\n"
      ],
      "text/latex": [
       "\\begin{tabular}{r|lll}\n",
       "  & Date & sulfate & nitrate\\\\\n",
       "\\hline\n",
       "\t1 & 2001-01-01 & NA         & NA        \\\\\n",
       "\t2 & 2001-01-02 & NA         & NA        \\\\\n",
       "\t3 & 2001-01-03 & NA         & NA        \\\\\n",
       "\t4 & 2001-01-04 & NA         & NA        \\\\\n",
       "\t5 & 2001-01-05 & NA         & NA        \\\\\n",
       "\t6 & 2001-01-06 & NA         & NA        \\\\\n",
       "\\end{tabular}\n"
      ],
      "text/plain": [
       "        Date sulfate nitrate\n",
       "1 2001-01-01      NA      NA\n",
       "2 2001-01-02      NA      NA\n",
       "3 2001-01-03      NA      NA\n",
       "4 2001-01-04      NA      NA\n",
       "5 2001-01-05      NA      NA\n",
       "6 2001-01-06      NA      NA"
      ]
     },
     "metadata": {},
     "output_type": "display_data"
    }
   ],
   "source": [
    "## Read the data to \n",
    "df <- read.csv(\"specdata/002.csv\")\n",
    "df$ID <- NULL ## Remove the ID column. The file indicates the ID aswell\n",
    "head(df)"
   ]
  },
  {
   "cell_type": "code",
   "execution_count": 4,
   "metadata": {
    "collapsed": false
   },
   "outputs": [
    {
     "data": {
      "text/html": [
       "<ol class=list-inline>\n",
       "\t<li>3652</li>\n",
       "\t<li>3</li>\n",
       "</ol>\n"
      ],
      "text/latex": [
       "\\begin{enumerate*}\n",
       "\\item 3652\n",
       "\\item 3\n",
       "\\end{enumerate*}\n"
      ],
      "text/markdown": [
       "1. 3652\n",
       "2. 3\n",
       "\n",
       "\n"
      ],
      "text/plain": [
       "[1] 3652    3"
      ]
     },
     "metadata": {},
     "output_type": "display_data"
    }
   ],
   "source": [
    "# Size of the df\n",
    "dim(df)"
   ]
  },
  {
   "cell_type": "code",
   "execution_count": 5,
   "metadata": {
    "collapsed": false
   },
   "outputs": [
    {
     "data": {
      "text/plain": [
       "         Date         sulfate          nitrate     \n",
       " 2001-01-01:   1   Min.   : 0.000   Min.   :0.000  \n",
       " 2001-01-02:   1   1st Qu.: 2.380   1st Qu.:0.465  \n",
       " 2001-01-03:   1   Median : 3.700   Median :0.696  \n",
       " 2001-01-04:   1   Mean   : 4.461   Mean   :0.945  \n",
       " 2001-01-05:   1   3rd Qu.: 5.510   3rd Qu.:1.120  \n",
       " 2001-01-06:   1   Max.   :27.900   Max.   :6.440  \n",
       " (Other)   :3646   NA's   :2611     NA's   :2601   "
      ]
     },
     "metadata": {},
     "output_type": "display_data"
    }
   ],
   "source": [
    "# A describe of the df\n",
    "summary(df)"
   ]
  },
  {
   "cell_type": "code",
   "execution_count": 6,
   "metadata": {
    "collapsed": false
   },
   "outputs": [
    {
     "data": {
      "text/html": [
       "<dl class=dl-horizontal>\n",
       "\t<dt>Date</dt>\n",
       "\t\t<dd>0</dd>\n",
       "\t<dt>sulfate</dt>\n",
       "\t\t<dd>2611</dd>\n",
       "\t<dt>nitrate</dt>\n",
       "\t\t<dd>2601</dd>\n",
       "</dl>\n"
      ],
      "text/latex": [
       "\\begin{description*}\n",
       "\\item[Date] 0\n",
       "\\item[sulfate] 2611\n",
       "\\item[nitrate] 2601\n",
       "\\end{description*}\n"
      ],
      "text/markdown": [
       "Date\n",
       ":   0sulfate\n",
       ":   2611nitrate\n",
       ":   2601\n",
       "\n"
      ],
      "text/plain": [
       "   Date sulfate nitrate \n",
       "      0    2611    2601 "
      ]
     },
     "metadata": {},
     "output_type": "display_data"
    }
   ],
   "source": [
    "## Calculate the number of missing values in each column.\n",
    "apply(is.na(df), 2, sum)"
   ]
  },
  {
   "cell_type": "code",
   "execution_count": 7,
   "metadata": {
    "collapsed": false
   },
   "outputs": [
    {
     "data": {
      "text/plain": [
       "Time difference of 1 days"
      ]
     },
     "metadata": {},
     "output_type": "display_data"
    }
   ],
   "source": [
    "x1 <- as.Date(df[\"Date\"][1, 1])\n",
    "x2 <- as.Date(df[\"Date\"][2, 1])\n",
    "\n",
    "x2 - x1"
   ]
  },
  {
   "cell_type": "code",
   "execution_count": 8,
   "metadata": {
    "collapsed": false
   },
   "outputs": [
    {
     "data": {
      "text/html": [
       "<ol class=list-inline>\n",
       "\t<li>2001-01-01</li>\n",
       "\t<li>2001-01-02</li>\n",
       "</ol>\n"
      ],
      "text/latex": [
       "\\begin{enumerate*}\n",
       "\\item 2001-01-01\n",
       "\\item 2001-01-02\n",
       "\\end{enumerate*}\n"
      ],
      "text/markdown": [
       "1. 2001-01-01\n",
       "2. 2001-01-02\n",
       "\n",
       "\n"
      ],
      "text/plain": [
       "[1] 2001-01-01 2001-01-02\n",
       "3652 Levels: 2001-01-01 2001-01-02 2001-01-03 2001-01-04 ... 2010-12-31"
      ]
     },
     "metadata": {},
     "output_type": "display_data"
    }
   ],
   "source": [
    "# Row slice\n",
    "df[\"Date\"][1:2, 1]"
   ]
  },
  {
   "cell_type": "code",
   "execution_count": 9,
   "metadata": {
    "collapsed": false
   },
   "outputs": [
    {
     "data": {
      "text/html": [
       "\"hei/pa\""
      ],
      "text/latex": [
       "\"hei/pa\""
      ],
      "text/markdown": [
       "\"hei/pa\""
      ],
      "text/plain": [
       "[1] \"hei/pa\""
      ]
     },
     "metadata": {},
     "output_type": "display_data"
    }
   ],
   "source": [
    "## Concatenate folders\n",
    "file.path(\"hei\", \"pa\")"
   ]
  },
  {
   "cell_type": "code",
   "execution_count": 10,
   "metadata": {
    "collapsed": false
   },
   "outputs": [
    {
     "name": "stdout",
     "output_type": "stream",
     "text": [
      "  a b\n",
      "1 1 2\n",
      "2 2 3\n",
      "3 3 4\n",
      "  a b\n",
      "1 4 1\n",
      "2 5 2\n"
     ]
    }
   ],
   "source": [
    "df1 <- data.frame(a=1:3, b=2:4)\n",
    "df2 <- data.frame(a=4:5, b=1:2)\n",
    "\n",
    "print(df1)\n",
    "print(df2)"
   ]
  },
  {
   "cell_type": "code",
   "execution_count": 11,
   "metadata": {
    "collapsed": false
   },
   "outputs": [],
   "source": [
    "colmean <- function(col) {\n",
    "    return(mean(col, na.rm = TRUE))\n",
    "}\n",
    "\n",
    "dftest <- data.frame(a=1:4, b=0:3)\n",
    "vtest <- c(1, 2, 3, 4)\n"
   ]
  },
  {
   "cell_type": "code",
   "execution_count": 12,
   "metadata": {
    "collapsed": false
   },
   "outputs": [
    {
     "name": "stdout",
     "output_type": "stream",
     "text": [
      "[1] 3.880701 4.460811\n",
      "[1] 4.170756\n"
     ]
    }
   ],
   "source": [
    "## Read all csv files\n",
    "csvfiles <- list.files(path=\"specdata/\", pattern = \".csv$\")\n",
    "## Print the first 10\n",
    "## Store each file mean in this vector\n",
    "means <- c()\n",
    "for (csvfile in csvfiles[1:2]) {\n",
    "    # Read file to dataframe\n",
    "    df <- read.csv(file.path(\"specdata\", csvfile))\n",
    "    cmean <- mean(df[[\"sulfate\"]], na.rm=TRUE)\n",
    "    means <- append(means, cmean)\n",
    "    \n",
    "}\n",
    "print(means)\n",
    "print(mean(means))"
   ]
  },
  {
   "cell_type": "markdown",
   "metadata": {},
   "source": [
    "### Part 1"
   ]
  },
  {
   "cell_type": "code",
   "execution_count": 13,
   "metadata": {
    "collapsed": false
   },
   "outputs": [
    {
     "name": "stderr",
     "output_type": "stream",
     "text": [
      "Dumping pollutantmean() funtion to file\n"
     ]
    }
   ],
   "source": [
    "pollutantmean <- function(directory, pollutant, id = 1:332, sep = \",\") {\n",
    "    ## 'directory' is a character vector of length 1 indicating the\n",
    "    ## location of the CSV files.\n",
    "    ##\n",
    "    ## pollutant is a character vector of length 1 indicating the name\n",
    "    ## of the pollutant for which we will calculate the mean; e\n",
    "    ##\n",
    "    ## id is a numeric vector specifying which files csv files should be\n",
    "    ## parsed.\n",
    "    \n",
    "    ## Read all csvfiles to vector\n",
    "    csvfiles <- list.files(path = directory, pattern = \".csv$\")\n",
    "    numpoints <- 0L\n",
    "    totalsum <- 0L\n",
    "    \n",
    "    ## Loop over each file and calculate the mean in the specific column\n",
    "    for (csvfile in csvfiles[id]) {\n",
    "                \n",
    "        ## Read file to df\n",
    "        data <- read.csv(file.path(directory, csvfile), sep = sep)\n",
    "        \n",
    "        pollutant_data <- data[[pollutant]]\n",
    "        pollutant_data <- pollutant_data[complete.cases(pollutant_data)]\n",
    "        \n",
    "        ## Calculate the mean in file for wanted column\n",
    "        ##colmean <- mean(df[[pollutant]], na.rm = TRUE)\n",
    "        \n",
    "        ## Calculate the sum of the values\n",
    "        #sums <- append(sums, sum(pollutant_data))        \n",
    "        totalsum <- totalsum + sum(pollutant_data)\n",
    "        numpoints <- numpoints + length(pollutant_data)\n",
    "                            \n",
    "        } \n",
    "    ## Calculate the mean of the means vector\n",
    "    return(totalsum / numpoints)\n",
    "    }\n",
    "    \n",
    "message(\"Dumping pollutantmean() funtion to file\")\n",
    "dump(\"pollutantmean\", file.path(\"dumps\", \"pollutantmean.R\"))"
   ]
  },
  {
   "cell_type": "markdown",
   "metadata": {},
   "source": [
    "### Testing the functions\n",
    "Using my own generated test data"
   ]
  },
  {
   "cell_type": "code",
   "execution_count": 14,
   "metadata": {
    "collapsed": false
   },
   "outputs": [
    {
     "data": {
      "text/html": [
       "5.088"
      ],
      "text/latex": [
       "5.088"
      ],
      "text/markdown": [
       "5.088"
      ],
      "text/plain": [
       "[1] 5.088"
      ]
     },
     "metadata": {},
     "output_type": "display_data"
    }
   ],
   "source": [
    "pollutantmean(\"test_specdata\", pollutant = \"sulfate\", id = 1:2, sep = \";\") # Correct answer is 5.088"
   ]
  },
  {
   "cell_type": "markdown",
   "metadata": {},
   "source": [
    "### Running on the correct data"
   ]
  },
  {
   "cell_type": "code",
   "execution_count": 15,
   "metadata": {
    "collapsed": false
   },
   "outputs": [
    {
     "name": "stdout",
     "output_type": "stream",
     "text": [
      "[1] 1.280833\n"
     ]
    }
   ],
   "source": [
    "print(pollutantmean(\"specdata/\", pollutant = \"nitrate\", 23))"
   ]
  },
  {
   "cell_type": "markdown",
   "metadata": {},
   "source": [
    "### Assignment questions"
   ]
  },
  {
   "cell_type": "code",
   "execution_count": 16,
   "metadata": {
    "collapsed": false
   },
   "outputs": [
    {
     "data": {
      "text/html": [
       "4.06412824256036"
      ],
      "text/latex": [
       "4.06412824256036"
      ],
      "text/markdown": [
       "4.06412824256036"
      ],
      "text/plain": [
       "[1] 4.064128"
      ]
     },
     "metadata": {},
     "output_type": "display_data"
    }
   ],
   "source": [
    "pollutantmean(\"specdata\", \"sulfate\", 1:10)"
   ]
  },
  {
   "cell_type": "code",
   "execution_count": 17,
   "metadata": {
    "collapsed": false
   },
   "outputs": [
    {
     "data": {
      "text/html": [
       "1.70604735169492"
      ],
      "text/latex": [
       "1.70604735169492"
      ],
      "text/markdown": [
       "1.70604735169492"
      ],
      "text/plain": [
       "[1] 1.706047"
      ]
     },
     "metadata": {},
     "output_type": "display_data"
    }
   ],
   "source": [
    "pollutantmean(\"specdata\", \"nitrate\", 70:72)"
   ]
  },
  {
   "cell_type": "code",
   "execution_count": 18,
   "metadata": {
    "collapsed": false
   },
   "outputs": [
    {
     "data": {
      "text/html": [
       "1.47714303030303"
      ],
      "text/latex": [
       "1.47714303030303"
      ],
      "text/markdown": [
       "1.47714303030303"
      ],
      "text/plain": [
       "[1] 1.477143"
      ]
     },
     "metadata": {},
     "output_type": "display_data"
    }
   ],
   "source": [
    "pollutantmean(\"specdata\", \"sulfate\", 34)"
   ]
  },
  {
   "cell_type": "code",
   "execution_count": 19,
   "metadata": {
    "collapsed": false
   },
   "outputs": [
    {
     "data": {
      "text/html": [
       "1.70293184286701"
      ],
      "text/latex": [
       "1.70293184286701"
      ],
      "text/markdown": [
       "1.70293184286701"
      ],
      "text/plain": [
       "[1] 1.702932"
      ]
     },
     "metadata": {},
     "output_type": "display_data"
    }
   ],
   "source": [
    "pollutantmean(\"specdata\", \"nitrate\")"
   ]
  },
  {
   "cell_type": "markdown",
   "metadata": {},
   "source": [
    "### Part 2"
   ]
  },
  {
   "cell_type": "code",
   "execution_count": 20,
   "metadata": {
    "collapsed": false
   },
   "outputs": [
    {
     "name": "stderr",
     "output_type": "stream",
     "text": [
      "Dumping complete() function to .R file\n"
     ]
    }
   ],
   "source": [
    "complete <- function(directory, id = 1:332, sep = \",\") {\n",
    "    ## Directory where the csv files are stored.\n",
    "    ##\n",
    "    ## id is an integer vector used to choose which\n",
    "    ## csv files should be read.\n",
    "    ##\n",
    "    ## Calculate the number of complete observations,\n",
    "    ## both sulfate and nitrate in each csv file.\n",
    "    \n",
    "    ## Read all files to vector\n",
    "    csvfiles <- list.files(directory, pattern = \".csv$\")\n",
    "    \n",
    "    ## Initialize empty dataframe\n",
    "    df_nobs <- data.frame(id = integer(), nobs = integer())\n",
    "    \n",
    "    ## Loop through the file id's\n",
    "    for (i in id) {\n",
    "                \n",
    "        ## CSV file to data frame\n",
    "        df <- read.csv(file = file.path(directory, csvfiles[i]), sep = sep)\n",
    "        \n",
    "        ## Calculate the number of complete cases in column 2 (sulfate) and 3 (nitrate)\n",
    "        ###non_na <- colSums(!is.na(df[, 2:3]))\n",
    "        ###non_na <- sum(!is.na(df[, 2:3]))\n",
    "        non_na <- df[complete.cases(df), ]\n",
    "        \n",
    "        ## Insert number of complete obs. in output\n",
    "        df_nobs <- rbind(df_nobs, list(id = i, nobs = nrow(non_na)))\n",
    "                        \n",
    "    }\n",
    "    \n",
    "    return(df_nobs)\n",
    "    \n",
    "}\n",
    "message(\"Dumping complete() function to .R file\")\n",
    "dump(\"complete\", file = \"dumps/complete.R\")"
   ]
  },
  {
   "cell_type": "markdown",
   "metadata": {},
   "source": [
    "### Testing"
   ]
  },
  {
   "cell_type": "code",
   "execution_count": 21,
   "metadata": {
    "collapsed": false
   },
   "outputs": [
    {
     "data": {
      "text/html": [
       "<table>\n",
       "<thead><tr><th></th><th scope=col>id</th><th scope=col>nobs</th></tr></thead>\n",
       "<tbody>\n",
       "\t<tr><th scope=row>1</th><td>1</td><td>2</td></tr>\n",
       "\t<tr><th scope=row>2</th><td>2</td><td>3</td></tr>\n",
       "</tbody>\n",
       "</table>\n"
      ],
      "text/latex": [
       "\\begin{tabular}{r|ll}\n",
       "  & id & nobs\\\\\n",
       "\\hline\n",
       "\t1 & 1 & 2\\\\\n",
       "\t2 & 2 & 3\\\\\n",
       "\\end{tabular}\n"
      ],
      "text/plain": [
       "  id nobs\n",
       "1  1    2\n",
       "2  2    3"
      ]
     },
     "metadata": {},
     "output_type": "display_data"
    }
   ],
   "source": [
    "complete(directory = \"test_specdata\", id = 1:2, sep = \";\")"
   ]
  },
  {
   "cell_type": "code",
   "execution_count": 22,
   "metadata": {
    "collapsed": false
   },
   "outputs": [
    {
     "data": {
      "text/html": [
       "<table>\n",
       "<thead><tr><th></th><th scope=col>id</th><th scope=col>nobs</th></tr></thead>\n",
       "<tbody>\n",
       "\t<tr><th scope=row>1</th><td>   2</td><td>1041</td></tr>\n",
       "\t<tr><th scope=row>2</th><td>  4</td><td>474</td></tr>\n",
       "\t<tr><th scope=row>3</th><td>  8</td><td>192</td></tr>\n",
       "\t<tr><th scope=row>4</th><td> 10</td><td>148</td></tr>\n",
       "\t<tr><th scope=row>5</th><td>12</td><td>96</td></tr>\n",
       "</tbody>\n",
       "</table>\n"
      ],
      "text/latex": [
       "\\begin{tabular}{r|ll}\n",
       "  & id & nobs\\\\\n",
       "\\hline\n",
       "\t1 &    2 & 1041\\\\\n",
       "\t2 &   4 & 474\\\\\n",
       "\t3 &   8 & 192\\\\\n",
       "\t4 &  10 & 148\\\\\n",
       "\t5 & 12 & 96\\\\\n",
       "\\end{tabular}\n"
      ],
      "text/plain": [
       "  id nobs\n",
       "1  2 1041\n",
       "2  4  474\n",
       "3  8  192\n",
       "4 10  148\n",
       "5 12   96"
      ]
     },
     "metadata": {},
     "output_type": "display_data"
    }
   ],
   "source": [
    "complete(directory = \"specdata/\", id = c(2, 4, 8, 10, 12))"
   ]
  },
  {
   "cell_type": "markdown",
   "metadata": {},
   "source": [
    "### Assignments questions"
   ]
  },
  {
   "cell_type": "code",
   "execution_count": 23,
   "metadata": {
    "collapsed": false
   },
   "outputs": [
    {
     "name": "stdout",
     "output_type": "stream",
     "text": [
      "[1] 228 148 124 165 104 460 232\n"
     ]
    }
   ],
   "source": [
    "cc <- complete(\"specdata\", c(6, 10, 20, 34, 100, 200, 310))\n",
    "print(cc$nobs)"
   ]
  },
  {
   "cell_type": "code",
   "execution_count": 24,
   "metadata": {
    "collapsed": false
   },
   "outputs": [
    {
     "name": "stdout",
     "output_type": "stream",
     "text": [
      "[1] 219\n"
     ]
    }
   ],
   "source": [
    "cc <- complete(\"specdata\", 54)\n",
    "print(cc$nobs)"
   ]
  },
  {
   "cell_type": "code",
   "execution_count": 25,
   "metadata": {
    "collapsed": false
   },
   "outputs": [
    {
     "name": "stdout",
     "output_type": "stream",
     "text": [
      " [1] 711 135  74 445 178  73  49   0 687 237\n"
     ]
    }
   ],
   "source": [
    "set.seed(42)\n",
    "cc <- complete(\"specdata\", 332:1)\n",
    "use <- sample(332, 10)\n",
    "print(cc[use, \"nobs\"])"
   ]
  },
  {
   "cell_type": "markdown",
   "metadata": {},
   "source": [
    "### Part 3"
   ]
  },
  {
   "cell_type": "code",
   "execution_count": 26,
   "metadata": {
    "collapsed": true
   },
   "outputs": [],
   "source": [
    "corr <- function(directory, threshold = 0, sep = \",\") {\n",
    "    ## directory: vector with all csv files\n",
    "    ##\n",
    "    ## threshold: numeric vector of lenght 1 indicating\n",
    "    ## the number of complete cases it least has to be in \n",
    "    ## order to compute the correlation\n",
    "    \n",
    "    # Full path from wd() to the file \n",
    "    csvfiles = list.files(path = directory, full.names = TRUE)\n",
    "    correlations <- c()\n",
    "    \n",
    "    for (csvfile in csvfiles) {\n",
    "        \n",
    "        # Read the file\n",
    "        df <- read.csv(csvfile, sep = sep)\n",
    "        # Remove all rows containing uncomplete values (NA or NaN)\n",
    "        df <- df[complete.cases(df), ]\n",
    "            \n",
    "        if ( nrow(df) >= threshold ) {\n",
    "            # Calculate correlation for each df\n",
    "            c <- cor(x = df$sulfate, y = df$nitrate)\n",
    "            correlations <- append(correlations, c)\n",
    "        }\n",
    "    }\n",
    "    return(correlations)\n",
    "}"
   ]
  },
  {
   "cell_type": "markdown",
   "metadata": {},
   "source": [
    "### Testing"
   ]
  },
  {
   "cell_type": "code",
   "execution_count": 27,
   "metadata": {
    "collapsed": false
   },
   "outputs": [
    {
     "data": {
      "text/html": [
       "<ol class=list-inline>\n",
       "\t<li>-0.0189575409702549</li>\n",
       "\t<li>-0.140512544015892</li>\n",
       "\t<li>-0.0438973721387846</li>\n",
       "\t<li>-0.0681595622977732</li>\n",
       "\t<li>-0.123506665841487</li>\n",
       "\t<li>-0.0758881442189889</li>\n",
       "</ol>\n"
      ],
      "text/latex": [
       "\\begin{enumerate*}\n",
       "\\item -0.0189575409702549\n",
       "\\item -0.140512544015892\n",
       "\\item -0.0438973721387846\n",
       "\\item -0.0681595622977732\n",
       "\\item -0.123506665841487\n",
       "\\item -0.0758881442189889\n",
       "\\end{enumerate*}\n"
      ],
      "text/markdown": [
       "1. -0.0189575409702549\n",
       "2. -0.140512544015892\n",
       "3. -0.0438973721387846\n",
       "4. -0.0681595622977732\n",
       "5. -0.123506665841487\n",
       "6. -0.0758881442189889\n",
       "\n",
       "\n"
      ],
      "text/plain": [
       "[1] -0.01895754 -0.14051254 -0.04389737 -0.06815956 -0.12350667 -0.07588814"
      ]
     },
     "metadata": {},
     "output_type": "display_data"
    }
   ],
   "source": [
    "cr <- corr(\"specdata\", threshold = 150)\n",
    "head(cr)"
   ]
  },
  {
   "cell_type": "code",
   "execution_count": 28,
   "metadata": {
    "collapsed": false
   },
   "outputs": [
    {
     "data": {
      "text/plain": [
       "    Min.  1st Qu.   Median     Mean  3rd Qu.     Max. \n",
       "-0.21060 -0.05147  0.09333  0.12400  0.26840  0.76310 "
      ]
     },
     "metadata": {},
     "output_type": "display_data"
    }
   ],
   "source": [
    "summary(cr)"
   ]
  },
  {
   "cell_type": "code",
   "execution_count": 29,
   "metadata": {
    "collapsed": false
   },
   "outputs": [
    {
     "data": {
      "text/html": [
       "<ol class=list-inline>\n",
       "\t<li>-0.0189575409702549</li>\n",
       "\t<li>-0.0438973721387846</li>\n",
       "\t<li>-0.0681595622977732</li>\n",
       "\t<li>-0.0758881442189889</li>\n",
       "\t<li>0.763128837036294</li>\n",
       "\t<li>-0.157828603403922</li>\n",
       "</ol>\n"
      ],
      "text/latex": [
       "\\begin{enumerate*}\n",
       "\\item -0.0189575409702549\n",
       "\\item -0.0438973721387846\n",
       "\\item -0.0681595622977732\n",
       "\\item -0.0758881442189889\n",
       "\\item 0.763128837036294\n",
       "\\item -0.157828603403922\n",
       "\\end{enumerate*}\n"
      ],
      "text/markdown": [
       "1. -0.0189575409702549\n",
       "2. -0.0438973721387846\n",
       "3. -0.0681595622977732\n",
       "4. -0.0758881442189889\n",
       "5. 0.763128837036294\n",
       "6. -0.157828603403922\n",
       "\n",
       "\n"
      ],
      "text/plain": [
       "[1] -0.01895754 -0.04389737 -0.06815956 -0.07588814  0.76312884 -0.15782860"
      ]
     },
     "metadata": {},
     "output_type": "display_data"
    }
   ],
   "source": [
    "cr <- corr(\"specdata\", threshold = 400)\n",
    "head(cr)"
   ]
  },
  {
   "cell_type": "code",
   "execution_count": 30,
   "metadata": {
    "collapsed": false
   },
   "outputs": [
    {
     "data": {
      "text/plain": [
       "    Min.  1st Qu.   Median     Mean  3rd Qu.     Max. \n",
       "-0.17620 -0.03109  0.10020  0.13970  0.26850  0.76310 "
      ]
     },
     "metadata": {},
     "output_type": "display_data"
    }
   ],
   "source": [
    "summary(cr)"
   ]
  },
  {
   "cell_type": "markdown",
   "metadata": {},
   "source": [
    "### Assignments questions"
   ]
  },
  {
   "cell_type": "code",
   "execution_count": 31,
   "metadata": {
    "collapsed": false
   },
   "outputs": [
    {
     "name": "stdout",
     "output_type": "stream",
     "text": [
      "[1]  0.2688  0.1127 -0.0085  0.4586  0.0447\n"
     ]
    }
   ],
   "source": [
    "cr <- corr(\"specdata\")                \n",
    "cr <- sort(cr)                \n",
    "set.seed(868)                \n",
    "out <- round(cr[sample(length(cr), 5)], 4)\n",
    "print(out)"
   ]
  },
  {
   "cell_type": "code",
   "execution_count": 32,
   "metadata": {
    "collapsed": false
   },
   "outputs": [
    {
     "name": "stdout",
     "output_type": "stream",
     "text": [
      "[1] 243.0000   0.2540   0.0504  -0.1462  -0.1680   0.5969\n"
     ]
    }
   ],
   "source": [
    "cr <- corr(\"specdata\", 129)                \n",
    "cr <- sort(cr)                \n",
    "n <- length(cr)                \n",
    "set.seed(197)                \n",
    "out <- c(n, round(cr[sample(n, 5)], 4))\n",
    "print(out)"
   ]
  },
  {
   "cell_type": "code",
   "execution_count": 33,
   "metadata": {
    "collapsed": false
   },
   "outputs": [
    {
     "name": "stdout",
     "output_type": "stream",
     "text": [
      "[1]  0.0000 -0.0190  0.0419  0.1901\n"
     ]
    }
   ],
   "source": [
    "cr <- corr(\"specdata\", 2000)                \n",
    "n <- length(cr)                \n",
    "cr <- corr(\"specdata\", 1000)                \n",
    "cr <- sort(cr)\n",
    "print(c(n, round(cr, 4)))"
   ]
  }
 ],
 "metadata": {
  "kernelspec": {
   "display_name": "R",
   "language": "R",
   "name": "ir"
  },
  "language_info": {
   "codemirror_mode": "r",
   "file_extension": ".r",
   "mimetype": "text/x-r-source",
   "name": "R",
   "pygments_lexer": "r",
   "version": "3.3.1"
  }
 },
 "nbformat": 4,
 "nbformat_minor": 0
}
