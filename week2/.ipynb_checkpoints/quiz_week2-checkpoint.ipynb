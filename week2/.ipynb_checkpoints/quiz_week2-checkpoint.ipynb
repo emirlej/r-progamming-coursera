{
 "cells": [
  {
   "cell_type": "code",
   "execution_count": 1,
   "metadata": {
    "collapsed": false
   },
   "outputs": [
    {
     "data": {
      "text/html": [
       "27"
      ],
      "text/latex": [
       "27"
      ],
      "text/markdown": [
       "27"
      ],
      "text/plain": [
       "[1] 27"
      ]
     },
     "metadata": {},
     "output_type": "display_data"
    }
   ],
   "source": [
    "cube <- function(x, n) {\n",
    "    x^3\n",
    "}\n",
    "\n",
    "cube(3)"
   ]
  },
  {
   "cell_type": "code",
   "execution_count": 2,
   "metadata": {
    "collapsed": false
   },
   "outputs": [
    {
     "name": "stderr",
     "output_type": "stream",
     "text": [
      "Warning message:\n",
      "In if (x > 5) {: the condition has length > 1 and only the first element will be used"
     ]
    },
    {
     "data": {
      "text/html": [
       "<ol class=list-inline>\n",
       "\t<li>FALSE</li>\n",
       "\t<li>FALSE</li>\n",
       "\t<li>FALSE</li>\n",
       "\t<li>FALSE</li>\n",
       "\t<li>FALSE</li>\n",
       "\t<li>TRUE</li>\n",
       "\t<li>TRUE</li>\n",
       "\t<li>TRUE</li>\n",
       "\t<li>TRUE</li>\n",
       "\t<li>TRUE</li>\n",
       "</ol>\n"
      ],
      "text/latex": [
       "\\begin{enumerate*}\n",
       "\\item FALSE\n",
       "\\item FALSE\n",
       "\\item FALSE\n",
       "\\item FALSE\n",
       "\\item FALSE\n",
       "\\item TRUE\n",
       "\\item TRUE\n",
       "\\item TRUE\n",
       "\\item TRUE\n",
       "\\item TRUE\n",
       "\\end{enumerate*}\n"
      ],
      "text/markdown": [
       "1. FALSE\n",
       "2. FALSE\n",
       "3. FALSE\n",
       "4. FALSE\n",
       "5. FALSE\n",
       "6. TRUE\n",
       "7. TRUE\n",
       "8. TRUE\n",
       "9. TRUE\n",
       "10. TRUE\n",
       "\n",
       "\n"
      ],
      "text/plain": [
       " [1] FALSE FALSE FALSE FALSE FALSE  TRUE  TRUE  TRUE  TRUE  TRUE"
      ]
     },
     "metadata": {},
     "output_type": "display_data"
    }
   ],
   "source": [
    "x <- 1:10\n",
    "if (x > 5) {\n",
    "    x <- 0\n",
    "}\n",
    "\n",
    "x > 5"
   ]
  },
  {
   "cell_type": "code",
   "execution_count": 3,
   "metadata": {
    "collapsed": true
   },
   "outputs": [],
   "source": [
    "f <- function(x) {\n",
    "    g <- function(y) {\n",
    "        y + z\n",
    "    }\n",
    "    z <- 4\n",
    "    x + g(x)\n",
    "}"
   ]
  },
  {
   "cell_type": "code",
   "execution_count": 4,
   "metadata": {
    "collapsed": false
   },
   "outputs": [
    {
     "data": {
      "text/html": [
       "10"
      ],
      "text/latex": [
       "10"
      ],
      "text/markdown": [
       "10"
      ],
      "text/plain": [
       "[1] 10"
      ]
     },
     "metadata": {},
     "output_type": "display_data"
    }
   ],
   "source": [
    "z <- 10\n",
    "f(3)"
   ]
  },
  {
   "cell_type": "code",
   "execution_count": 5,
   "metadata": {
    "collapsed": false
   },
   "outputs": [
    {
     "data": {
      "text/html": [
       "10"
      ],
      "text/latex": [
       "10"
      ],
      "text/markdown": [
       "10"
      ],
      "text/plain": [
       "[1] 10"
      ]
     },
     "metadata": {},
     "output_type": "display_data"
    }
   ],
   "source": [
    "x <- 5\n",
    "y <- if(x < 3) NA else 10\n",
    "y"
   ]
  },
  {
   "cell_type": "code",
   "execution_count": 6,
   "metadata": {
    "collapsed": false
   },
   "outputs": [
    {
     "data": {
      "text/html": [
       "<table>\n",
       "<thead><tr><th scope=col>x</th><th scope=col>y</th></tr></thead>\n",
       "<tbody>\n",
       "\t<tr><td>2</td><td>2</td></tr>\n",
       "</tbody>\n",
       "</table>\n"
      ],
      "text/latex": [
       "\\begin{tabular}{ll}\n",
       " x & y\\\\\n",
       "\\hline\n",
       "\t 2 & 2\\\\\n",
       "\\end{tabular}\n"
      ],
      "text/markdown": [
       "1. 2\n",
       "2. 2\n",
       "\n",
       "\n"
      ],
      "text/plain": [
       "     x y\n",
       "[1,] 2 2"
      ]
     },
     "metadata": {},
     "output_type": "display_data"
    }
   ],
   "source": [
    "z <- cbind(x=3, y=3)\n",
    "6 / z"
   ]
  },
  {
   "cell_type": "code",
   "execution_count": 7,
   "metadata": {
    "collapsed": true
   },
   "outputs": [],
   "source": [
    "find_vars <- function(f, vars=list(found=character(), defined=names(formals(f)))) {\n",
    "    if( is.function(f) ) {\n",
    "        # function, begin search on body\n",
    "        return(find_vars(body(f), vars))\n",
    "    } else if (is.call(f) && deparse(f[[1]]) == \"<-\") {\n",
    "        # assignment with <- operator\n",
    "        if (is.recursive(f[[2]])) {\n",
    "           if (is.call(f[[2]]) && deparse(f[[2]][[1]]) == \"$\") {\n",
    "               vars$defined <- unique( c(vars$defined, deparse(f[[2]][[1]])) )  \n",
    "           } else {\n",
    "               warning(paste(\"unable to determine assignments variable in\", deparse(f[[2]])))\n",
    "           }\n",
    "        } else {\n",
    "            vars$defined <- unique( c(vars$defined, deparse(f[[2]])) )  \n",
    "        }\n",
    "        vars <- find_vars(f[[3]], vars)\n",
    "    } else if (is.call(f) && deparse(f[[1]]) == \"$\") {\n",
    "        # assume \"b\" is ok in a$b\n",
    "        vars <- find_vars(f[[2]], vars)\n",
    "    } else if (is.call(f) && deparse(f[[1]]) == \"~\") {\n",
    "        #skip formulas\n",
    "    } else if (is.recursive(f)) {\n",
    "        # compound object, iterate through sub-parts\n",
    "        v <- lapply(as.list(f)[-1], find_vars, vars)\n",
    "        vars$defined <- unique( c(vars$defined, unlist(sapply(v, `[[`, \"defined\"))) )\n",
    "        vars$found <- unique( c(vars$found, unlist(sapply(v, `[[`, \"found\"))) )\n",
    "    } else if (is(f, \"name\")) {\n",
    "        # standard variable name/symbol\n",
    "        vars$found <- unique( c(vars$found, deparse(f)))\n",
    "    }\n",
    "    vars\n",
    "}\n",
    "\n",
    "find_free <- function(f) {\n",
    "    r <- find_vars(f)\n",
    "    return(setdiff(r$found, r$defined))\n",
    "}"
   ]
  },
  {
   "cell_type": "code",
   "execution_count": 8,
   "metadata": {
    "collapsed": true
   },
   "outputs": [],
   "source": [
    "h <- function(x, y = NULL, d = 3L) {\n",
    "        z <- cbind(x, d)\n",
    "    \n",
    "        if(!is.null(y)) {\n",
    "                z <- z + y\n",
    "        } else {\n",
    "                z <- z + f\n",
    "        }\n",
    "        g <- x + y / z\n",
    "        if(d == 3L) {\n",
    "            return(g)\n",
    "        }\n",
    "\n",
    "        g <- g + 10\n",
    "        g\n",
    "}"
   ]
  },
  {
   "cell_type": "code",
   "execution_count": 9,
   "metadata": {
    "collapsed": false
   },
   "outputs": [
    {
     "data": {
      "text/html": [
       "\"f\""
      ],
      "text/latex": [
       "\"f\""
      ],
      "text/markdown": [
       "\"f\""
      ],
      "text/plain": [
       "[1] \"f\""
      ]
     },
     "metadata": {},
     "output_type": "display_data"
    }
   ],
   "source": [
    "find_free(h)"
   ]
  }
 ],
 "metadata": {
  "kernelspec": {
   "display_name": "R",
   "language": "R",
   "name": "ir"
  },
  "language_info": {
   "codemirror_mode": "r",
   "file_extension": ".r",
   "mimetype": "text/x-r-source",
   "name": "R",
   "pygments_lexer": "r",
   "version": "3.3.1"
  }
 },
 "nbformat": 4,
 "nbformat_minor": 0
}
