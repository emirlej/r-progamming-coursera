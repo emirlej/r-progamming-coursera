{
 "cells": [
  {
   "cell_type": "code",
   "execution_count": 1,
   "metadata": {
    "collapsed": true
   },
   "outputs": [],
   "source": [
    "library(datasets)\n",
    "data(iris)"
   ]
  },
  {
   "cell_type": "code",
   "execution_count": 2,
   "metadata": {
    "collapsed": false
   },
   "outputs": [
    {
     "data": {
      "text/html": [
       "<table>\n",
       "<thead><tr><th></th><th scope=col>Sepal.Length</th><th scope=col>Sepal.Width</th><th scope=col>Petal.Length</th><th scope=col>Petal.Width</th><th scope=col>Species</th></tr></thead>\n",
       "<tbody>\n",
       "\t<tr><th scope=row>1</th><td>5.1   </td><td>3.5   </td><td>1.4   </td><td>0.2   </td><td>setosa</td></tr>\n",
       "\t<tr><th scope=row>2</th><td>4.9   </td><td>3     </td><td>1.4   </td><td>0.2   </td><td>setosa</td></tr>\n",
       "\t<tr><th scope=row>3</th><td>4.7   </td><td>3.2   </td><td>1.3   </td><td>0.2   </td><td>setosa</td></tr>\n",
       "\t<tr><th scope=row>4</th><td>4.6   </td><td>3.1   </td><td>1.5   </td><td>0.2   </td><td>setosa</td></tr>\n",
       "\t<tr><th scope=row>5</th><td>5     </td><td>3.6   </td><td>1.4   </td><td>0.2   </td><td>setosa</td></tr>\n",
       "\t<tr><th scope=row>6</th><td>5.4   </td><td>3.9   </td><td>1.7   </td><td>0.4   </td><td>setosa</td></tr>\n",
       "</tbody>\n",
       "</table>\n"
      ],
      "text/latex": [
       "\\begin{tabular}{r|lllll}\n",
       "  & Sepal.Length & Sepal.Width & Petal.Length & Petal.Width & Species\\\\\n",
       "\\hline\n",
       "\t1 & 5.1    & 3.5    & 1.4    & 0.2    & setosa\\\\\n",
       "\t2 & 4.9    & 3      & 1.4    & 0.2    & setosa\\\\\n",
       "\t3 & 4.7    & 3.2    & 1.3    & 0.2    & setosa\\\\\n",
       "\t4 & 4.6    & 3.1    & 1.5    & 0.2    & setosa\\\\\n",
       "\t5 & 5      & 3.6    & 1.4    & 0.2    & setosa\\\\\n",
       "\t6 & 5.4    & 3.9    & 1.7    & 0.4    & setosa\\\\\n",
       "\\end{tabular}\n"
      ],
      "text/plain": [
       "  Sepal.Length Sepal.Width Petal.Length Petal.Width Species\n",
       "1          5.1         3.5          1.4         0.2  setosa\n",
       "2          4.9         3.0          1.4         0.2  setosa\n",
       "3          4.7         3.2          1.3         0.2  setosa\n",
       "4          4.6         3.1          1.5         0.2  setosa\n",
       "5          5.0         3.6          1.4         0.2  setosa\n",
       "6          5.4         3.9          1.7         0.4  setosa"
      ]
     },
     "metadata": {},
     "output_type": "display_data"
    }
   ],
   "source": [
    "head(iris)"
   ]
  },
  {
   "cell_type": "code",
   "execution_count": 3,
   "metadata": {
    "collapsed": false
   },
   "outputs": [
    {
     "data": {
      "text/plain": [
       "  Sepal.Length    Sepal.Width     Petal.Length    Petal.Width   \n",
       " Min.   :4.300   Min.   :2.000   Min.   :1.000   Min.   :0.100  \n",
       " 1st Qu.:5.100   1st Qu.:2.800   1st Qu.:1.600   1st Qu.:0.300  \n",
       " Median :5.800   Median :3.000   Median :4.350   Median :1.300  \n",
       " Mean   :5.843   Mean   :3.057   Mean   :3.758   Mean   :1.199  \n",
       " 3rd Qu.:6.400   3rd Qu.:3.300   3rd Qu.:5.100   3rd Qu.:1.800  \n",
       " Max.   :7.900   Max.   :4.400   Max.   :6.900   Max.   :2.500  \n",
       "       Species  \n",
       " setosa    :50  \n",
       " versicolor:50  \n",
       " virginica :50  \n",
       "                \n",
       "                \n",
       "                "
      ]
     },
     "metadata": {},
     "output_type": "display_data"
    }
   ],
   "source": [
    "summary(iris)"
   ]
  },
  {
   "cell_type": "code",
   "execution_count": 4,
   "metadata": {
    "collapsed": false
   },
   "outputs": [
    {
     "data": {
      "text/html": [
       "<dl class=dl-horizontal>\n",
       "\t<dt>Sepal.Length</dt>\n",
       "\t\t<dd>5.84333333333333</dd>\n",
       "\t<dt>Sepal.Width</dt>\n",
       "\t\t<dd>3.05733333333333</dd>\n",
       "\t<dt>Petal.Length</dt>\n",
       "\t\t<dd>3.758</dd>\n",
       "\t<dt>Petal.Width</dt>\n",
       "\t\t<dd>1.19933333333333</dd>\n",
       "</dl>\n"
      ],
      "text/latex": [
       "\\begin{description*}\n",
       "\\item[Sepal.Length] 5.84333333333333\n",
       "\\item[Sepal.Width] 3.05733333333333\n",
       "\\item[Petal.Length] 3.758\n",
       "\\item[Petal.Width] 1.19933333333333\n",
       "\\end{description*}\n"
      ],
      "text/markdown": [
       "Sepal.Length\n",
       ":   5.84333333333333Sepal.Width\n",
       ":   3.05733333333333Petal.Length\n",
       ":   3.758Petal.Width\n",
       ":   1.19933333333333\n",
       "\n"
      ],
      "text/plain": [
       "Sepal.Length  Sepal.Width Petal.Length  Petal.Width \n",
       "    5.843333     3.057333     3.758000     1.199333 "
      ]
     },
     "metadata": {},
     "output_type": "display_data"
    }
   ],
   "source": [
    "colMeans(iris[, c(1, 2, 3, 4)], na.rm=TRUE)"
   ]
  },
  {
   "cell_type": "code",
   "execution_count": 5,
   "metadata": {
    "collapsed": false
   },
   "outputs": [
    {
     "data": {
      "text/html": [
       "6.588"
      ],
      "text/latex": [
       "6.588"
      ],
      "text/markdown": [
       "6.588"
      ],
      "text/plain": [
       "[1] 6.588"
      ]
     },
     "metadata": {},
     "output_type": "display_data"
    }
   ],
   "source": [
    "mean(iris[with(iris, Species == \"virginica\"), c(\"Sepal.Length\")])"
   ]
  },
  {
   "cell_type": "code",
   "execution_count": 6,
   "metadata": {
    "collapsed": false
   },
   "outputs": [
    {
     "data": {
      "text/html": [
       "<dl class=dl-horizontal>\n",
       "\t<dt>Sepal.Length</dt>\n",
       "\t\t<dd>5.84333333333333</dd>\n",
       "\t<dt>Sepal.Width</dt>\n",
       "\t\t<dd>3.05733333333333</dd>\n",
       "\t<dt>Petal.Length</dt>\n",
       "\t\t<dd>3.758</dd>\n",
       "\t<dt>Petal.Width</dt>\n",
       "\t\t<dd>1.19933333333333</dd>\n",
       "</dl>\n"
      ],
      "text/latex": [
       "\\begin{description*}\n",
       "\\item[Sepal.Length] 5.84333333333333\n",
       "\\item[Sepal.Width] 3.05733333333333\n",
       "\\item[Petal.Length] 3.758\n",
       "\\item[Petal.Width] 1.19933333333333\n",
       "\\end{description*}\n"
      ],
      "text/markdown": [
       "Sepal.Length\n",
       ":   5.84333333333333Sepal.Width\n",
       ":   3.05733333333333Petal.Length\n",
       ":   3.758Petal.Width\n",
       ":   1.19933333333333\n",
       "\n"
      ],
      "text/plain": [
       "Sepal.Length  Sepal.Width Petal.Length  Petal.Width \n",
       "    5.843333     3.057333     3.758000     1.199333 "
      ]
     },
     "metadata": {},
     "output_type": "display_data"
    }
   ],
   "source": [
    "apply(iris[, 1:4], 2, mean)"
   ]
  },
  {
   "cell_type": "code",
   "execution_count": 7,
   "metadata": {
    "collapsed": true
   },
   "outputs": [],
   "source": [
    "data(mtcars)"
   ]
  },
  {
   "cell_type": "code",
   "execution_count": 8,
   "metadata": {
    "collapsed": false
   },
   "outputs": [
    {
     "data": {
      "text/html": [
       "\n",
       "<table width=\"100%\" summary=\"page for mtcars {datasets}\"><tr><td>mtcars {datasets}</td><td style=\"text-align: right;\">R Documentation</td></tr></table>\n",
       "\n",
       "<h2>Motor Trend Car Road Tests</h2>\n",
       "\n",
       "<h3>Description</h3>\n",
       "\n",
       "<p>The data was extracted from the 1974 <em>Motor Trend</em> US magazine,\n",
       "and comprises fuel consumption and 10 aspects of\n",
       "automobile design and performance for 32 automobiles (1973&ndash;74\n",
       "models).\n",
       "</p>\n",
       "\n",
       "\n",
       "<h3>Usage</h3>\n",
       "\n",
       "<pre>mtcars</pre>\n",
       "\n",
       "\n",
       "<h3>Format</h3>\n",
       "\n",
       "<p>A data frame with 32 observations on 11 variables.\n",
       "</p>\n",
       "\n",
       "<table summary=\"Rd table\">\n",
       "<tr>\n",
       " <td style=\"text-align: right;\">\n",
       "    [, 1] </td><td style=\"text-align: left;\"> mpg  </td><td style=\"text-align: left;\"> Miles/(US) gallon </td>\n",
       "</tr>\n",
       "<tr>\n",
       " <td style=\"text-align: right;\">\n",
       "    [, 2] </td><td style=\"text-align: left;\"> cyl  </td><td style=\"text-align: left;\"> Number of cylinders </td>\n",
       "</tr>\n",
       "<tr>\n",
       " <td style=\"text-align: right;\">\n",
       "    [, 3] </td><td style=\"text-align: left;\"> disp </td><td style=\"text-align: left;\"> Displacement (cu.in.) </td>\n",
       "</tr>\n",
       "<tr>\n",
       " <td style=\"text-align: right;\">\n",
       "    [, 4] </td><td style=\"text-align: left;\"> hp   </td><td style=\"text-align: left;\"> Gross horsepower </td>\n",
       "</tr>\n",
       "<tr>\n",
       " <td style=\"text-align: right;\">\n",
       "    [, 5] </td><td style=\"text-align: left;\"> drat </td><td style=\"text-align: left;\"> Rear axle ratio </td>\n",
       "</tr>\n",
       "<tr>\n",
       " <td style=\"text-align: right;\">\n",
       "    [, 6] </td><td style=\"text-align: left;\"> wt   </td><td style=\"text-align: left;\"> Weight (1000 lbs) </td>\n",
       "</tr>\n",
       "<tr>\n",
       " <td style=\"text-align: right;\">\n",
       "    [, 7] </td><td style=\"text-align: left;\"> qsec </td><td style=\"text-align: left;\"> 1/4 mile time </td>\n",
       "</tr>\n",
       "<tr>\n",
       " <td style=\"text-align: right;\">\n",
       "    [, 8] </td><td style=\"text-align: left;\"> vs   </td><td style=\"text-align: left;\"> V/S </td>\n",
       "</tr>\n",
       "<tr>\n",
       " <td style=\"text-align: right;\">\n",
       "    [, 9] </td><td style=\"text-align: left;\"> am   </td><td style=\"text-align: left;\"> Transmission (0 = automatic, 1 = manual) </td>\n",
       "</tr>\n",
       "<tr>\n",
       " <td style=\"text-align: right;\">\n",
       "    [,10] </td><td style=\"text-align: left;\"> gear </td><td style=\"text-align: left;\"> Number of forward gears </td>\n",
       "</tr>\n",
       "<tr>\n",
       " <td style=\"text-align: right;\">\n",
       "    [,11] </td><td style=\"text-align: left;\"> carb </td><td style=\"text-align: left;\"> Number of carburetors\n",
       "  </td>\n",
       "</tr>\n",
       "\n",
       "</table>\n",
       "\n",
       "\n",
       "\n",
       "<h3>Source</h3>\n",
       "\n",
       "<p>Henderson and Velleman (1981),\n",
       "Building multiple regression models interactively.\n",
       "<em>Biometrics</em>, <b>37</b>, 391&ndash;411.\n",
       "</p>\n",
       "\n",
       "\n",
       "<h3>Examples</h3>\n",
       "\n",
       "<pre>\n",
       "require(graphics)\n",
       "pairs(mtcars, main = \"mtcars data\")\n",
       "coplot(mpg ~ disp | as.factor(cyl), data = mtcars,\n",
       "       panel = panel.smooth, rows = 1)\n",
       "</pre>\n",
       "\n",
       "<hr /><div style=\"text-align: center;\">[Package <em>datasets</em> version 3.3.1 ]</div>"
      ],
      "text/latex": [
       "\\inputencoding{utf8}\n",
       "\\HeaderA{mtcars}{Motor Trend Car Road Tests}{mtcars}\n",
       "\\keyword{datasets}{mtcars}\n",
       "%\n",
       "\\begin{Description}\\relax\n",
       "The data was extracted from the 1974 \\emph{Motor Trend} US magazine,\n",
       "and comprises fuel consumption and 10 aspects of\n",
       "automobile design and performance for 32 automobiles (1973--74\n",
       "models).\n",
       "\\end{Description}\n",
       "%\n",
       "\\begin{Usage}\n",
       "\\begin{verbatim}\n",
       "mtcars\n",
       "\\end{verbatim}\n",
       "\\end{Usage}\n",
       "%\n",
       "\\begin{Format}\n",
       "A data frame with 32 observations on 11 variables.\n",
       "\n",
       "\\Tabular{rll}{\n",
       "[, 1] & mpg  & Miles/(US) gallon \\\\{}\n",
       "[, 2] & cyl  & Number of cylinders \\\\{}\n",
       "[, 3] & disp & Displacement (cu.in.) \\\\{}\n",
       "[, 4] & hp   & Gross horsepower \\\\{}\n",
       "[, 5] & drat & Rear axle ratio \\\\{}\n",
       "[, 6] & wt   & Weight (1000 lbs) \\\\{}\n",
       "[, 7] & qsec & 1/4 mile time \\\\{}\n",
       "[, 8] & vs   & V/S \\\\{}\n",
       "[, 9] & am   & Transmission (0 = automatic, 1 = manual) \\\\{}\n",
       "[,10] & gear & Number of forward gears \\\\{}\n",
       "[,11] & carb & Number of carburetors\n",
       "}\n",
       "\\end{Format}\n",
       "%\n",
       "\\begin{Source}\\relax\n",
       "Henderson and Velleman (1981),\n",
       "Building multiple regression models interactively.\n",
       "\\emph{Biometrics}, \\bold{37}, 391--411.\n",
       "\\end{Source}\n",
       "%\n",
       "\\begin{Examples}\n",
       "\\begin{ExampleCode}\n",
       "require(graphics)\n",
       "pairs(mtcars, main = \"mtcars data\")\n",
       "coplot(mpg ~ disp | as.factor(cyl), data = mtcars,\n",
       "       panel = panel.smooth, rows = 1)\n",
       "\\end{ExampleCode}\n",
       "\\end{Examples}"
      ],
      "text/plain": [
       "mtcars                package:datasets                 R Documentation\n",
       "\n",
       "_\bM_\bo_\bt_\bo_\br _\bT_\br_\be_\bn_\bd _\bC_\ba_\br _\bR_\bo_\ba_\bd _\bT_\be_\bs_\bt_\bs\n",
       "\n",
       "_\bD_\be_\bs_\bc_\br_\bi_\bp_\bt_\bi_\bo_\bn:\n",
       "\n",
       "     The data was extracted from the 1974 _Motor Trend_ US magazine,\n",
       "     and comprises fuel consumption and 10 aspects of automobile design\n",
       "     and performance for 32 automobiles (1973-74 models).\n",
       "\n",
       "_\bU_\bs_\ba_\bg_\be:\n",
       "\n",
       "     mtcars\n",
       "     \n",
       "_\bF_\bo_\br_\bm_\ba_\bt:\n",
       "\n",
       "     A data frame with 32 observations on 11 variables.\n",
       "\n",
       "       [, 1]  mpg   Miles/(US) gallon                        \n",
       "       [, 2]  cyl   Number of cylinders                      \n",
       "       [, 3]  disp  Displacement (cu.in.)                    \n",
       "       [, 4]  hp    Gross horsepower                         \n",
       "       [, 5]  drat  Rear axle ratio                          \n",
       "       [, 6]  wt    Weight (1000 lbs)                        \n",
       "       [, 7]  qsec  1/4 mile time                            \n",
       "       [, 8]  vs    V/S                                      \n",
       "       [, 9]  am    Transmission (0 = automatic, 1 = manual) \n",
       "       [,10]  gear  Number of forward gears                  \n",
       "       [,11]  carb  Number of carburetors                    \n",
       "      \n",
       "_\bS_\bo_\bu_\br_\bc_\be:\n",
       "\n",
       "     Henderson and Velleman (1981), Building multiple regression models\n",
       "     interactively.  _Biometrics_, *37*, 391-411.\n",
       "\n",
       "_\bE_\bx_\ba_\bm_\bp_\bl_\be_\bs:\n",
       "\n",
       "     require(graphics)\n",
       "     pairs(mtcars, main = \"mtcars data\")\n",
       "     coplot(mpg ~ disp | as.factor(cyl), data = mtcars,\n",
       "            panel = panel.smooth, rows = 1)\n",
       "     "
      ]
     },
     "metadata": {},
     "output_type": "display_data"
    }
   ],
   "source": [
    "?mtcars"
   ]
  },
  {
   "cell_type": "code",
   "execution_count": 9,
   "metadata": {
    "collapsed": false
   },
   "outputs": [
    {
     "data": {
      "text/html": [
       "<table>\n",
       "<thead><tr><th></th><th scope=col>mpg</th><th scope=col>cyl</th><th scope=col>disp</th><th scope=col>hp</th><th scope=col>drat</th><th scope=col>wt</th><th scope=col>qsec</th><th scope=col>vs</th><th scope=col>am</th><th scope=col>gear</th><th scope=col>carb</th></tr></thead>\n",
       "<tbody>\n",
       "\t<tr><th scope=row>Mazda RX4</th><td> 21.00</td><td>  6.00</td><td>160.00</td><td>110.00</td><td>  3.90</td><td>  2.62</td><td> 16.46</td><td>  0.00</td><td>  1.00</td><td>  4.00</td><td>  4.00</td></tr>\n",
       "\t<tr><th scope=row>Mazda RX4 Wag</th><td> 21.000</td><td>  6.000</td><td>160.000</td><td>110.000</td><td>  3.900</td><td>  2.875</td><td> 17.020</td><td>  0.000</td><td>  1.000</td><td>  4.000</td><td>  4.000</td></tr>\n",
       "\t<tr><th scope=row>Datsun 710</th><td> 22.80</td><td>  4.00</td><td>108.00</td><td> 93.00</td><td>  3.85</td><td>  2.32</td><td> 18.61</td><td>  1.00</td><td>  1.00</td><td>  4.00</td><td>  1.00</td></tr>\n",
       "\t<tr><th scope=row>Hornet 4 Drive</th><td> 21.400</td><td>  6.000</td><td>258.000</td><td>110.000</td><td>  3.080</td><td>  3.215</td><td> 19.440</td><td>  1.000</td><td>  0.000</td><td>  3.000</td><td>  1.000</td></tr>\n",
       "\t<tr><th scope=row>Hornet Sportabout</th><td> 18.70</td><td>  8.00</td><td>360.00</td><td>175.00</td><td>  3.15</td><td>  3.44</td><td> 17.02</td><td>  0.00</td><td>  0.00</td><td>  3.00</td><td>  2.00</td></tr>\n",
       "\t<tr><th scope=row>Valiant</th><td> 18.10</td><td>  6.00</td><td>225.00</td><td>105.00</td><td>  2.76</td><td>  3.46</td><td> 20.22</td><td>  1.00</td><td>  0.00</td><td>  3.00</td><td>  1.00</td></tr>\n",
       "</tbody>\n",
       "</table>\n"
      ],
      "text/latex": [
       "\\begin{tabular}{r|lllllllllll}\n",
       "  & mpg & cyl & disp & hp & drat & wt & qsec & vs & am & gear & carb\\\\\n",
       "\\hline\n",
       "\tMazda RX4 &  21.00 &   6.00 & 160.00 & 110.00 &   3.90 &   2.62 &  16.46 &   0.00 &   1.00 &   4.00 &   4.00\\\\\n",
       "\tMazda RX4 Wag &  21.000 &   6.000 & 160.000 & 110.000 &   3.900 &   2.875 &  17.020 &   0.000 &   1.000 &   4.000 &   4.000\\\\\n",
       "\tDatsun 710 &  22.80 &   4.00 & 108.00 &  93.00 &   3.85 &   2.32 &  18.61 &   1.00 &   1.00 &   4.00 &   1.00\\\\\n",
       "\tHornet 4 Drive &  21.400 &   6.000 & 258.000 & 110.000 &   3.080 &   3.215 &  19.440 &   1.000 &   0.000 &   3.000 &   1.000\\\\\n",
       "\tHornet Sportabout &  18.70 &   8.00 & 360.00 & 175.00 &   3.15 &   3.44 &  17.02 &   0.00 &   0.00 &   3.00 &   2.00\\\\\n",
       "\tValiant &  18.10 &   6.00 & 225.00 & 105.00 &   2.76 &   3.46 &  20.22 &   1.00 &   0.00 &   3.00 &   1.00\\\\\n",
       "\\end{tabular}\n"
      ],
      "text/plain": [
       "                   mpg cyl disp  hp drat    wt  qsec vs am gear carb\n",
       "Mazda RX4         21.0   6  160 110 3.90 2.620 16.46  0  1    4    4\n",
       "Mazda RX4 Wag     21.0   6  160 110 3.90 2.875 17.02  0  1    4    4\n",
       "Datsun 710        22.8   4  108  93 3.85 2.320 18.61  1  1    4    1\n",
       "Hornet 4 Drive    21.4   6  258 110 3.08 3.215 19.44  1  0    3    1\n",
       "Hornet Sportabout 18.7   8  360 175 3.15 3.440 17.02  0  0    3    2\n",
       "Valiant           18.1   6  225 105 2.76 3.460 20.22  1  0    3    1"
      ]
     },
     "metadata": {},
     "output_type": "display_data"
    }
   ],
   "source": [
    "head(mtcars)"
   ]
  },
  {
   "cell_type": "code",
   "execution_count": 10,
   "metadata": {
    "collapsed": false
   },
   "outputs": [
    {
     "data": {
      "text/html": [
       "<table>\n",
       "<thead><tr><th></th><th scope=col>mpg</th><th scope=col>cyl</th><th scope=col>avg_mpg_by_cyl</th></tr></thead>\n",
       "<tbody>\n",
       "\t<tr><th scope=row>Mazda RX4</th><td>21.0</td><td> 6.0</td><td> 3.5</td></tr>\n",
       "\t<tr><th scope=row>Mazda RX4 Wag</th><td>21.0</td><td> 6.0</td><td> 3.5</td></tr>\n",
       "\t<tr><th scope=row>Datsun 710</th><td>22.8</td><td> 4.0</td><td> 5.7</td></tr>\n",
       "\t<tr><th scope=row>Hornet 4 Drive</th><td>21.400000</td><td> 6.000000</td><td> 3.566667</td></tr>\n",
       "\t<tr><th scope=row>Hornet Sportabout</th><td>18.7000</td><td> 8.0000</td><td> 2.3375</td></tr>\n",
       "\t<tr><th scope=row>Valiant</th><td>18.100000</td><td> 6.000000</td><td> 3.016667</td></tr>\n",
       "</tbody>\n",
       "</table>\n"
      ],
      "text/latex": [
       "\\begin{tabular}{r|lll}\n",
       "  & mpg & cyl & avg\\_mpg\\_by\\_cyl\\\\\n",
       "\\hline\n",
       "\tMazda RX4 & 21.0 &  6.0 &  3.5\\\\\n",
       "\tMazda RX4 Wag & 21.0 &  6.0 &  3.5\\\\\n",
       "\tDatsun 710 & 22.8 &  4.0 &  5.7\\\\\n",
       "\tHornet 4 Drive & 21.400000 &  6.000000 &  3.566667\\\\\n",
       "\tHornet Sportabout & 18.7000 &  8.0000 &  2.3375\\\\\n",
       "\tValiant & 18.100000 &  6.000000 &  3.016667\\\\\n",
       "\\end{tabular}\n"
      ],
      "text/plain": [
       "                   mpg cyl avg_mpg_by_cyl\n",
       "Mazda RX4         21.0   6       3.500000\n",
       "Mazda RX4 Wag     21.0   6       3.500000\n",
       "Datsun 710        22.8   4       5.700000\n",
       "Hornet 4 Drive    21.4   6       3.566667\n",
       "Hornet Sportabout 18.7   8       2.337500\n",
       "Valiant           18.1   6       3.016667"
      ]
     },
     "metadata": {},
     "output_type": "display_data"
    }
   ],
   "source": [
    "mtcars[\"avg_mpg_by_cyl\"] <- mtcars[, c(\"mpg\")] / mtcars[, c(\"cyl\")]\n",
    "head(mtcars[, c(\"mpg\", \"cyl\", \"avg_mpg_by_cyl\")])"
   ]
  },
  {
   "cell_type": "code",
   "execution_count": 11,
   "metadata": {
    "collapsed": false
   },
   "outputs": [
    {
     "data": {
      "text/html": [
       "<dl>\n",
       "\t<dt>$`4`</dt>\n",
       "\t\t<dd><ol class=list-inline>\n",
       "\t<li>22.8</li>\n",
       "\t<li>24.4</li>\n",
       "\t<li>22.8</li>\n",
       "\t<li>32.4</li>\n",
       "\t<li>30.4</li>\n",
       "\t<li>33.9</li>\n",
       "\t<li>21.5</li>\n",
       "\t<li>27.3</li>\n",
       "\t<li>26</li>\n",
       "\t<li>30.4</li>\n",
       "\t<li>21.4</li>\n",
       "</ol>\n",
       "</dd>\n",
       "\t<dt>$`6`</dt>\n",
       "\t\t<dd><ol class=list-inline>\n",
       "\t<li>21</li>\n",
       "\t<li>21</li>\n",
       "\t<li>21.4</li>\n",
       "\t<li>18.1</li>\n",
       "\t<li>19.2</li>\n",
       "\t<li>17.8</li>\n",
       "\t<li>19.7</li>\n",
       "</ol>\n",
       "</dd>\n",
       "\t<dt>$`8`</dt>\n",
       "\t\t<dd><ol class=list-inline>\n",
       "\t<li>18.7</li>\n",
       "\t<li>14.3</li>\n",
       "\t<li>16.4</li>\n",
       "\t<li>17.3</li>\n",
       "\t<li>15.2</li>\n",
       "\t<li>10.4</li>\n",
       "\t<li>10.4</li>\n",
       "\t<li>14.7</li>\n",
       "\t<li>15.5</li>\n",
       "\t<li>15.2</li>\n",
       "\t<li>13.3</li>\n",
       "\t<li>19.2</li>\n",
       "\t<li>15.8</li>\n",
       "\t<li>15</li>\n",
       "</ol>\n",
       "</dd>\n",
       "</dl>\n"
      ],
      "text/latex": [
       "\\begin{description}\n",
       "\\item[\\$`4`] \\begin{enumerate*}\n",
       "\\item 22.8\n",
       "\\item 24.4\n",
       "\\item 22.8\n",
       "\\item 32.4\n",
       "\\item 30.4\n",
       "\\item 33.9\n",
       "\\item 21.5\n",
       "\\item 27.3\n",
       "\\item 26\n",
       "\\item 30.4\n",
       "\\item 21.4\n",
       "\\end{enumerate*}\n",
       "\n",
       "\\item[\\$`6`] \\begin{enumerate*}\n",
       "\\item 21\n",
       "\\item 21\n",
       "\\item 21.4\n",
       "\\item 18.1\n",
       "\\item 19.2\n",
       "\\item 17.8\n",
       "\\item 19.7\n",
       "\\end{enumerate*}\n",
       "\n",
       "\\item[\\$`8`] \\begin{enumerate*}\n",
       "\\item 18.7\n",
       "\\item 14.3\n",
       "\\item 16.4\n",
       "\\item 17.3\n",
       "\\item 15.2\n",
       "\\item 10.4\n",
       "\\item 10.4\n",
       "\\item 14.7\n",
       "\\item 15.5\n",
       "\\item 15.2\n",
       "\\item 13.3\n",
       "\\item 19.2\n",
       "\\item 15.8\n",
       "\\item 15\n",
       "\\end{enumerate*}\n",
       "\n",
       "\\end{description}\n"
      ],
      "text/markdown": [
       "$`4`\n",
       ":   1. 22.8\n",
       "2. 24.4\n",
       "3. 22.8\n",
       "4. 32.4\n",
       "5. 30.4\n",
       "6. 33.9\n",
       "7. 21.5\n",
       "8. 27.3\n",
       "9. 26\n",
       "10. 30.4\n",
       "11. 21.4\n",
       "\n",
       "\n",
       "\n",
       "$`6`\n",
       ":   1. 21\n",
       "2. 21\n",
       "3. 21.4\n",
       "4. 18.1\n",
       "5. 19.2\n",
       "6. 17.8\n",
       "7. 19.7\n",
       "\n",
       "\n",
       "\n",
       "$`8`\n",
       ":   1. 18.7\n",
       "2. 14.3\n",
       "3. 16.4\n",
       "4. 17.3\n",
       "5. 15.2\n",
       "6. 10.4\n",
       "7. 10.4\n",
       "8. 14.7\n",
       "9. 15.5\n",
       "10. 15.2\n",
       "11. 13.3\n",
       "12. 19.2\n",
       "13. 15.8\n",
       "14. 15\n",
       "\n",
       "\n",
       "\n",
       "\n",
       "\n"
      ],
      "text/plain": [
       "$`4`\n",
       " [1] 22.8 24.4 22.8 32.4 30.4 33.9 21.5 27.3 26.0 30.4 21.4\n",
       "\n",
       "$`6`\n",
       "[1] 21.0 21.0 21.4 18.1 19.2 17.8 19.7\n",
       "\n",
       "$`8`\n",
       " [1] 18.7 14.3 16.4 17.3 15.2 10.4 10.4 14.7 15.5 15.2 13.3 19.2 15.8 15.0\n"
      ]
     },
     "metadata": {},
     "output_type": "display_data"
    }
   ],
   "source": [
    "split(mtcars$mpg, mtcars$cyl) # Get a list where key = cyl and value is list of mpg"
   ]
  },
  {
   "cell_type": "code",
   "execution_count": 12,
   "metadata": {
    "collapsed": false
   },
   "outputs": [
    {
     "name": "stdout",
     "output_type": "stream",
     "text": [
      "$`4`\n",
      "[1] 26.66364\n",
      "\n",
      "$`6`\n",
      "[1] 19.74286\n",
      "\n",
      "$`8`\n",
      "[1] 15.1\n",
      "\n"
     ]
    }
   ],
   "source": [
    "print(lapply(split(mtcars$mpg, mtcars$cyl), mean))"
   ]
  },
  {
   "cell_type": "code",
   "execution_count": 13,
   "metadata": {
    "collapsed": false
   },
   "outputs": [
    {
     "name": "stdout",
     "output_type": "stream",
     "text": [
      "       4        6        8 \n",
      "26.66364 19.74286 15.10000 \n"
     ]
    }
   ],
   "source": [
    "print(with(mtcars, tapply(mpg, cyl, mean)))"
   ]
  },
  {
   "cell_type": "code",
   "execution_count": 14,
   "metadata": {
    "collapsed": false
   },
   "outputs": [
    {
     "name": "stdout",
     "output_type": "stream",
     "text": [
      "       4        6        8 \n",
      "26.66364 19.74286 15.10000 \n"
     ]
    }
   ],
   "source": [
    "print(tapply(mtcars$mpg, mtcars$cyl, mean))"
   ]
  },
  {
   "cell_type": "code",
   "execution_count": 15,
   "metadata": {
    "collapsed": false
   },
   "outputs": [
    {
     "data": {
      "text/html": [
       "126.577922077922"
      ],
      "text/latex": [
       "126.577922077922"
      ],
      "text/markdown": [
       "126.577922077922"
      ],
      "text/plain": [
       "[1] 126.5779"
      ]
     },
     "metadata": {},
     "output_type": "display_data"
    }
   ],
   "source": [
    "mean(mtcars[with(mtcars, cyl == 8), c(\"hp\")]) - mean(mtcars[with(mtcars, cyl == 4), c(\"hp\")])"
   ]
  },
  {
   "cell_type": "code",
   "execution_count": 16,
   "metadata": {
    "collapsed": false
   },
   "outputs": [
    {
     "name": "stdout",
     "output_type": "stream",
     "text": [
      "debugging in: ls()\n",
      "debug: {\n",
      "    if (!missing(name)) {\n",
      "        pos <- tryCatch(name, error = function(e) e)\n",
      "        if (inherits(pos, \"error\")) {\n",
      "            name <- substitute(name)\n",
      "            if (!is.character(name)) \n",
      "                name <- deparse(name)\n",
      "            warning(gettextf(\"%s converted to character string\", \n",
      "                sQuote(name)), domain = NA)\n",
      "            pos <- name\n",
      "        }\n",
      "    }\n",
      "    all.names <- .Internal(ls(envir, all.names, sorted))\n",
      "    if (!missing(pattern)) {\n",
      "        if ((ll <- length(grep(\"[\", pattern, fixed = TRUE))) && \n",
      "            ll != length(grep(\"]\", pattern, fixed = TRUE))) {\n",
      "            if (pattern == \"[\") {\n",
      "                pattern <- \"\\\\[\"\n",
      "                warning(\"replaced regular expression pattern '[' by  '\\\\\\\\['\")\n",
      "            }\n",
      "            else if (length(grep(\"[^\\\\\\\\]\\\\[<-\", pattern))) {\n",
      "                pattern <- sub(\"\\\\[<-\", \"\\\\\\\\\\\\[<-\", pattern)\n",
      "                warning(\"replaced '[<-' by '\\\\\\\\[<-' in regular expression pattern\")\n",
      "            }\n",
      "        }\n",
      "        grep(pattern, all.names, value = TRUE)\n",
      "    }\n",
      "    else all.names\n",
      "}\n",
      "debug: if (!missing(name)) {\n",
      "    pos <- tryCatch(name, error = function(e) e)\n",
      "    if (inherits(pos, \"error\")) {\n",
      "        name <- substitute(name)\n",
      "        if (!is.character(name)) \n",
      "            name <- deparse(name)\n",
      "        warning(gettextf(\"%s converted to character string\", \n",
      "            sQuote(name)), domain = NA)\n",
      "        pos <- name\n",
      "    }\n",
      "}\n",
      "debug: all.names <- .Internal(ls(envir, all.names, sorted))\n",
      "debug: if (!missing(pattern)) {\n",
      "    if ((ll <- length(grep(\"[\", pattern, fixed = TRUE))) && ll != \n",
      "        length(grep(\"]\", pattern, fixed = TRUE))) {\n",
      "        if (pattern == \"[\") {\n",
      "            pattern <- \"\\\\[\"\n",
      "            warning(\"replaced regular expression pattern '[' by  '\\\\\\\\['\")\n",
      "        }\n",
      "        else if (length(grep(\"[^\\\\\\\\]\\\\[<-\", pattern))) {\n",
      "            pattern <- sub(\"\\\\[<-\", \"\\\\\\\\\\\\[<-\", pattern)\n",
      "            warning(\"replaced '[<-' by '\\\\\\\\[<-' in regular expression pattern\")\n",
      "        }\n",
      "    }\n",
      "    grep(pattern, all.names, value = TRUE)\n",
      "} else all.names\n",
      "debug: all.names\n",
      "exiting from: ls()\n"
     ]
    },
    {
     "data": {
      "text/html": [
       "<ol class=list-inline>\n",
       "\t<li>\"iris\"</li>\n",
       "\t<li>\"mtcars\"</li>\n",
       "\t<li>\"q\"</li>\n",
       "\t<li>\"quit\"</li>\n",
       "</ol>\n"
      ],
      "text/latex": [
       "\\begin{enumerate*}\n",
       "\\item \"iris\"\n",
       "\\item \"mtcars\"\n",
       "\\item \"q\"\n",
       "\\item \"quit\"\n",
       "\\end{enumerate*}\n"
      ],
      "text/markdown": [
       "1. \"iris\"\n",
       "2. \"mtcars\"\n",
       "3. \"q\"\n",
       "4. \"quit\"\n",
       "\n",
       "\n"
      ],
      "text/plain": [
       "[1] \"iris\"   \"mtcars\" \"q\"      \"quit\"  "
      ]
     },
     "metadata": {},
     "output_type": "display_data"
    }
   ],
   "source": [
    "debug(ls)\n",
    "ls()"
   ]
  }
 ],
 "metadata": {
  "anaconda-cloud": {},
  "kernelspec": {
   "display_name": "R",
   "language": "R",
   "name": "ir"
  },
  "language_info": {
   "codemirror_mode": "r",
   "file_extension": ".r",
   "mimetype": "text/x-r-source",
   "name": "R",
   "pygments_lexer": "r",
   "version": "3.3.1"
  }
 },
 "nbformat": 4,
 "nbformat_minor": 0
}
