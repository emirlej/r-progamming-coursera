{
 "cells": [
  {
   "cell_type": "code",
   "execution_count": 1,
   "metadata": {
    "collapsed": true
   },
   "outputs": [],
   "source": [
    "# \n",
    "makeVector <- function(x = numeric()) {\n",
    "        m <- NULL\n",
    "        set <- function(y) {\n",
    "                x <<- y\n",
    "                #m <<- NULL\n",
    "        }\n",
    "        get <- function() x\n",
    "        setmean <- function(mean) m <<- mean\n",
    "        getmean <- function() m\n",
    "        list(set = set, get = get,\n",
    "             setmean = setmean,\n",
    "             getmean = getmean)\n",
    "}\n",
    "            \n",
    "cachemean <- function(x, ...) {\n",
    "        m <- x$getmean()\n",
    "        if(!is.null(m)) {\n",
    "                message(\"getting cached data\")\n",
    "                return(m)\n",
    "        }\n",
    "        data <- x$get()\n",
    "        m <- mean(data, ...)\n",
    "        x$setmean(m)\n",
    "        m\n",
    "}"
   ]
  },
  {
   "cell_type": "code",
   "execution_count": 2,
   "metadata": {
    "collapsed": true
   },
   "outputs": [],
   "source": [
    "myvec <- makeVector(1:10)"
   ]
  },
  {
   "cell_type": "code",
   "execution_count": 3,
   "metadata": {
    "collapsed": false
   },
   "outputs": [
    {
     "ename": "ERROR",
     "evalue": "Error in myvec$getmean(): object 'm' not found\n",
     "output_type": "error",
     "traceback": [
      "Error in myvec$getmean(): object 'm' not found\nTraceback:\n",
      "1. myvec$getmean()"
     ]
    }
   ],
   "source": [
    "myvec$getmean()"
   ]
  },
  {
   "cell_type": "code",
   "execution_count": 4,
   "metadata": {
    "collapsed": false
   },
   "outputs": [
    {
     "ename": "ERROR",
     "evalue": "Error in x$getmean(): object 'm' not found\n",
     "output_type": "error",
     "traceback": [
      "Error in x$getmean(): object 'm' not found\nTraceback:\n",
      "1. cachemean(myvec)",
      "2. x$getmean()   # at line 17 of file <text>"
     ]
    }
   ],
   "source": [
    "cachemean(myvec)"
   ]
  },
  {
   "cell_type": "code",
   "execution_count": 5,
   "metadata": {
    "collapsed": false
   },
   "outputs": [
    {
     "ename": "ERROR",
     "evalue": "Error in myvec$getmean(): object 'm' not found\n",
     "output_type": "error",
     "traceback": [
      "Error in myvec$getmean(): object 'm' not found\nTraceback:\n",
      "1. myvec$getmean()"
     ]
    }
   ],
   "source": [
    "myvec$getmean()"
   ]
  },
  {
   "cell_type": "code",
   "execution_count": 6,
   "metadata": {
    "collapsed": true
   },
   "outputs": [],
   "source": [
    "makeCacheMatrix <- function(x = matrix()) {\n",
    "      m <- NULL\n",
    "      set <- function(y) {\n",
    "            x <<- y\n",
    "            m <<- NULL\n",
    "      }\n",
    "      get <- function() x\n",
    "      setinverse <- function(solve) m <<- solve\n",
    "      getinverse <- function() m\n",
    "      list(set = set, get = get,\n",
    "           setinverse = setinverse,\n",
    "           getinverse = getinverse)\n",
    "}\n",
    "          \n",
    "cacheSolve <- function(x, ...) {\n",
    "      m <- x$getinverse()\n",
    "      if(!is.null(m)) {\n",
    "            message(\"getting cached data\")\n",
    "            return(m)\n",
    "      }\n",
    "      data <- x$get()\n",
    "      m <- solve(data, ...)\n",
    "      x$setinverse(m)\n",
    "      m\n",
    "}"
   ]
  },
  {
   "cell_type": "code",
   "execution_count": 7,
   "metadata": {
    "collapsed": true
   },
   "outputs": [],
   "source": [
    "m <- makeCacheMatrix()"
   ]
  }
 ],
 "metadata": {
  "kernelspec": {
   "display_name": "R",
   "language": "R",
   "name": "ir"
  },
  "language_info": {
   "codemirror_mode": "r",
   "file_extension": ".r",
   "mimetype": "text/x-r-source",
   "name": "R",
   "pygments_lexer": "r",
   "version": "3.3.1"
  }
 },
 "nbformat": 4,
 "nbformat_minor": 0
}
