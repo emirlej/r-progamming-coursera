{
 "cells": [
  {
   "cell_type": "markdown",
   "metadata": {},
   "source": [
    "# Loop functions and debugging"
   ]
  },
  {
   "cell_type": "markdown",
   "metadata": {},
   "source": [
    "## lapply\n",
    "\n",
    "lapply always returns a list, regardless of the input class"
   ]
  },
  {
   "cell_type": "code",
   "execution_count": 1,
   "metadata": {
    "collapsed": false
   },
   "outputs": [
    {
     "data": {
      "text/html": [
       "<pre class=language-r><code>function (X, FUN, ...) \n",
       "{\n",
       "    FUN &lt;- match.fun(FUN)\n",
       "    if (!is.vector(X) || is.object(X)) \n",
       "        X &lt;- as.list(X)\n",
       "    .Internal(lapply(X, FUN))\n",
       "}</code></pre>"
      ],
      "text/latex": [
       "\\begin{minted}{r}\n",
       "function (X, FUN, ...) \n",
       "\\{\n",
       "    FUN <- match.fun(FUN)\n",
       "    if (!is.vector(X) \\textbar{}\\textbar{} is.object(X)) \n",
       "        X <- as.list(X)\n",
       "    .Internal(lapply(X, FUN))\n",
       "\\}\n",
       "\\end{minted}"
      ],
      "text/markdown": [
       "```r\n",
       "function (X, FUN, ...) \n",
       "{\n",
       "    FUN <- match.fun(FUN)\n",
       "    if (!is.vector(X) || is.object(X)) \n",
       "        X <- as.list(X)\n",
       "    .Internal(lapply(X, FUN))\n",
       "}\n",
       "```"
      ],
      "text/plain": [
       "function (X, FUN, ...) \n",
       "{\n",
       "    FUN <- match.fun(FUN)\n",
       "    if (!is.vector(X) || is.object(X)) \n",
       "        X <- as.list(X)\n",
       "    .Internal(lapply(X, FUN))\n",
       "}\n",
       "<bytecode: 0x0000000011f76fe0>\n",
       "<environment: namespace:base>"
      ]
     },
     "metadata": {},
     "output_type": "display_data"
    }
   ],
   "source": [
    "lapply"
   ]
  },
  {
   "cell_type": "code",
   "execution_count": 2,
   "metadata": {
    "collapsed": false
   },
   "outputs": [
    {
     "data": {
      "text/html": [
       "<dl>\n",
       "\t<dt>$a</dt>\n",
       "\t\t<dd><ol class=list-inline>\n",
       "\t<li>1</li>\n",
       "\t<li>2</li>\n",
       "\t<li>3</li>\n",
       "\t<li>4</li>\n",
       "\t<li>5</li>\n",
       "</ol>\n",
       "</dd>\n",
       "\t<dt>$b</dt>\n",
       "\t\t<dd><ol class=list-inline>\n",
       "\t<li>-0.316024998955479</li>\n",
       "\t<li>0.107098250542133</li>\n",
       "\t<li>-0.388176739684171</li>\n",
       "\t<li>-2.25233633649336</li>\n",
       "\t<li>-0.0189897907780982</li>\n",
       "\t<li>0.839504965842127</li>\n",
       "\t<li>-0.931654113969996</li>\n",
       "\t<li>-0.183647716230754</li>\n",
       "\t<li>1.88366130512711</li>\n",
       "\t<li>0.802978830466325</li>\n",
       "</ol>\n",
       "</dd>\n",
       "</dl>\n"
      ],
      "text/latex": [
       "\\begin{description}\n",
       "\\item[\\$a] \\begin{enumerate*}\n",
       "\\item 1\n",
       "\\item 2\n",
       "\\item 3\n",
       "\\item 4\n",
       "\\item 5\n",
       "\\end{enumerate*}\n",
       "\n",
       "\\item[\\$b] \\begin{enumerate*}\n",
       "\\item -0.316024998955479\n",
       "\\item 0.107098250542133\n",
       "\\item -0.388176739684171\n",
       "\\item -2.25233633649336\n",
       "\\item -0.0189897907780982\n",
       "\\item 0.839504965842127\n",
       "\\item -0.931654113969996\n",
       "\\item -0.183647716230754\n",
       "\\item 1.88366130512711\n",
       "\\item 0.802978830466325\n",
       "\\end{enumerate*}\n",
       "\n",
       "\\end{description}\n"
      ],
      "text/markdown": [
       "$a\n",
       ":   1. 1\n",
       "2. 2\n",
       "3. 3\n",
       "4. 4\n",
       "5. 5\n",
       "\n",
       "\n",
       "\n",
       "$b\n",
       ":   1. -0.316024998955479\n",
       "2. 0.107098250542133\n",
       "3. -0.388176739684171\n",
       "4. -2.25233633649336\n",
       "5. -0.0189897907780982\n",
       "6. 0.839504965842127\n",
       "7. -0.931654113969996\n",
       "8. -0.183647716230754\n",
       "9. 1.88366130512711\n",
       "10. 0.802978830466325\n",
       "\n",
       "\n",
       "\n",
       "\n",
       "\n"
      ],
      "text/plain": [
       "$a\n",
       "[1] 1 2 3 4 5\n",
       "\n",
       "$b\n",
       " [1] -0.31602500  0.10709825 -0.38817674 -2.25233634 -0.01898979  0.83950497\n",
       " [7] -0.93165411 -0.18364772  1.88366131  0.80297883\n"
      ]
     },
     "metadata": {},
     "output_type": "display_data"
    }
   ],
   "source": [
    "x <- list(a = 1:5, b = rnorm(10))\n",
    "x"
   ]
  },
  {
   "cell_type": "code",
   "execution_count": 3,
   "metadata": {
    "collapsed": false
   },
   "outputs": [
    {
     "data": {
      "text/html": [
       "<dl>\n",
       "\t<dt>$a</dt>\n",
       "\t\t<dd>3</dd>\n",
       "\t<dt>$b</dt>\n",
       "\t\t<dd>-0.0457586344134157</dd>\n",
       "</dl>\n"
      ],
      "text/latex": [
       "\\begin{description}\n",
       "\\item[\\$a] 3\n",
       "\\item[\\$b] -0.0457586344134157\n",
       "\\end{description}\n"
      ],
      "text/markdown": [
       "$a\n",
       ":   3\n",
       "$b\n",
       ":   -0.0457586344134157\n",
       "\n",
       "\n"
      ],
      "text/plain": [
       "$a\n",
       "[1] 3\n",
       "\n",
       "$b\n",
       "[1] -0.04575863\n"
      ]
     },
     "metadata": {},
     "output_type": "display_data"
    }
   ],
   "source": [
    "# Returns the mean of each element in the list\n",
    "lapply(x, mean)"
   ]
  },
  {
   "cell_type": "code",
   "execution_count": 4,
   "metadata": {
    "collapsed": false
   },
   "outputs": [
    {
     "data": {
      "text/html": [
       "<ol>\n",
       "\t<li>0.522360283415765</li>\n",
       "\t<li><ol class=list-inline>\n",
       "\t<li>0.711074959719554</li>\n",
       "\t<li>0.691727469675243</li>\n",
       "</ol>\n",
       "</li>\n",
       "\t<li><ol class=list-inline>\n",
       "\t<li>0.841926838504151</li>\n",
       "\t<li>0.393175354460254</li>\n",
       "\t<li>0.934842006536201</li>\n",
       "</ol>\n",
       "</li>\n",
       "\t<li><ol class=list-inline>\n",
       "\t<li>0.90506222913973</li>\n",
       "\t<li>0.359643384581432</li>\n",
       "\t<li>0.881709995446727</li>\n",
       "\t<li>0.936328707961366</li>\n",
       "</ol>\n",
       "</li>\n",
       "</ol>\n"
      ],
      "text/latex": [
       "\\begin{enumerate}\n",
       "\\item 0.522360283415765\n",
       "\\item \\begin{enumerate*}\n",
       "\\item 0.711074959719554\n",
       "\\item 0.691727469675243\n",
       "\\end{enumerate*}\n",
       "\n",
       "\\item \\begin{enumerate*}\n",
       "\\item 0.841926838504151\n",
       "\\item 0.393175354460254\n",
       "\\item 0.934842006536201\n",
       "\\end{enumerate*}\n",
       "\n",
       "\\item \\begin{enumerate*}\n",
       "\\item 0.90506222913973\n",
       "\\item 0.359643384581432\n",
       "\\item 0.881709995446727\n",
       "\\item 0.936328707961366\n",
       "\\end{enumerate*}\n",
       "\n",
       "\\end{enumerate}\n"
      ],
      "text/markdown": [
       "1. 0.522360283415765\n",
       "2. 1. 0.711074959719554\n",
       "2. 0.691727469675243\n",
       "\n",
       "\n",
       "\n",
       "3. 1. 0.841926838504151\n",
       "2. 0.393175354460254\n",
       "3. 0.934842006536201\n",
       "\n",
       "\n",
       "\n",
       "4. 1. 0.90506222913973\n",
       "2. 0.359643384581432\n",
       "3. 0.881709995446727\n",
       "4. 0.936328707961366\n",
       "\n",
       "\n",
       "\n",
       "\n",
       "\n"
      ],
      "text/plain": [
       "[[1]]\n",
       "[1] 0.5223603\n",
       "\n",
       "[[2]]\n",
       "[1] 0.7110750 0.6917275\n",
       "\n",
       "[[3]]\n",
       "[1] 0.8419268 0.3931754 0.9348420\n",
       "\n",
       "[[4]]\n",
       "[1] 0.9050622 0.3596434 0.8817100 0.9363287\n"
      ]
     },
     "metadata": {},
     "output_type": "display_data"
    }
   ],
   "source": [
    "lapply(1:4, runif)"
   ]
  },
  {
   "cell_type": "code",
   "execution_count": 5,
   "metadata": {
    "collapsed": false
   },
   "outputs": [
    {
     "data": {
      "text/html": [
       "<pre class=language-r><code>function (n, min = 0, max = 1) \n",
       ".Call(C_runif, n, min, max)</code></pre>"
      ],
      "text/latex": [
       "\\begin{minted}{r}\n",
       "function (n, min = 0, max = 1) \n",
       ".Call(C\\_runif, n, min, max)\n",
       "\\end{minted}"
      ],
      "text/markdown": [
       "```r\n",
       "function (n, min = 0, max = 1) \n",
       ".Call(C_runif, n, min, max)\n",
       "```"
      ],
      "text/plain": [
       "function (n, min = 0, max = 1) \n",
       ".Call(C_runif, n, min, max)\n",
       "<bytecode: 0x000000001f78f038>\n",
       "<environment: namespace:stats>"
      ]
     },
     "metadata": {},
     "output_type": "display_data"
    }
   ],
   "source": [
    "runif"
   ]
  },
  {
   "cell_type": "code",
   "execution_count": 6,
   "metadata": {
    "collapsed": true
   },
   "outputs": [],
   "source": [
    "# Give input to the runif function"
   ]
  },
  {
   "cell_type": "code",
   "execution_count": 7,
   "metadata": {
    "collapsed": false
   },
   "outputs": [
    {
     "data": {
      "text/html": [
       "<ol>\n",
       "\t<li>3.70212373323739</li>\n",
       "\t<li><ol class=list-inline>\n",
       "\t<li>5.88874018983915</li>\n",
       "\t<li>1.66413404745981</li>\n",
       "</ol>\n",
       "</li>\n",
       "\t<li><ol class=list-inline>\n",
       "\t<li>8.79404386505485</li>\n",
       "\t<li>7.50995930982754</li>\n",
       "\t<li>8.24243439361453</li>\n",
       "</ol>\n",
       "</li>\n",
       "\t<li><ol class=list-inline>\n",
       "\t<li>2.89333195192739</li>\n",
       "\t<li>4.477442514617</li>\n",
       "\t<li>1.50656865909696</li>\n",
       "\t<li>1.29241077695042</li>\n",
       "</ol>\n",
       "</li>\n",
       "</ol>\n"
      ],
      "text/latex": [
       "\\begin{enumerate}\n",
       "\\item 3.70212373323739\n",
       "\\item \\begin{enumerate*}\n",
       "\\item 5.88874018983915\n",
       "\\item 1.66413404745981\n",
       "\\end{enumerate*}\n",
       "\n",
       "\\item \\begin{enumerate*}\n",
       "\\item 8.79404386505485\n",
       "\\item 7.50995930982754\n",
       "\\item 8.24243439361453\n",
       "\\end{enumerate*}\n",
       "\n",
       "\\item \\begin{enumerate*}\n",
       "\\item 2.89333195192739\n",
       "\\item 4.477442514617\n",
       "\\item 1.50656865909696\n",
       "\\item 1.29241077695042\n",
       "\\end{enumerate*}\n",
       "\n",
       "\\end{enumerate}\n"
      ],
      "text/markdown": [
       "1. 3.70212373323739\n",
       "2. 1. 5.88874018983915\n",
       "2. 1.66413404745981\n",
       "\n",
       "\n",
       "\n",
       "3. 1. 8.79404386505485\n",
       "2. 7.50995930982754\n",
       "3. 8.24243439361453\n",
       "\n",
       "\n",
       "\n",
       "4. 1. 2.89333195192739\n",
       "2. 4.477442514617\n",
       "3. 1.50656865909696\n",
       "4. 1.29241077695042\n",
       "\n",
       "\n",
       "\n",
       "\n",
       "\n"
      ],
      "text/plain": [
       "[[1]]\n",
       "[1] 3.702124\n",
       "\n",
       "[[2]]\n",
       "[1] 5.888740 1.664134\n",
       "\n",
       "[[3]]\n",
       "[1] 8.794044 7.509959 8.242434\n",
       "\n",
       "[[4]]\n",
       "[1] 2.893332 4.477443 1.506569 1.292411\n"
      ]
     },
     "metadata": {},
     "output_type": "display_data"
    }
   ],
   "source": [
    "lapply(1:4, runif, min = 0, max = 10)"
   ]
  },
  {
   "cell_type": "code",
   "execution_count": 8,
   "metadata": {
    "collapsed": false
   },
   "outputs": [
    {
     "data": {
      "text/html": [
       "<dl>\n",
       "\t<dt>$a</dt>\n",
       "\t\t<dd><table>\n",
       "<tbody>\n",
       "\t<tr><td>1</td><td>3</td></tr>\n",
       "\t<tr><td>2</td><td>4</td></tr>\n",
       "</tbody>\n",
       "</table>\n",
       "</dd>\n",
       "\t<dt>$b</dt>\n",
       "\t\t<dd><table>\n",
       "<tbody>\n",
       "\t<tr><td>1</td><td>4</td></tr>\n",
       "\t<tr><td>2</td><td>5</td></tr>\n",
       "\t<tr><td>3</td><td>6</td></tr>\n",
       "</tbody>\n",
       "</table>\n",
       "</dd>\n",
       "</dl>\n"
      ],
      "text/latex": [
       "\\begin{description}\n",
       "\\item[\\$a] \\begin{tabular}{ll}\n",
       "\t 1 & 3\\\\\n",
       "\t 2 & 4\\\\\n",
       "\\end{tabular}\n",
       "\n",
       "\\item[\\$b] \\begin{tabular}{ll}\n",
       "\t 1 & 4\\\\\n",
       "\t 2 & 5\\\\\n",
       "\t 3 & 6\\\\\n",
       "\\end{tabular}\n",
       "\n",
       "\\end{description}\n"
      ],
      "text/markdown": [
       "$a\n",
       ":   1. 1\n",
       "2. 2\n",
       "3. 3\n",
       "4. 4\n",
       "\n",
       "\n",
       "\n",
       "$b\n",
       ":   1. 1\n",
       "2. 2\n",
       "3. 3\n",
       "4. 4\n",
       "5. 5\n",
       "6. 6\n",
       "\n",
       "\n",
       "\n",
       "\n",
       "\n"
      ],
      "text/plain": [
       "$a\n",
       "     [,1] [,2]\n",
       "[1,]    1    3\n",
       "[2,]    2    4\n",
       "\n",
       "$b\n",
       "     [,1] [,2]\n",
       "[1,]    1    4\n",
       "[2,]    2    5\n",
       "[3,]    3    6\n"
      ]
     },
     "metadata": {},
     "output_type": "display_data"
    }
   ],
   "source": [
    "x <- list(a = matrix(1:4, 2), b = matrix(1:6, 3))\n",
    "x"
   ]
  },
  {
   "cell_type": "markdown",
   "metadata": {},
   "source": [
    "**NOTE TO SELF: **\n",
    "lapply and friends make heavy use of anonymous functions"
   ]
  },
  {
   "cell_type": "code",
   "execution_count": 9,
   "metadata": {
    "collapsed": false
   },
   "outputs": [
    {
     "data": {
      "text/html": [
       "<dl>\n",
       "\t<dt>$a</dt>\n",
       "\t\t<dd><ol class=list-inline>\n",
       "\t<li>1</li>\n",
       "\t<li>2</li>\n",
       "</ol>\n",
       "</dd>\n",
       "\t<dt>$b</dt>\n",
       "\t\t<dd><ol class=list-inline>\n",
       "\t<li>1</li>\n",
       "\t<li>2</li>\n",
       "\t<li>3</li>\n",
       "</ol>\n",
       "</dd>\n",
       "</dl>\n"
      ],
      "text/latex": [
       "\\begin{description}\n",
       "\\item[\\$a] \\begin{enumerate*}\n",
       "\\item 1\n",
       "\\item 2\n",
       "\\end{enumerate*}\n",
       "\n",
       "\\item[\\$b] \\begin{enumerate*}\n",
       "\\item 1\n",
       "\\item 2\n",
       "\\item 3\n",
       "\\end{enumerate*}\n",
       "\n",
       "\\end{description}\n"
      ],
      "text/markdown": [
       "$a\n",
       ":   1. 1\n",
       "2. 2\n",
       "\n",
       "\n",
       "\n",
       "$b\n",
       ":   1. 1\n",
       "2. 2\n",
       "3. 3\n",
       "\n",
       "\n",
       "\n",
       "\n",
       "\n"
      ],
      "text/plain": [
       "$a\n",
       "[1] 1 2\n",
       "\n",
       "$b\n",
       "[1] 1 2 3\n"
      ]
     },
     "metadata": {},
     "output_type": "display_data"
    }
   ],
   "source": [
    "# Go through each matrix and spit out the first column. \n",
    "# Similar to lambda function\n",
    "lapply(x, function(myMatrix) myMatrix[, 1])"
   ]
  },
  {
   "cell_type": "markdown",
   "metadata": {},
   "source": [
    "## sapply\n",
    "\n",
    "Will simplyfy the result of lapply if possible:\n",
    "- If result is a list with one element, a vector is returned.\n",
    "- If the result is a list with every element is a vector of same length, a matrix is returned.\n",
    "- If it can't figure it out, a list is returned."
   ]
  },
  {
   "cell_type": "code",
   "execution_count": 10,
   "metadata": {
    "collapsed": false
   },
   "outputs": [
    {
     "data": {
      "text/html": [
       "<ol>\n",
       "\t<li>1</li>\n",
       "\t<li>4</li>\n",
       "\t<li>9</li>\n",
       "\t<li>16</li>\n",
       "</ol>\n"
      ],
      "text/latex": [
       "\\begin{enumerate}\n",
       "\\item 1\n",
       "\\item 4\n",
       "\\item 9\n",
       "\\item 16\n",
       "\\end{enumerate}\n"
      ],
      "text/markdown": [
       "1. 1\n",
       "2. 4\n",
       "3. 9\n",
       "4. 16\n",
       "\n",
       "\n"
      ],
      "text/plain": [
       "[[1]]\n",
       "[1] 1\n",
       "\n",
       "[[2]]\n",
       "[1] 4\n",
       "\n",
       "[[3]]\n",
       "[1] 9\n",
       "\n",
       "[[4]]\n",
       "[1] 16\n"
      ]
     },
     "metadata": {},
     "output_type": "display_data"
    }
   ],
   "source": [
    "lapply(1:4, function(x) x**2)"
   ]
  },
  {
   "cell_type": "code",
   "execution_count": 11,
   "metadata": {
    "collapsed": false
   },
   "outputs": [
    {
     "data": {
      "text/html": [
       "<ol class=list-inline>\n",
       "\t<li>1</li>\n",
       "\t<li>4</li>\n",
       "\t<li>9</li>\n",
       "\t<li>16</li>\n",
       "</ol>\n"
      ],
      "text/latex": [
       "\\begin{enumerate*}\n",
       "\\item 1\n",
       "\\item 4\n",
       "\\item 9\n",
       "\\item 16\n",
       "\\end{enumerate*}\n"
      ],
      "text/markdown": [
       "1. 1\n",
       "2. 4\n",
       "3. 9\n",
       "4. 16\n",
       "\n",
       "\n"
      ],
      "text/plain": [
       "[1]  1  4  9 16"
      ]
     },
     "metadata": {},
     "output_type": "display_data"
    }
   ],
   "source": [
    "sapply(1:4, function(x) x**2)"
   ]
  },
  {
   "cell_type": "markdown",
   "metadata": {},
   "source": [
    "### apply\n",
    "\n",
    "Used to evaulate a function over the margins of an array:\n",
    "- Over rows or columns in a matrix.\n",
    "- Can be used with general arrays, e.g. taking the average of an array of matrices.\n",
    "- Not really faster than writing a loop, but requires less typing."
   ]
  },
  {
   "cell_type": "code",
   "execution_count": 12,
   "metadata": {
    "collapsed": false
   },
   "outputs": [
    {
     "name": "stdout",
     "output_type": "stream",
     "text": [
      "function (X, MARGIN, FUN, ...)  \n"
     ]
    }
   ],
   "source": [
    "str(apply)"
   ]
  },
  {
   "cell_type": "code",
   "execution_count": 13,
   "metadata": {
    "collapsed": false
   },
   "outputs": [],
   "source": [
    "x <- matrix(rnorm(200), 20, 10)"
   ]
  },
  {
   "cell_type": "code",
   "execution_count": 14,
   "metadata": {
    "collapsed": false
   },
   "outputs": [
    {
     "data": {
      "text/html": [
       "<ol class=list-inline>\n",
       "\t<li>0.174573217222573</li>\n",
       "\t<li>-0.0517778613278161</li>\n",
       "\t<li>-0.213726698375663</li>\n",
       "\t<li>-0.0224593752839629</li>\n",
       "\t<li>0.144152890448839</li>\n",
       "\t<li>0.427077566584022</li>\n",
       "\t<li>0.00802945257322795</li>\n",
       "\t<li>0.244661914648486</li>\n",
       "\t<li>-0.299457245769362</li>\n",
       "\t<li>0.028993467255895</li>\n",
       "</ol>\n"
      ],
      "text/latex": [
       "\\begin{enumerate*}\n",
       "\\item 0.174573217222573\n",
       "\\item -0.0517778613278161\n",
       "\\item -0.213726698375663\n",
       "\\item -0.0224593752839629\n",
       "\\item 0.144152890448839\n",
       "\\item 0.427077566584022\n",
       "\\item 0.00802945257322795\n",
       "\\item 0.244661914648486\n",
       "\\item -0.299457245769362\n",
       "\\item 0.028993467255895\n",
       "\\end{enumerate*}\n"
      ],
      "text/markdown": [
       "1. 0.174573217222573\n",
       "2. -0.0517778613278161\n",
       "3. -0.213726698375663\n",
       "4. -0.0224593752839629\n",
       "5. 0.144152890448839\n",
       "6. 0.427077566584022\n",
       "7. 0.00802945257322795\n",
       "8. 0.244661914648486\n",
       "9. -0.299457245769362\n",
       "10. 0.028993467255895\n",
       "\n",
       "\n"
      ],
      "text/plain": [
       " [1]  0.174573217 -0.051777861 -0.213726698 -0.022459375  0.144152890\n",
       " [6]  0.427077567  0.008029453  0.244661915 -0.299457246  0.028993467"
      ]
     },
     "metadata": {},
     "output_type": "display_data"
    }
   ],
   "source": [
    "apply(x, 2, mean) # Taking mean of the matrix columns"
   ]
  },
  {
   "cell_type": "code",
   "execution_count": 15,
   "metadata": {
    "collapsed": false
   },
   "outputs": [
    {
     "data": {
      "text/html": [
       "<ol class=list-inline>\n",
       "\t<li>2.38724370785452</li>\n",
       "\t<li>-1.35459168296141</li>\n",
       "\t<li>-2.30724273352219</li>\n",
       "\t<li>-2.32074863301823</li>\n",
       "\t<li>0.331331719022719</li>\n",
       "\t<li>-0.470891109892333</li>\n",
       "\t<li>-4.5035146755834</li>\n",
       "\t<li>5.92320059456768</li>\n",
       "\t<li>1.6119642983234</li>\n",
       "\t<li>2.22006509873508</li>\n",
       "\t<li>5.90254016497475</li>\n",
       "\t<li>-1.70256986600958</li>\n",
       "\t<li>6.72862053980612</li>\n",
       "\t<li>-4.02631019417823</li>\n",
       "\t<li>-0.540195421216204</li>\n",
       "\t<li>2.05008105090539</li>\n",
       "\t<li>2.08756862643291</li>\n",
       "\t<li>-0.266397818064658</li>\n",
       "\t<li>-2.28534779819289</li>\n",
       "\t<li>-0.663459308458648</li>\n",
       "</ol>\n"
      ],
      "text/latex": [
       "\\begin{enumerate*}\n",
       "\\item 2.38724370785452\n",
       "\\item -1.35459168296141\n",
       "\\item -2.30724273352219\n",
       "\\item -2.32074863301823\n",
       "\\item 0.331331719022719\n",
       "\\item -0.470891109892333\n",
       "\\item -4.5035146755834\n",
       "\\item 5.92320059456768\n",
       "\\item 1.6119642983234\n",
       "\\item 2.22006509873508\n",
       "\\item 5.90254016497475\n",
       "\\item -1.70256986600958\n",
       "\\item 6.72862053980612\n",
       "\\item -4.02631019417823\n",
       "\\item -0.540195421216204\n",
       "\\item 2.05008105090539\n",
       "\\item 2.08756862643291\n",
       "\\item -0.266397818064658\n",
       "\\item -2.28534779819289\n",
       "\\item -0.663459308458648\n",
       "\\end{enumerate*}\n"
      ],
      "text/markdown": [
       "1. 2.38724370785452\n",
       "2. -1.35459168296141\n",
       "3. -2.30724273352219\n",
       "4. -2.32074863301823\n",
       "5. 0.331331719022719\n",
       "6. -0.470891109892333\n",
       "7. -4.5035146755834\n",
       "8. 5.92320059456768\n",
       "9. 1.6119642983234\n",
       "10. 2.22006509873508\n",
       "11. 5.90254016497475\n",
       "12. -1.70256986600958\n",
       "13. 6.72862053980612\n",
       "14. -4.02631019417823\n",
       "15. -0.540195421216204\n",
       "16. 2.05008105090539\n",
       "17. 2.08756862643291\n",
       "18. -0.266397818064658\n",
       "19. -2.28534779819289\n",
       "20. -0.663459308458648\n",
       "\n",
       "\n"
      ],
      "text/plain": [
       " [1]  2.3872437 -1.3545917 -2.3072427 -2.3207486  0.3313317 -0.4708911\n",
       " [7] -4.5035147  5.9232006  1.6119643  2.2200651  5.9025402 -1.7025699\n",
       "[13]  6.7286205 -4.0263102 -0.5401954  2.0500811  2.0875686 -0.2663978\n",
       "[19] -2.2853478 -0.6634593"
      ]
     },
     "metadata": {},
     "output_type": "display_data"
    }
   ],
   "source": [
    "apply(x, 1, sum) # Summing up the rows"
   ]
  },
  {
   "cell_type": "markdown",
   "metadata": {},
   "source": [
    "## Shortcuts\n",
    "\n",
    "For sums and means of a matrix, there exist some shortcuts:\n",
    "- rowSums = apply(x, 1, sum)\n",
    "- rowMeans = apply(x, 1, mean)\n",
    "- colSums = apply(x, 2, sum)\n",
    "- colMeans = apply(x, 2, mean)\n",
    "\n",
    "They are faster and should be used for large matrices"
   ]
  },
  {
   "cell_type": "code",
   "execution_count": 16,
   "metadata": {
    "collapsed": false
   },
   "outputs": [
    {
     "data": {
      "text/html": [
       "<table>\n",
       "<tbody>\n",
       "\t<tr><th scope=row>25%</th><td>-0.5189913</td><td>-0.9131652</td><td>-0.5449028</td><td>-0.7495604</td><td>-0.5278997</td><td>-0.3090020</td><td>-1.2905993</td><td>-0.1750097</td><td>-0.7457380</td><td>-0.6470574</td></tr>\n",
       "\t<tr><th scope=row>75%</th><td>0.6973501</td><td>0.2725515</td><td>0.8300761</td><td>0.8745787</td><td>1.0007940</td><td>1.1047977</td><td>0.9394960</td><td>0.3653384</td><td>0.4036975</td><td>0.4443589</td></tr>\n",
       "</tbody>\n",
       "</table>\n"
      ],
      "text/latex": [
       "\\begin{tabular}{r|llllllllll}\n",
       "\t25\\% & -0.5189913 & -0.9131652 & -0.5449028 & -0.7495604 & -0.5278997 & -0.3090020 & -1.2905993 & -0.1750097 & -0.7457380 & -0.6470574\\\\\n",
       "\t75\\% & 0.6973501 & 0.2725515 & 0.8300761 & 0.8745787 & 1.0007940 & 1.1047977 & 0.9394960 & 0.3653384 & 0.4036975 & 0.4443589\\\\\n",
       "\\end{tabular}\n"
      ],
      "text/markdown": [
       "1. -0.518991337069872\n",
       "2. 0.697350131180337\n",
       "3. -0.91316522752544\n",
       "4. 0.272551497250258\n",
       "5. -0.544902849747213\n",
       "6. 0.830076082255189\n",
       "7. -0.749560428497181\n",
       "8. 0.874578680006387\n",
       "9. -0.527899669061737\n",
       "10. 1.00079401315245\n",
       "11. -0.309001970605887\n",
       "12. 1.10479771872013\n",
       "13. -1.29059933470398\n",
       "14. 0.939495997651505\n",
       "15. -0.175009733858479\n",
       "16. 0.365338367054019\n",
       "17. -0.74573804676754\n",
       "18. 0.403697457544403\n",
       "19. -0.647057371067477\n",
       "20. 0.444358916924474\n",
       "\n",
       "\n"
      ],
      "text/plain": [
       "          [,1]       [,2]       [,3]       [,4]       [,5]      [,6]      [,7]\n",
       "25% -0.5189913 -0.9131652 -0.5449028 -0.7495604 -0.5278997 -0.309002 -1.290599\n",
       "75%  0.6973501  0.2725515  0.8300761  0.8745787  1.0007940  1.104798  0.939496\n",
       "          [,8]       [,9]      [,10]\n",
       "25% -0.1750097 -0.7457380 -0.6470574\n",
       "75%  0.3653384  0.4036975  0.4443589"
      ]
     },
     "metadata": {},
     "output_type": "display_data"
    }
   ],
   "source": [
    "x <- matrix(rnorm(200), 20, 10)\n",
    "apply(x, 2, quantile, probs = c(0.25, 0.75)) # Applying the built-in quantile function and giving it input"
   ]
  },
  {
   "cell_type": "code",
   "execution_count": 17,
   "metadata": {
    "collapsed": false
   },
   "outputs": [
    {
     "data": {
      "text/html": [
       "<ol class=list-inline>\n",
       "\t<li>1.54016390124838</li>\n",
       "\t<li>-2.20458817694963</li>\n",
       "\t<li>-1.74849251071731</li>\n",
       "\t<li>-0.157997233295772</li>\n",
       "\t<li>-0.215977828092579</li>\n",
       "\t<li>0.172279423871734</li>\n",
       "\t<li>0.263561748390145</li>\n",
       "\t<li>1.06282808673362</li>\n",
       "\t<li>-1.11104392387191</li>\n",
       "\t<li>-0.793076941868413</li>\n",
       "\t<li>-2.46638249684835</li>\n",
       "\t<li>0.387457448382023</li>\n",
       "</ol>\n"
      ],
      "text/latex": [
       "\\begin{enumerate*}\n",
       "\\item 1.54016390124838\n",
       "\\item -2.20458817694963\n",
       "\\item -1.74849251071731\n",
       "\\item -0.157997233295772\n",
       "\\item -0.215977828092579\n",
       "\\item 0.172279423871734\n",
       "\\item 0.263561748390145\n",
       "\\item 1.06282808673362\n",
       "\\item -1.11104392387191\n",
       "\\item -0.793076941868413\n",
       "\\item -2.46638249684835\n",
       "\\item 0.387457448382023\n",
       "\\end{enumerate*}\n"
      ],
      "text/markdown": [
       "1. 1.54016390124838\n",
       "2. -2.20458817694963\n",
       "3. -1.74849251071731\n",
       "4. -0.157997233295772\n",
       "5. -0.215977828092579\n",
       "6. 0.172279423871734\n",
       "7. 0.263561748390145\n",
       "8. 1.06282808673362\n",
       "9. -1.11104392387191\n",
       "10. -0.793076941868413\n",
       "11. -2.46638249684835\n",
       "12. 0.387457448382023\n",
       "\n",
       "\n"
      ],
      "text/plain": [
       ", , 1\n",
       "\n",
       "          [,1]       [,2]\n",
       "[1,]  1.540164 -1.7484925\n",
       "[2,] -2.204588 -0.1579972\n",
       "\n",
       ", , 2\n",
       "\n",
       "           [,1]      [,2]\n",
       "[1,] -0.2159778 0.2635617\n",
       "[2,]  0.1722794 1.0628281\n",
       "\n",
       ", , 3\n",
       "\n",
       "           [,1]       [,2]\n",
       "[1,] -1.1110439 -2.4663825\n",
       "[2,] -0.7930769  0.3874574\n"
      ]
     },
     "metadata": {},
     "output_type": "display_data"
    },
    {
     "data": {
      "text/html": [
       "<table>\n",
       "<tbody>\n",
       "\t<tr><td> 0.07104738</td><td>-1.31710442</td></tr>\n",
       "\t<tr><td>-0.9417952</td><td> 0.4307628</td></tr>\n",
       "</tbody>\n",
       "</table>\n"
      ],
      "text/latex": [
       "\\begin{tabular}{ll}\n",
       "\t  0.07104738 & -1.31710442\\\\\n",
       "\t -0.9417952 &  0.4307628\\\\\n",
       "\\end{tabular}\n"
      ],
      "text/markdown": [
       "1. 0.0710473830946292\n",
       "2. -0.94179523164877\n",
       "3. -1.31710441972517\n",
       "4. 0.430762767273291\n",
       "\n",
       "\n"
      ],
      "text/plain": [
       "            [,1]       [,2]\n",
       "[1,]  0.07104738 -1.3171044\n",
       "[2,] -0.94179523  0.4307628"
      ]
     },
     "metadata": {},
     "output_type": "display_data"
    }
   ],
   "source": [
    "# Average matrix in array\n",
    "a <- array(rnorm(2 * 2 * 3), c(2, 2, 3))\n",
    "a\n",
    "apply(a, c(1, 2), mean)"
   ]
  },
  {
   "cell_type": "code",
   "execution_count": 18,
   "metadata": {
    "collapsed": false
   },
   "outputs": [
    {
     "data": {
      "text/html": [
       "<table>\n",
       "<tbody>\n",
       "\t<tr><td> 0.07104738</td><td>-1.31710442</td></tr>\n",
       "\t<tr><td>-0.9417952</td><td> 0.4307628</td></tr>\n",
       "</tbody>\n",
       "</table>\n"
      ],
      "text/latex": [
       "\\begin{tabular}{ll}\n",
       "\t  0.07104738 & -1.31710442\\\\\n",
       "\t -0.9417952 &  0.4307628\\\\\n",
       "\\end{tabular}\n"
      ],
      "text/markdown": [
       "1. 0.0710473830946292\n",
       "2. -0.94179523164877\n",
       "3. -1.31710441972517\n",
       "4. 0.430762767273291\n",
       "\n",
       "\n"
      ],
      "text/plain": [
       "            [,1]       [,2]\n",
       "[1,]  0.07104738 -1.3171044\n",
       "[2,] -0.94179523  0.4307628"
      ]
     },
     "metadata": {},
     "output_type": "display_data"
    }
   ],
   "source": [
    "rowMeans(a, dims = 2)"
   ]
  },
  {
   "cell_type": "markdown",
   "metadata": {},
   "source": [
    "### mapply"
   ]
  },
  {
   "cell_type": "code",
   "execution_count": 19,
   "metadata": {
    "collapsed": false
   },
   "outputs": [
    {
     "name": "stdout",
     "output_type": "stream",
     "text": [
      "function (FUN, ..., MoreArgs = NULL, SIMPLIFY = TRUE, USE.NAMES = TRUE)  \n"
     ]
    }
   ],
   "source": [
    "str(mapply)"
   ]
  },
  {
   "cell_type": "code",
   "execution_count": 20,
   "metadata": {
    "collapsed": false
   },
   "outputs": [
    {
     "data": {
      "text/html": [
       "<ol class=list-inline>\n",
       "\t<li>0.5</li>\n",
       "\t<li>0.666666666666667</li>\n",
       "\t<li>0.75</li>\n",
       "</ol>\n"
      ],
      "text/latex": [
       "\\begin{enumerate*}\n",
       "\\item 0.5\n",
       "\\item 0.666666666666667\n",
       "\\item 0.75\n",
       "\\end{enumerate*}\n"
      ],
      "text/markdown": [
       "1. 0.5\n",
       "2. 0.666666666666667\n",
       "3. 0.75\n",
       "\n",
       "\n"
      ],
      "text/plain": [
       "[1] 0.5000000 0.6666667 0.7500000"
      ]
     },
     "metadata": {},
     "output_type": "display_data"
    }
   ],
   "source": [
    "first = 1:3\n",
    "second = 2:4\n",
    "\n",
    "func <- function(x, y) {\n",
    "    x / y\n",
    "}\n",
    "# similar to c[func(1, 2), func(2, 3), func(3, 4)]\n",
    "mapply(func, first, second)"
   ]
  },
  {
   "cell_type": "markdown",
   "metadata": {
    "collapsed": true
   },
   "source": [
    "### tapply\n",
    "\n",
    "tapply is used to apply a function over a subset of a vector. Don't know why it's called tapply though."
   ]
  },
  {
   "cell_type": "code",
   "execution_count": 21,
   "metadata": {
    "collapsed": false
   },
   "outputs": [
    {
     "name": "stdout",
     "output_type": "stream",
     "text": [
      "function (X, INDEX, FUN = NULL, ..., simplify = TRUE)  \n"
     ]
    }
   ],
   "source": [
    "str(tapply)"
   ]
  },
  {
   "cell_type": "code",
   "execution_count": 22,
   "metadata": {
    "collapsed": false
   },
   "outputs": [],
   "source": [
    "x <- c(rnorm(10), runif(10), rnorm(10, 1))\n",
    "f <- gl(3, 10) # Generates a factor level vector (1, 2, 3), where each factor is repeated 10 times"
   ]
  },
  {
   "cell_type": "code",
   "execution_count": 23,
   "metadata": {
    "collapsed": false
   },
   "outputs": [
    {
     "data": {
      "text/html": [
       "<ol class=list-inline>\n",
       "\t<li>1</li>\n",
       "\t<li>1</li>\n",
       "\t<li>1</li>\n",
       "\t<li>1</li>\n",
       "\t<li>1</li>\n",
       "\t<li>1</li>\n",
       "\t<li>1</li>\n",
       "\t<li>1</li>\n",
       "\t<li>1</li>\n",
       "\t<li>1</li>\n",
       "\t<li>2</li>\n",
       "\t<li>2</li>\n",
       "\t<li>2</li>\n",
       "\t<li>2</li>\n",
       "\t<li>2</li>\n",
       "\t<li>2</li>\n",
       "\t<li>2</li>\n",
       "\t<li>2</li>\n",
       "\t<li>2</li>\n",
       "\t<li>2</li>\n",
       "\t<li>3</li>\n",
       "\t<li>3</li>\n",
       "\t<li>3</li>\n",
       "\t<li>3</li>\n",
       "\t<li>3</li>\n",
       "\t<li>3</li>\n",
       "\t<li>3</li>\n",
       "\t<li>3</li>\n",
       "\t<li>3</li>\n",
       "\t<li>3</li>\n",
       "</ol>\n"
      ],
      "text/latex": [
       "\\begin{enumerate*}\n",
       "\\item 1\n",
       "\\item 1\n",
       "\\item 1\n",
       "\\item 1\n",
       "\\item 1\n",
       "\\item 1\n",
       "\\item 1\n",
       "\\item 1\n",
       "\\item 1\n",
       "\\item 1\n",
       "\\item 2\n",
       "\\item 2\n",
       "\\item 2\n",
       "\\item 2\n",
       "\\item 2\n",
       "\\item 2\n",
       "\\item 2\n",
       "\\item 2\n",
       "\\item 2\n",
       "\\item 2\n",
       "\\item 3\n",
       "\\item 3\n",
       "\\item 3\n",
       "\\item 3\n",
       "\\item 3\n",
       "\\item 3\n",
       "\\item 3\n",
       "\\item 3\n",
       "\\item 3\n",
       "\\item 3\n",
       "\\end{enumerate*}\n"
      ],
      "text/markdown": [
       "1. 1\n",
       "2. 1\n",
       "3. 1\n",
       "4. 1\n",
       "5. 1\n",
       "6. 1\n",
       "7. 1\n",
       "8. 1\n",
       "9. 1\n",
       "10. 1\n",
       "11. 2\n",
       "12. 2\n",
       "13. 2\n",
       "14. 2\n",
       "15. 2\n",
       "16. 2\n",
       "17. 2\n",
       "18. 2\n",
       "19. 2\n",
       "20. 2\n",
       "21. 3\n",
       "22. 3\n",
       "23. 3\n",
       "24. 3\n",
       "25. 3\n",
       "26. 3\n",
       "27. 3\n",
       "28. 3\n",
       "29. 3\n",
       "30. 3\n",
       "\n",
       "\n"
      ],
      "text/plain": [
       " [1] 1 1 1 1 1 1 1 1 1 1 2 2 2 2 2 2 2 2 2 2 3 3 3 3 3 3 3 3 3 3\n",
       "Levels: 1 2 3"
      ]
     },
     "metadata": {},
     "output_type": "display_data"
    }
   ],
   "source": [
    "f # Will use this to map to the data in x"
   ]
  },
  {
   "cell_type": "code",
   "execution_count": 24,
   "metadata": {
    "collapsed": false
   },
   "outputs": [
    {
     "ename": "ERROR",
     "evalue": "Error in dn[[2L]]: subscript out of bounds\n",
     "output_type": "error",
     "traceback": [
      "Error in dn[[2L]]: subscript out of bounds\nTraceback:\n",
      "1. tryCatch({\n .     for (mime in getOption(\"jupyter.display_mimetypes\")) {\n .         r <- mime2repr[[mime]](obj)\n .         if (!is.null(r)) \n .             data[[mime]] <- r\n .     }\n . }, error = handle_error)"
     ]
    },
    {
     "data": {
      "text/html": [
       "<dl class=dl-horizontal>\n",
       "\t<dt>1</dt>\n",
       "\t\t<dd>-0.299028209535654</dd>\n",
       "\t<dt>2</dt>\n",
       "\t\t<dd>0.445541885332204</dd>\n",
       "\t<dt>3</dt>\n",
       "\t\t<dd>1.24249779899458</dd>\n",
       "</dl>\n"
      ],
      "text/markdown": [
       "1\n",
       ":   -0.2990282095356542\n",
       ":   0.4455418853322043\n",
       ":   1.24249779899458\n",
       "\n"
      ],
      "text/plain": [
       "         1          2          3 \n",
       "-0.2990282  0.4455419  1.2424978 "
      ]
     },
     "metadata": {},
     "output_type": "display_data"
    }
   ],
   "source": [
    "# Take mean of each group\n",
    "means <- tapply(x, f, mean)\n",
    "means"
   ]
  },
  {
   "cell_type": "code",
   "execution_count": 25,
   "metadata": {
    "collapsed": false
   },
   "outputs": [
    {
     "name": "stdout",
     "output_type": "stream",
     "text": [
      "[1] -0.2990282\n",
      "[1] 0.4455419\n",
      "[1] 1.242498\n"
     ]
    }
   ],
   "source": [
    "for (m in means ) print(m) # Not sure why we get the error output above."
   ]
  },
  {
   "cell_type": "code",
   "execution_count": 26,
   "metadata": {
    "collapsed": false
   },
   "outputs": [
    {
     "data": {
      "text/html": [
       "-0.299028209535654"
      ],
      "text/latex": [
       "-0.299028209535654"
      ],
      "text/markdown": [
       "-0.299028209535654"
      ],
      "text/plain": [
       "[1] -0.2990282"
      ]
     },
     "metadata": {},
     "output_type": "display_data"
    }
   ],
   "source": [
    "mean(x[1:10]) # Same as the means[1]"
   ]
  },
  {
   "cell_type": "markdown",
   "metadata": {
    "collapsed": true
   },
   "source": [
    "### split\n",
    "Takes a vector or other object and splits it into groups determined by a factor or list of factors"
   ]
  },
  {
   "cell_type": "code",
   "execution_count": 27,
   "metadata": {
    "collapsed": false
   },
   "outputs": [
    {
     "name": "stdout",
     "output_type": "stream",
     "text": [
      "function (x, f, drop = FALSE, ...)  \n"
     ]
    }
   ],
   "source": [
    "str(split)"
   ]
  },
  {
   "cell_type": "code",
   "execution_count": 28,
   "metadata": {
    "collapsed": false
   },
   "outputs": [
    {
     "data": {
      "text/html": [
       "<dl>\n",
       "\t<dt>$`1`</dt>\n",
       "\t\t<dd><ol class=list-inline>\n",
       "\t<li>-1.392163201309</li>\n",
       "\t<li>0.0330471031565096</li>\n",
       "\t<li>-0.370384338519238</li>\n",
       "\t<li>1.13264521542738</li>\n",
       "\t<li>-1.08428844793763</li>\n",
       "\t<li>0.638783859436571</li>\n",
       "\t<li>1.1477914392875</li>\n",
       "\t<li>0.22412627196477</li>\n",
       "\t<li>-2.44532927386386</li>\n",
       "\t<li>-0.874510722999546</li>\n",
       "</ol>\n",
       "</dd>\n",
       "\t<dt>$`2`</dt>\n",
       "\t\t<dd><ol class=list-inline>\n",
       "\t<li>0.935413129162043</li>\n",
       "\t<li>0.666099610738456</li>\n",
       "\t<li>0.180556139210239</li>\n",
       "\t<li>0.202733367215842</li>\n",
       "\t<li>0.0651833291631192</li>\n",
       "\t<li>0.599255173932761</li>\n",
       "\t<li>0.39936495362781</li>\n",
       "\t<li>0.451271813828498</li>\n",
       "\t<li>0.610007080016658</li>\n",
       "\t<li>0.345534256426618</li>\n",
       "</ol>\n",
       "</dd>\n",
       "\t<dt>$`3`</dt>\n",
       "\t\t<dd><ol class=list-inline>\n",
       "\t<li>2.34301953881709</li>\n",
       "\t<li>0.940972694485905</li>\n",
       "\t<li>1.49427479653908</li>\n",
       "\t<li>0.223370350581036</li>\n",
       "\t<li>1.06685632265162</li>\n",
       "\t<li>1.94675852160613</li>\n",
       "\t<li>1.48971998085494</li>\n",
       "\t<li>1.93583325121203</li>\n",
       "\t<li>1.21993846500763</li>\n",
       "\t<li>-0.235765931809657</li>\n",
       "</ol>\n",
       "</dd>\n",
       "</dl>\n"
      ],
      "text/latex": [
       "\\begin{description}\n",
       "\\item[\\$`1`] \\begin{enumerate*}\n",
       "\\item -1.392163201309\n",
       "\\item 0.0330471031565096\n",
       "\\item -0.370384338519238\n",
       "\\item 1.13264521542738\n",
       "\\item -1.08428844793763\n",
       "\\item 0.638783859436571\n",
       "\\item 1.1477914392875\n",
       "\\item 0.22412627196477\n",
       "\\item -2.44532927386386\n",
       "\\item -0.874510722999546\n",
       "\\end{enumerate*}\n",
       "\n",
       "\\item[\\$`2`] \\begin{enumerate*}\n",
       "\\item 0.935413129162043\n",
       "\\item 0.666099610738456\n",
       "\\item 0.180556139210239\n",
       "\\item 0.202733367215842\n",
       "\\item 0.0651833291631192\n",
       "\\item 0.599255173932761\n",
       "\\item 0.39936495362781\n",
       "\\item 0.451271813828498\n",
       "\\item 0.610007080016658\n",
       "\\item 0.345534256426618\n",
       "\\end{enumerate*}\n",
       "\n",
       "\\item[\\$`3`] \\begin{enumerate*}\n",
       "\\item 2.34301953881709\n",
       "\\item 0.940972694485905\n",
       "\\item 1.49427479653908\n",
       "\\item 0.223370350581036\n",
       "\\item 1.06685632265162\n",
       "\\item 1.94675852160613\n",
       "\\item 1.48971998085494\n",
       "\\item 1.93583325121203\n",
       "\\item 1.21993846500763\n",
       "\\item -0.235765931809657\n",
       "\\end{enumerate*}\n",
       "\n",
       "\\end{description}\n"
      ],
      "text/markdown": [
       "$`1`\n",
       ":   1. -1.392163201309\n",
       "2. 0.0330471031565096\n",
       "3. -0.370384338519238\n",
       "4. 1.13264521542738\n",
       "5. -1.08428844793763\n",
       "6. 0.638783859436571\n",
       "7. 1.1477914392875\n",
       "8. 0.22412627196477\n",
       "9. -2.44532927386386\n",
       "10. -0.874510722999546\n",
       "\n",
       "\n",
       "\n",
       "$`2`\n",
       ":   1. 0.935413129162043\n",
       "2. 0.666099610738456\n",
       "3. 0.180556139210239\n",
       "4. 0.202733367215842\n",
       "5. 0.0651833291631192\n",
       "6. 0.599255173932761\n",
       "7. 0.39936495362781\n",
       "8. 0.451271813828498\n",
       "9. 0.610007080016658\n",
       "10. 0.345534256426618\n",
       "\n",
       "\n",
       "\n",
       "$`3`\n",
       ":   1. 2.34301953881709\n",
       "2. 0.940972694485905\n",
       "3. 1.49427479653908\n",
       "4. 0.223370350581036\n",
       "5. 1.06685632265162\n",
       "6. 1.94675852160613\n",
       "7. 1.48971998085494\n",
       "8. 1.93583325121203\n",
       "9. 1.21993846500763\n",
       "10. -0.235765931809657\n",
       "\n",
       "\n",
       "\n",
       "\n",
       "\n"
      ],
      "text/plain": [
       "$`1`\n",
       " [1] -1.3921632  0.0330471 -0.3703843  1.1326452 -1.0842884  0.6387839\n",
       " [7]  1.1477914  0.2241263 -2.4453293 -0.8745107\n",
       "\n",
       "$`2`\n",
       " [1] 0.93541313 0.66609961 0.18055614 0.20273337 0.06518333 0.59925517\n",
       " [7] 0.39936495 0.45127181 0.61000708 0.34553426\n",
       "\n",
       "$`3`\n",
       " [1]  2.3430195  0.9409727  1.4942748  0.2233704  1.0668563  1.9467585\n",
       " [7]  1.4897200  1.9358333  1.2199385 -0.2357659\n"
      ]
     },
     "metadata": {},
     "output_type": "display_data"
    }
   ],
   "source": [
    "split(x, f)"
   ]
  },
  {
   "cell_type": "code",
   "execution_count": 29,
   "metadata": {
    "collapsed": false
   },
   "outputs": [
    {
     "data": {
      "text/html": [
       "<dl>\n",
       "\t<dt>$`1`</dt>\n",
       "\t\t<dd>-0.299028209535654</dd>\n",
       "\t<dt>$`2`</dt>\n",
       "\t\t<dd>0.445541885332204</dd>\n",
       "\t<dt>$`3`</dt>\n",
       "\t\t<dd>1.24249779899458</dd>\n",
       "</dl>\n"
      ],
      "text/latex": [
       "\\begin{description}\n",
       "\\item[\\$`1`] -0.299028209535654\n",
       "\\item[\\$`2`] 0.445541885332204\n",
       "\\item[\\$`3`] 1.24249779899458\n",
       "\\end{description}\n"
      ],
      "text/markdown": [
       "$`1`\n",
       ":   -0.299028209535654\n",
       "$`2`\n",
       ":   0.445541885332204\n",
       "$`3`\n",
       ":   1.24249779899458\n",
       "\n",
       "\n"
      ],
      "text/plain": [
       "$`1`\n",
       "[1] -0.2990282\n",
       "\n",
       "$`2`\n",
       "[1] 0.4455419\n",
       "\n",
       "$`3`\n",
       "[1] 1.242498\n"
      ]
     },
     "metadata": {},
     "output_type": "display_data"
    }
   ],
   "source": [
    "lapply(split(x, f), mean) # Similar to what tapply performed. Returns back a list"
   ]
  },
  {
   "cell_type": "markdown",
   "metadata": {},
   "source": [
    "### Splitting a data frame"
   ]
  },
  {
   "cell_type": "code",
   "execution_count": 30,
   "metadata": {
    "collapsed": true
   },
   "outputs": [],
   "source": [
    "library(datasets)"
   ]
  },
  {
   "cell_type": "code",
   "execution_count": 31,
   "metadata": {
    "collapsed": false
   },
   "outputs": [
    {
     "data": {
      "text/html": [
       "<table>\n",
       "<thead><tr><th></th><th scope=col>Ozone</th><th scope=col>Solar.R</th><th scope=col>Wind</th><th scope=col>Temp</th><th scope=col>Month</th><th scope=col>Day</th></tr></thead>\n",
       "<tbody>\n",
       "\t<tr><th scope=row>1</th><td> 41.0</td><td>190.0</td><td>  7.4</td><td> 67.0</td><td>  5.0</td><td>  1.0</td></tr>\n",
       "\t<tr><th scope=row>2</th><td> 36</td><td>118</td><td>  8</td><td> 72</td><td>  5</td><td>  2</td></tr>\n",
       "\t<tr><th scope=row>3</th><td> 12.0</td><td>149.0</td><td> 12.6</td><td> 74.0</td><td>  5.0</td><td>  3.0</td></tr>\n",
       "\t<tr><th scope=row>4</th><td> 18.0</td><td>313.0</td><td> 11.5</td><td> 62.0</td><td>  5.0</td><td>  4.0</td></tr>\n",
       "\t<tr><th scope=row>5</th><td>  NA</td><td>  NA</td><td>14.3</td><td>56.0</td><td> 5.0</td><td> 5.0</td></tr>\n",
       "\t<tr><th scope=row>6</th><td>28.0</td><td>  NA</td><td>14.9</td><td>66.0</td><td> 5.0</td><td> 6.0</td></tr>\n",
       "</tbody>\n",
       "</table>\n"
      ],
      "text/latex": [
       "\\begin{tabular}{r|llllll}\n",
       "  & Ozone & Solar.R & Wind & Temp & Month & Day\\\\\n",
       "\\hline\n",
       "\t1 &  41.0 & 190.0 &   7.4 &  67.0 &   5.0 &   1.0\\\\\n",
       "\t2 &  36 & 118 &   8 &  72 &   5 &   2\\\\\n",
       "\t3 &  12.0 & 149.0 &  12.6 &  74.0 &   5.0 &   3.0\\\\\n",
       "\t4 &  18.0 & 313.0 &  11.5 &  62.0 &   5.0 &   4.0\\\\\n",
       "\t5 &   NA &   NA & 14.3 & 56.0 &  5.0 &  5.0\\\\\n",
       "\t6 & 28.0 &   NA & 14.9 & 66.0 &  5.0 &  6.0\\\\\n",
       "\\end{tabular}\n"
      ],
      "text/plain": [
       "  Ozone Solar.R Wind Temp Month Day\n",
       "1    41     190  7.4   67     5   1\n",
       "2    36     118  8.0   72     5   2\n",
       "3    12     149 12.6   74     5   3\n",
       "4    18     313 11.5   62     5   4\n",
       "5    NA      NA 14.3   56     5   5\n",
       "6    28      NA 14.9   66     5   6"
      ]
     },
     "metadata": {},
     "output_type": "display_data"
    }
   ],
   "source": [
    "head(airquality)"
   ]
  },
  {
   "cell_type": "code",
   "execution_count": 32,
   "metadata": {
    "collapsed": false
   },
   "outputs": [],
   "source": [
    "s <- split(airquality, airquality$Month) # Create a dataframe for each month value (factor)"
   ]
  },
  {
   "cell_type": "code",
   "execution_count": 33,
   "metadata": {
    "collapsed": false
   },
   "outputs": [
    {
     "data": {
      "text/html": [
       "<dl>\n",
       "\t<dt>$`5`</dt>\n",
       "\t\t<dd><dl class=dl-horizontal>\n",
       "\t<dt>Ozone</dt>\n",
       "\t\t<dd>NA</dd>\n",
       "\t<dt>Solar.R</dt>\n",
       "\t\t<dd>NA</dd>\n",
       "\t<dt>Wind</dt>\n",
       "\t\t<dd>11.6225806451613</dd>\n",
       "</dl>\n",
       "</dd>\n",
       "\t<dt>$`6`</dt>\n",
       "\t\t<dd><dl class=dl-horizontal>\n",
       "\t<dt>Ozone</dt>\n",
       "\t\t<dd>NA</dd>\n",
       "\t<dt>Solar.R</dt>\n",
       "\t\t<dd>190.166666666667</dd>\n",
       "\t<dt>Wind</dt>\n",
       "\t\t<dd>10.2666666666667</dd>\n",
       "</dl>\n",
       "</dd>\n",
       "\t<dt>$`7`</dt>\n",
       "\t\t<dd><dl class=dl-horizontal>\n",
       "\t<dt>Ozone</dt>\n",
       "\t\t<dd>NA</dd>\n",
       "\t<dt>Solar.R</dt>\n",
       "\t\t<dd>216.483870967742</dd>\n",
       "\t<dt>Wind</dt>\n",
       "\t\t<dd>8.94193548387097</dd>\n",
       "</dl>\n",
       "</dd>\n",
       "\t<dt>$`8`</dt>\n",
       "\t\t<dd><dl class=dl-horizontal>\n",
       "\t<dt>Ozone</dt>\n",
       "\t\t<dd>NA</dd>\n",
       "\t<dt>Solar.R</dt>\n",
       "\t\t<dd>NA</dd>\n",
       "\t<dt>Wind</dt>\n",
       "\t\t<dd>8.79354838709677</dd>\n",
       "</dl>\n",
       "</dd>\n",
       "\t<dt>$`9`</dt>\n",
       "\t\t<dd><dl class=dl-horizontal>\n",
       "\t<dt>Ozone</dt>\n",
       "\t\t<dd>NA</dd>\n",
       "\t<dt>Solar.R</dt>\n",
       "\t\t<dd>167.433333333333</dd>\n",
       "\t<dt>Wind</dt>\n",
       "\t\t<dd>10.18</dd>\n",
       "</dl>\n",
       "</dd>\n",
       "</dl>\n"
      ],
      "text/latex": [
       "\\begin{description}\n",
       "\\item[\\$`5`] \\begin{description*}\n",
       "\\item[Ozone] NA\n",
       "\\item[Solar.R] NA\n",
       "\\item[Wind] 11.6225806451613\n",
       "\\end{description*}\n",
       "\n",
       "\\item[\\$`6`] \\begin{description*}\n",
       "\\item[Ozone] NA\n",
       "\\item[Solar.R] 190.166666666667\n",
       "\\item[Wind] 10.2666666666667\n",
       "\\end{description*}\n",
       "\n",
       "\\item[\\$`7`] \\begin{description*}\n",
       "\\item[Ozone] NA\n",
       "\\item[Solar.R] 216.483870967742\n",
       "\\item[Wind] 8.94193548387097\n",
       "\\end{description*}\n",
       "\n",
       "\\item[\\$`8`] \\begin{description*}\n",
       "\\item[Ozone] NA\n",
       "\\item[Solar.R] NA\n",
       "\\item[Wind] 8.79354838709677\n",
       "\\end{description*}\n",
       "\n",
       "\\item[\\$`9`] \\begin{description*}\n",
       "\\item[Ozone] NA\n",
       "\\item[Solar.R] 167.433333333333\n",
       "\\item[Wind] 10.18\n",
       "\\end{description*}\n",
       "\n",
       "\\end{description}\n"
      ],
      "text/markdown": [
       "$`5`\n",
       ":   Ozone\n",
       ":   NASolar.R\n",
       ":   NAWind\n",
       ":   11.6225806451613\n",
       "\n",
       "\n",
       "$`6`\n",
       ":   Ozone\n",
       ":   NASolar.R\n",
       ":   190.166666666667Wind\n",
       ":   10.2666666666667\n",
       "\n",
       "\n",
       "$`7`\n",
       ":   Ozone\n",
       ":   NASolar.R\n",
       ":   216.483870967742Wind\n",
       ":   8.94193548387097\n",
       "\n",
       "\n",
       "$`8`\n",
       ":   Ozone\n",
       ":   NASolar.R\n",
       ":   NAWind\n",
       ":   8.79354838709677\n",
       "\n",
       "\n",
       "$`9`\n",
       ":   Ozone\n",
       ":   NASolar.R\n",
       ":   167.433333333333Wind\n",
       ":   10.18\n",
       "\n",
       "\n",
       "\n",
       "\n"
      ],
      "text/plain": [
       "$`5`\n",
       "   Ozone  Solar.R     Wind \n",
       "      NA       NA 11.62258 \n",
       "\n",
       "$`6`\n",
       "    Ozone   Solar.R      Wind \n",
       "       NA 190.16667  10.26667 \n",
       "\n",
       "$`7`\n",
       "     Ozone    Solar.R       Wind \n",
       "        NA 216.483871   8.941935 \n",
       "\n",
       "$`8`\n",
       "   Ozone  Solar.R     Wind \n",
       "      NA       NA 8.793548 \n",
       "\n",
       "$`9`\n",
       "   Ozone  Solar.R     Wind \n",
       "      NA 167.4333  10.1800 \n"
      ]
     },
     "metadata": {},
     "output_type": "display_data"
    }
   ],
   "source": [
    "lapply(s, function(x) colMeans(x[, c(\"Ozone\", \"Solar.R\", \"Wind\")]))"
   ]
  },
  {
   "cell_type": "code",
   "execution_count": 34,
   "metadata": {
    "collapsed": false
   },
   "outputs": [
    {
     "data": {
      "text/html": [
       "<table>\n",
       "<thead><tr><th></th><th scope=col>5</th><th scope=col>6</th><th scope=col>7</th><th scope=col>8</th><th scope=col>9</th></tr></thead>\n",
       "<tbody>\n",
       "\t<tr><th scope=row>Ozone</th><td>23.61538</td><td>29.44444</td><td>59.11538</td><td>59.96154</td><td>31.44828</td></tr>\n",
       "\t<tr><th scope=row>Solar.R</th><td>181.2963</td><td>190.1667</td><td>216.4839</td><td>171.8571</td><td>167.4333</td></tr>\n",
       "\t<tr><th scope=row>Wind</th><td>11.622581</td><td>10.266667</td><td> 8.941935</td><td> 8.793548</td><td>10.180000</td></tr>\n",
       "</tbody>\n",
       "</table>\n"
      ],
      "text/latex": [
       "\\begin{tabular}{r|lllll}\n",
       "  & 5 & 6 & 7 & 8 & 9\\\\\n",
       "\\hline\n",
       "\tOzone & 23.61538 & 29.44444 & 59.11538 & 59.96154 & 31.44828\\\\\n",
       "\tSolar.R & 181.2963 & 190.1667 & 216.4839 & 171.8571 & 167.4333\\\\\n",
       "\tWind & 11.622581 & 10.266667 &  8.941935 &  8.793548 & 10.180000\\\\\n",
       "\\end{tabular}\n"
      ],
      "text/markdown": [
       "1. 23.6153846153846\n",
       "2. 181.296296296296\n",
       "3. 11.6225806451613\n",
       "4. 29.4444444444444\n",
       "5. 190.166666666667\n",
       "6. 10.2666666666667\n",
       "7. 59.1153846153846\n",
       "8. 216.483870967742\n",
       "9. 8.94193548387097\n",
       "10. 59.9615384615385\n",
       "11. 171.857142857143\n",
       "12. 8.79354838709677\n",
       "13. 31.448275862069\n",
       "14. 167.433333333333\n",
       "15. 10.18\n",
       "\n",
       "\n"
      ],
      "text/plain": [
       "                5         6          7          8         9\n",
       "Ozone    23.61538  29.44444  59.115385  59.961538  31.44828\n",
       "Solar.R 181.29630 190.16667 216.483871 171.857143 167.43333\n",
       "Wind     11.62258  10.26667   8.941935   8.793548  10.18000"
      ]
     },
     "metadata": {},
     "output_type": "display_data"
    }
   ],
   "source": [
    "sout <- sapply(s, function(x) colMeans(x[, c(\"Ozone\", \"Solar.R\", \"Wind\")], na.rm = TRUE))\n",
    "sout"
   ]
  },
  {
   "cell_type": "code",
   "execution_count": 35,
   "metadata": {
    "collapsed": false
   },
   "outputs": [
    {
     "data": {
      "text/html": [
       "-0.935904632162811"
      ],
      "text/latex": [
       "-0.935904632162811"
      ],
      "text/markdown": [
       "-0.935904632162811"
      ],
      "text/plain": [
       "[1] -0.9359046"
      ]
     },
     "metadata": {},
     "output_type": "display_data"
    }
   ],
   "source": [
    "cor(sout[\"Ozone\", ], sout[\"Wind\", ])"
   ]
  },
  {
   "cell_type": "markdown",
   "metadata": {},
   "source": [
    "## Debugging\n",
    "\n",
    "Indication that something is wrong\n",
    "- message : generic notification\n",
    "- warning : indication that something is wrong but not fatal\n",
    "- error : fatal error. execution stops\n",
    "- condition : every point above is a condition. this is something programmers use to create own conditions"
   ]
  },
  {
   "cell_type": "code",
   "execution_count": 36,
   "metadata": {
    "collapsed": false
   },
   "outputs": [
    {
     "name": "stderr",
     "output_type": "stream",
     "text": [
      "Warning message:\n",
      "In log(-1): NaNs produced"
     ]
    },
    {
     "data": {
      "text/html": [
       "NaN"
      ],
      "text/latex": [
       "NaN"
      ],
      "text/markdown": [
       "NaN"
      ],
      "text/plain": [
       "[1] NaN"
      ]
     },
     "metadata": {},
     "output_type": "display_data"
    }
   ],
   "source": [
    "log(-1) # Warning, you get a number back, NaN"
   ]
  },
  {
   "cell_type": "code",
   "execution_count": 37,
   "metadata": {
    "collapsed": false
   },
   "outputs": [],
   "source": [
    "printmsg <- function(x) {\n",
    "    if (x > 0) {\n",
    "        print(\"x is greater than 0\")\n",
    "    } \n",
    "    else {\n",
    "        print(\"x is less or equal to 0\")\n",
    "    }\n",
    "    invisible(x)\n",
    "}\n",
    "\n",
    "printmsg2 <- function(x) {\n",
    "    if (is.na(x)) {\n",
    "        print(\"x is a missing values\")\n",
    "    }\n",
    "    else if (x > 0) {\n",
    "        print(\"x is greater than 0\")\n",
    "    } \n",
    "    else {\n",
    "        print(\"x is less or equal to 0\")\n",
    "    }\n",
    "    invisible(x) # Does not print out the returned value\n",
    "}"
   ]
  },
  {
   "cell_type": "code",
   "execution_count": 38,
   "metadata": {
    "collapsed": false
   },
   "outputs": [
    {
     "name": "stdout",
     "output_type": "stream",
     "text": [
      "[1] \"x is greater than 0\"\n"
     ]
    },
    {
     "ename": "ERROR",
     "evalue": "Error in if (x > 0) {: missing value where TRUE/FALSE needed\n",
     "output_type": "error",
     "traceback": [
      "Error in if (x > 0) {: missing value where TRUE/FALSE needed\nTraceback:\n",
      "1. printmsg(NA)"
     ]
    }
   ],
   "source": [
    "printmsg(x = 3)\n",
    "printmsg(NA) # We get an error now. Execution stops"
   ]
  },
  {
   "cell_type": "code",
   "execution_count": 39,
   "metadata": {
    "collapsed": false
   },
   "outputs": [
    {
     "name": "stdout",
     "output_type": "stream",
     "text": [
      "[1] \"x is a missing values\"\n"
     ]
    }
   ],
   "source": [
    "printmsg2(NA)"
   ]
  },
  {
   "cell_type": "code",
   "execution_count": 40,
   "metadata": {
    "collapsed": false
   },
   "outputs": [
    {
     "name": "stderr",
     "output_type": "stream",
     "text": [
      "Warning message:\n",
      "In log(-1): NaNs produced"
     ]
    },
    {
     "name": "stdout",
     "output_type": "stream",
     "text": [
      "[1] \"x is a missing values\"\n"
     ]
    }
   ],
   "source": [
    "# This is just an example\n",
    "x <- log(-1)\n",
    "printmsg2(x) # The function will now give you an answer, but log(-1) is not a good input."
   ]
  },
  {
   "cell_type": "markdown",
   "metadata": {},
   "source": [
    "### Debugging tools in R\n",
    "\n",
    "- traceback: prints out the function call stack after an error occurs. does nothing if there is no error.\n",
    "- debug: flags a function for a \"debug\" mode which allows you to step through execution of a function one line at the time.\n",
    "- browser: \n",
    "- trace: allows you to insert debuggin code into a function a specific place\n",
    "- recover: \n",
    "\n",
    "### Using the tools"
   ]
  },
  {
   "cell_type": "code",
   "execution_count": 41,
   "metadata": {
    "collapsed": false
   },
   "outputs": [
    {
     "ename": "ERROR",
     "evalue": "Error in mean(r): object 'r' not found\n",
     "output_type": "error",
     "traceback": [
      "Error in mean(r): object 'r' not found\nTraceback:\n",
      "1. mean(r)"
     ]
    }
   ],
   "source": [
    "mean(r)\n",
    "traceback() # Shows you the most recent error"
   ]
  },
  {
   "cell_type": "code",
   "execution_count": 42,
   "metadata": {
    "collapsed": false
   },
   "outputs": [
    {
     "ename": "ERROR",
     "evalue": "Error in eval(expr, envir, enclos): object 'y1' not found\n",
     "output_type": "error",
     "traceback": [
      "Error in eval(expr, envir, enclos): object 'y1' not found\nTraceback:\n",
      "1. lm(y1 ~ x2)",
      "2. eval(mf, parent.frame())",
      "3. eval(expr, envir, enclos)",
      "4. stats::model.frame(formula = y1 ~ x2, drop.unused.levels = TRUE)",
      "5. model.frame.default(formula = y1 ~ x2, drop.unused.levels = TRUE)",
      "6. eval(predvars, data, env)",
      "7. eval(expr, envir, enclos)"
     ]
    }
   ],
   "source": [
    "lm(y1 ~ x2)\n",
    "traceback()"
   ]
  },
  {
   "cell_type": "code",
   "execution_count": 43,
   "metadata": {
    "collapsed": false
   },
   "outputs": [
    {
     "ename": "ERROR",
     "evalue": "Error in eval(expr, envir, enclos): object 'y1' not found\n",
     "output_type": "error",
     "traceback": [
      "Error in eval(expr, envir, enclos): object 'y1' not found\nTraceback:\n",
      "1. lm(y1 ~ x2)",
      "2. eval(mf, parent.frame())",
      "3. eval(expr, envir, enclos)",
      "4. stats::model.frame(formula = y1 ~ x2, drop.unused.levels = TRUE)",
      "5. model.frame.default(formula = y1 ~ x2, drop.unused.levels = TRUE)",
      "6. eval(predvars, data, env)",
      "7. eval(expr, envir, enclos)"
     ]
    }
   ],
   "source": [
    "lm(y1 ~ x2)\n",
    "debug(lm)"
   ]
  },
  {
   "cell_type": "code",
   "execution_count": 44,
   "metadata": {
    "collapsed": true
   },
   "outputs": [],
   "source": [
    "double <- function(x) return(x1**2)\n",
    "\n",
    "addtwo <- function(x, y) {\n",
    "    z <- x + 2*double(y)\n",
    "    result <- x. + y\n",
    "    return(result)\n",
    "} "
   ]
  },
  {
   "cell_type": "code",
   "execution_count": 45,
   "metadata": {
    "collapsed": false
   },
   "outputs": [
    {
     "name": "stdout",
     "output_type": "stream",
     "text": [
      "debugging in: addtwo(1, 2)\n",
      "debug at <text>#3: {\n",
      "    z <- x + 2 * double(y)\n",
      "    result <- x. + y\n",
      "    return(result)\n",
      "}\n",
      "debug at <text>#4: z <- x + 2 * double(y)\n"
     ]
    },
    {
     "ename": "ERROR",
     "evalue": "Error in double(y): object 'x1' not found\n",
     "output_type": "error",
     "traceback": [
      "Error in double(y): object 'x1' not found\nTraceback:\n",
      "1. addtwo(1, 2)",
      "2. double(y)   # at line 4 of file <text>"
     ]
    }
   ],
   "source": [
    "debug(addtwo)\n",
    "addtwo(1, 2) # Will find the first error in the double function"
   ]
  },
  {
   "cell_type": "code",
   "execution_count": 46,
   "metadata": {
    "collapsed": false
   },
   "outputs": [
    {
     "name": "stderr",
     "output_type": "stream",
     "text": [
      "Warning message:\n",
      "In file(file, \"rt\"): cannot open file 'nosuchfile': No such file or directory"
     ]
    },
    {
     "ename": "ERROR",
     "evalue": "Error in file(file, \"rt\"): cannot open the connection\n",
     "output_type": "error",
     "traceback": [
      "Error in file(file, \"rt\"): cannot open the connection\nTraceback:\n",
      "1. read.csv(\"nosuchfile\")",
      "2. read.table(file = file, header = header, sep = sep, quote = quote, \n .     dec = dec, fill = fill, comment.char = comment.char, ...)",
      "3. file(file, \"rt\")"
     ]
    }
   ],
   "source": [
    "options(error = recover)\n",
    "read.csv(\"nosuchfile\") # Will show where the error happens"
   ]
  }
 ],
 "metadata": {
  "anaconda-cloud": {},
  "kernelspec": {
   "display_name": "R",
   "language": "R",
   "name": "ir"
  },
  "language_info": {
   "codemirror_mode": "r",
   "file_extension": ".r",
   "mimetype": "text/x-r-source",
   "name": "R",
   "pygments_lexer": "r",
   "version": "3.3.1"
  }
 },
 "nbformat": 4,
 "nbformat_minor": 0
}
